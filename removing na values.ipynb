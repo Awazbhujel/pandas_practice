{
  "nbformat": 4,
  "nbformat_minor": 0,
  "metadata": {
    "colab": {
      "name": "Untitled76.ipynb",
      "provenance": [],
      "collapsed_sections": [],
      "authorship_tag": "ABX9TyMGsedvWsgOOvBWs6m5wSn4"
    },
    "kernelspec": {
      "name": "python3",
      "display_name": "Python 3"
    },
    "language_info": {
      "name": "python"
    }
  },
  "cells": [
    {
      "cell_type": "code",
      "execution_count": null,
      "metadata": {
        "id": "TRBtgEygnj4q"
      },
      "outputs": [],
      "source": [
        "#Detecting all na_values\n",
        "missing_values = [\"N/a\",\"na\",np.nan]\n",
        "df = pd.read_csv(\"/content/movies.csv\",na_values=missing_values)\n",
        "#deleting navaues\n",
        "df.dropna()#not a good practice to delete na values\n",
        "df.dropna(how=\"all\") #deletes all na values if all the rows is null\n",
        "df.dropna(method='ffill') #front fill\n",
        "df.dropna(method='bfill') #back fill\n",
        "df.interpolate() #fill the values with (a+b)/2"
      ]
    }
  ]
}
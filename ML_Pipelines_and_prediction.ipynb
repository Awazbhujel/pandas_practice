{
  "nbformat": 4,
  "nbformat_minor": 0,
  "metadata": {
    "colab": {
      "provenance": []
    },
    "kernelspec": {
      "name": "python3",
      "display_name": "Python 3"
    },
    "language_info": {
      "name": "python"
    }
  },
  "cells": [
    {
      "cell_type": "code",
      "source": [
        "import pandas as pd\n",
        "import numpy as np\n",
        "from sklearn.model_selection import train_test_split\n",
        "from sklearn.compose import ColumnTransformer\n",
        "from sklearn.preprocessing import StandardScaler, OneHotEncoder, OrdinalEncoder\n",
        "from sklearn.impute import SimpleImputer\n",
        "from sklearn.pipeline import Pipeline\n",
        "from sklearn.ensemble import RandomForestClassifier\n",
        "from sklearn.metrics import accuracy_score\n",
        "from sklearn.model_selection import GridSearchCV\n",
        "from sklearn.model_selection import cross_val_score"
      ],
      "metadata": {
        "id": "tO_9xjKSEqf0"
      },
      "execution_count": 177,
      "outputs": []
    },
    {
      "cell_type": "code",
      "source": [
        "import warnings\n",
        "warnings.filterwarnings(\"ignore\")"
      ],
      "metadata": {
        "id": "_vrpzyvfNEvM"
      },
      "execution_count": 178,
      "outputs": []
    },
    {
      "cell_type": "code",
      "source": [
        "df = pd.read_csv(\"/content/customer.csv\")"
      ],
      "metadata": {
        "id": "721HO6s_8ITM"
      },
      "execution_count": 193,
      "outputs": []
    },
    {
      "cell_type": "code",
      "source": [
        "df.head()"
      ],
      "metadata": {
        "colab": {
          "base_uri": "https://localhost:8080/",
          "height": 206
        },
        "id": "7rmcVPTV8MId",
        "outputId": "ee240df1-1ad3-4a0e-976b-0ec62d98da0e"
      },
      "execution_count": 180,
      "outputs": [
        {
          "output_type": "execute_result",
          "data": {
            "text/plain": [
              "   age  gender   review education purchased\n",
              "0   30  Female  Average    School        No\n",
              "1   68  Female     Poor        UG        No\n",
              "2   70  Female     Good        PG        No\n",
              "3   72  Female     Good        PG        No\n",
              "4   16  Female  Average        UG        No"
            ],
            "text/html": [
              "\n",
              "  <div id=\"df-070d891e-9c27-43ff-a9b7-cbaffa0bd438\" class=\"colab-df-container\">\n",
              "    <div>\n",
              "<style scoped>\n",
              "    .dataframe tbody tr th:only-of-type {\n",
              "        vertical-align: middle;\n",
              "    }\n",
              "\n",
              "    .dataframe tbody tr th {\n",
              "        vertical-align: top;\n",
              "    }\n",
              "\n",
              "    .dataframe thead th {\n",
              "        text-align: right;\n",
              "    }\n",
              "</style>\n",
              "<table border=\"1\" class=\"dataframe\">\n",
              "  <thead>\n",
              "    <tr style=\"text-align: right;\">\n",
              "      <th></th>\n",
              "      <th>age</th>\n",
              "      <th>gender</th>\n",
              "      <th>review</th>\n",
              "      <th>education</th>\n",
              "      <th>purchased</th>\n",
              "    </tr>\n",
              "  </thead>\n",
              "  <tbody>\n",
              "    <tr>\n",
              "      <th>0</th>\n",
              "      <td>30</td>\n",
              "      <td>Female</td>\n",
              "      <td>Average</td>\n",
              "      <td>School</td>\n",
              "      <td>No</td>\n",
              "    </tr>\n",
              "    <tr>\n",
              "      <th>1</th>\n",
              "      <td>68</td>\n",
              "      <td>Female</td>\n",
              "      <td>Poor</td>\n",
              "      <td>UG</td>\n",
              "      <td>No</td>\n",
              "    </tr>\n",
              "    <tr>\n",
              "      <th>2</th>\n",
              "      <td>70</td>\n",
              "      <td>Female</td>\n",
              "      <td>Good</td>\n",
              "      <td>PG</td>\n",
              "      <td>No</td>\n",
              "    </tr>\n",
              "    <tr>\n",
              "      <th>3</th>\n",
              "      <td>72</td>\n",
              "      <td>Female</td>\n",
              "      <td>Good</td>\n",
              "      <td>PG</td>\n",
              "      <td>No</td>\n",
              "    </tr>\n",
              "    <tr>\n",
              "      <th>4</th>\n",
              "      <td>16</td>\n",
              "      <td>Female</td>\n",
              "      <td>Average</td>\n",
              "      <td>UG</td>\n",
              "      <td>No</td>\n",
              "    </tr>\n",
              "  </tbody>\n",
              "</table>\n",
              "</div>\n",
              "    <div class=\"colab-df-buttons\">\n",
              "\n",
              "  <div class=\"colab-df-container\">\n",
              "    <button class=\"colab-df-convert\" onclick=\"convertToInteractive('df-070d891e-9c27-43ff-a9b7-cbaffa0bd438')\"\n",
              "            title=\"Convert this dataframe to an interactive table.\"\n",
              "            style=\"display:none;\">\n",
              "\n",
              "  <svg xmlns=\"http://www.w3.org/2000/svg\" height=\"24px\" viewBox=\"0 -960 960 960\">\n",
              "    <path d=\"M120-120v-720h720v720H120Zm60-500h600v-160H180v160Zm220 220h160v-160H400v160Zm0 220h160v-160H400v160ZM180-400h160v-160H180v160Zm440 0h160v-160H620v160ZM180-180h160v-160H180v160Zm440 0h160v-160H620v160Z\"/>\n",
              "  </svg>\n",
              "    </button>\n",
              "\n",
              "  <style>\n",
              "    .colab-df-container {\n",
              "      display:flex;\n",
              "      gap: 12px;\n",
              "    }\n",
              "\n",
              "    .colab-df-convert {\n",
              "      background-color: #E8F0FE;\n",
              "      border: none;\n",
              "      border-radius: 50%;\n",
              "      cursor: pointer;\n",
              "      display: none;\n",
              "      fill: #1967D2;\n",
              "      height: 32px;\n",
              "      padding: 0 0 0 0;\n",
              "      width: 32px;\n",
              "    }\n",
              "\n",
              "    .colab-df-convert:hover {\n",
              "      background-color: #E2EBFA;\n",
              "      box-shadow: 0px 1px 2px rgba(60, 64, 67, 0.3), 0px 1px 3px 1px rgba(60, 64, 67, 0.15);\n",
              "      fill: #174EA6;\n",
              "    }\n",
              "\n",
              "    .colab-df-buttons div {\n",
              "      margin-bottom: 4px;\n",
              "    }\n",
              "\n",
              "    [theme=dark] .colab-df-convert {\n",
              "      background-color: #3B4455;\n",
              "      fill: #D2E3FC;\n",
              "    }\n",
              "\n",
              "    [theme=dark] .colab-df-convert:hover {\n",
              "      background-color: #434B5C;\n",
              "      box-shadow: 0px 1px 3px 1px rgba(0, 0, 0, 0.15);\n",
              "      filter: drop-shadow(0px 1px 2px rgba(0, 0, 0, 0.3));\n",
              "      fill: #FFFFFF;\n",
              "    }\n",
              "  </style>\n",
              "\n",
              "    <script>\n",
              "      const buttonEl =\n",
              "        document.querySelector('#df-070d891e-9c27-43ff-a9b7-cbaffa0bd438 button.colab-df-convert');\n",
              "      buttonEl.style.display =\n",
              "        google.colab.kernel.accessAllowed ? 'block' : 'none';\n",
              "\n",
              "      async function convertToInteractive(key) {\n",
              "        const element = document.querySelector('#df-070d891e-9c27-43ff-a9b7-cbaffa0bd438');\n",
              "        const dataTable =\n",
              "          await google.colab.kernel.invokeFunction('convertToInteractive',\n",
              "                                                    [key], {});\n",
              "        if (!dataTable) return;\n",
              "\n",
              "        const docLinkHtml = 'Like what you see? Visit the ' +\n",
              "          '<a target=\"_blank\" href=https://colab.research.google.com/notebooks/data_table.ipynb>data table notebook</a>'\n",
              "          + ' to learn more about interactive tables.';\n",
              "        element.innerHTML = '';\n",
              "        dataTable['output_type'] = 'display_data';\n",
              "        await google.colab.output.renderOutput(dataTable, element);\n",
              "        const docLink = document.createElement('div');\n",
              "        docLink.innerHTML = docLinkHtml;\n",
              "        element.appendChild(docLink);\n",
              "      }\n",
              "    </script>\n",
              "  </div>\n",
              "\n",
              "\n",
              "<div id=\"df-cc2d66b9-b08d-4ad8-a22d-94a3a3b5ebb3\">\n",
              "  <button class=\"colab-df-quickchart\" onclick=\"quickchart('df-cc2d66b9-b08d-4ad8-a22d-94a3a3b5ebb3')\"\n",
              "            title=\"Suggest charts\"\n",
              "            style=\"display:none;\">\n",
              "\n",
              "<svg xmlns=\"http://www.w3.org/2000/svg\" height=\"24px\"viewBox=\"0 0 24 24\"\n",
              "     width=\"24px\">\n",
              "    <g>\n",
              "        <path d=\"M19 3H5c-1.1 0-2 .9-2 2v14c0 1.1.9 2 2 2h14c1.1 0 2-.9 2-2V5c0-1.1-.9-2-2-2zM9 17H7v-7h2v7zm4 0h-2V7h2v10zm4 0h-2v-4h2v4z\"/>\n",
              "    </g>\n",
              "</svg>\n",
              "  </button>\n",
              "\n",
              "<style>\n",
              "  .colab-df-quickchart {\n",
              "      --bg-color: #E8F0FE;\n",
              "      --fill-color: #1967D2;\n",
              "      --hover-bg-color: #E2EBFA;\n",
              "      --hover-fill-color: #174EA6;\n",
              "      --disabled-fill-color: #AAA;\n",
              "      --disabled-bg-color: #DDD;\n",
              "  }\n",
              "\n",
              "  [theme=dark] .colab-df-quickchart {\n",
              "      --bg-color: #3B4455;\n",
              "      --fill-color: #D2E3FC;\n",
              "      --hover-bg-color: #434B5C;\n",
              "      --hover-fill-color: #FFFFFF;\n",
              "      --disabled-bg-color: #3B4455;\n",
              "      --disabled-fill-color: #666;\n",
              "  }\n",
              "\n",
              "  .colab-df-quickchart {\n",
              "    background-color: var(--bg-color);\n",
              "    border: none;\n",
              "    border-radius: 50%;\n",
              "    cursor: pointer;\n",
              "    display: none;\n",
              "    fill: var(--fill-color);\n",
              "    height: 32px;\n",
              "    padding: 0;\n",
              "    width: 32px;\n",
              "  }\n",
              "\n",
              "  .colab-df-quickchart:hover {\n",
              "    background-color: var(--hover-bg-color);\n",
              "    box-shadow: 0 1px 2px rgba(60, 64, 67, 0.3), 0 1px 3px 1px rgba(60, 64, 67, 0.15);\n",
              "    fill: var(--button-hover-fill-color);\n",
              "  }\n",
              "\n",
              "  .colab-df-quickchart-complete:disabled,\n",
              "  .colab-df-quickchart-complete:disabled:hover {\n",
              "    background-color: var(--disabled-bg-color);\n",
              "    fill: var(--disabled-fill-color);\n",
              "    box-shadow: none;\n",
              "  }\n",
              "\n",
              "  .colab-df-spinner {\n",
              "    border: 2px solid var(--fill-color);\n",
              "    border-color: transparent;\n",
              "    border-bottom-color: var(--fill-color);\n",
              "    animation:\n",
              "      spin 1s steps(1) infinite;\n",
              "  }\n",
              "\n",
              "  @keyframes spin {\n",
              "    0% {\n",
              "      border-color: transparent;\n",
              "      border-bottom-color: var(--fill-color);\n",
              "      border-left-color: var(--fill-color);\n",
              "    }\n",
              "    20% {\n",
              "      border-color: transparent;\n",
              "      border-left-color: var(--fill-color);\n",
              "      border-top-color: var(--fill-color);\n",
              "    }\n",
              "    30% {\n",
              "      border-color: transparent;\n",
              "      border-left-color: var(--fill-color);\n",
              "      border-top-color: var(--fill-color);\n",
              "      border-right-color: var(--fill-color);\n",
              "    }\n",
              "    40% {\n",
              "      border-color: transparent;\n",
              "      border-right-color: var(--fill-color);\n",
              "      border-top-color: var(--fill-color);\n",
              "    }\n",
              "    60% {\n",
              "      border-color: transparent;\n",
              "      border-right-color: var(--fill-color);\n",
              "    }\n",
              "    80% {\n",
              "      border-color: transparent;\n",
              "      border-right-color: var(--fill-color);\n",
              "      border-bottom-color: var(--fill-color);\n",
              "    }\n",
              "    90% {\n",
              "      border-color: transparent;\n",
              "      border-bottom-color: var(--fill-color);\n",
              "    }\n",
              "  }\n",
              "</style>\n",
              "\n",
              "  <script>\n",
              "    async function quickchart(key) {\n",
              "      const quickchartButtonEl =\n",
              "        document.querySelector('#' + key + ' button');\n",
              "      quickchartButtonEl.disabled = true;  // To prevent multiple clicks.\n",
              "      quickchartButtonEl.classList.add('colab-df-spinner');\n",
              "      try {\n",
              "        const charts = await google.colab.kernel.invokeFunction(\n",
              "            'suggestCharts', [key], {});\n",
              "      } catch (error) {\n",
              "        console.error('Error during call to suggestCharts:', error);\n",
              "      }\n",
              "      quickchartButtonEl.classList.remove('colab-df-spinner');\n",
              "      quickchartButtonEl.classList.add('colab-df-quickchart-complete');\n",
              "    }\n",
              "    (() => {\n",
              "      let quickchartButtonEl =\n",
              "        document.querySelector('#df-cc2d66b9-b08d-4ad8-a22d-94a3a3b5ebb3 button');\n",
              "      quickchartButtonEl.style.display =\n",
              "        google.colab.kernel.accessAllowed ? 'block' : 'none';\n",
              "    })();\n",
              "  </script>\n",
              "</div>\n",
              "\n",
              "    </div>\n",
              "  </div>\n"
            ],
            "application/vnd.google.colaboratory.intrinsic+json": {
              "type": "dataframe",
              "variable_name": "df",
              "summary": "{\n  \"name\": \"df\",\n  \"rows\": 50,\n  \"fields\": [\n    {\n      \"column\": \"age\",\n      \"properties\": {\n        \"dtype\": \"number\",\n        \"std\": 25,\n        \"min\": 15,\n        \"max\": 98,\n        \"num_unique_values\": 41,\n        \"samples\": [\n          83,\n          15,\n          65\n        ],\n        \"semantic_type\": \"\",\n        \"description\": \"\"\n      }\n    },\n    {\n      \"column\": \"gender\",\n      \"properties\": {\n        \"dtype\": \"category\",\n        \"num_unique_values\": 2,\n        \"samples\": [\n          \"Male\",\n          \"Female\"\n        ],\n        \"semantic_type\": \"\",\n        \"description\": \"\"\n      }\n    },\n    {\n      \"column\": \"review\",\n      \"properties\": {\n        \"dtype\": \"category\",\n        \"num_unique_values\": 3,\n        \"samples\": [\n          \"Average\",\n          \"Poor\"\n        ],\n        \"semantic_type\": \"\",\n        \"description\": \"\"\n      }\n    },\n    {\n      \"column\": \"education\",\n      \"properties\": {\n        \"dtype\": \"category\",\n        \"num_unique_values\": 3,\n        \"samples\": [\n          \"School\",\n          \"UG\"\n        ],\n        \"semantic_type\": \"\",\n        \"description\": \"\"\n      }\n    },\n    {\n      \"column\": \"purchased\",\n      \"properties\": {\n        \"dtype\": \"category\",\n        \"num_unique_values\": 2,\n        \"samples\": [\n          \"Yes\",\n          \"No\"\n        ],\n        \"semantic_type\": \"\",\n        \"description\": \"\"\n      }\n    }\n  ]\n}"
            }
          },
          "metadata": {},
          "execution_count": 180
        }
      ]
    },
    {
      "cell_type": "code",
      "source": [
        "df.shape"
      ],
      "metadata": {
        "colab": {
          "base_uri": "https://localhost:8080/"
        },
        "id": "lnUrs3r2i8Ag",
        "outputId": "9415e19f-fff8-4219-93c3-27335cbbff3d"
      },
      "execution_count": 181,
      "outputs": [
        {
          "output_type": "execute_result",
          "data": {
            "text/plain": [
              "(50, 5)"
            ]
          },
          "metadata": {},
          "execution_count": 181
        }
      ]
    },
    {
      "cell_type": "code",
      "source": [
        "X = df[['age','gender','review','education']]\n",
        "y = df[['purchased']]"
      ],
      "metadata": {
        "id": "FXsZjLKf--Qm"
      },
      "execution_count": 194,
      "outputs": []
    },
    {
      "cell_type": "markdown",
      "source": [
        "**Label Encoder**"
      ],
      "metadata": {
        "id": "q1ca6X9mLeQS"
      }
    },
    {
      "cell_type": "code",
      "source": [
        "#No=0 and Yes=1\n",
        "from sklearn.preprocessing import LabelEncoder\n",
        "\n",
        "label_encode = LabelEncoder()\n",
        "y_encode=label_encode.fit_transform(y)\n",
        "y_encode"
      ],
      "metadata": {
        "colab": {
          "base_uri": "https://localhost:8080/"
        },
        "id": "IzS2XXHrMVmZ",
        "outputId": "82a5d154-a699-4764-f557-fdba070a9075"
      },
      "execution_count": 195,
      "outputs": [
        {
          "output_type": "execute_result",
          "data": {
            "text/plain": [
              "array([0, 0, 0, 0, 0, 1, 0, 1, 0, 1, 1, 1, 0, 0, 1, 0, 1, 1, 0, 1, 1, 0,\n",
              "       1, 0, 1, 0, 0, 0, 0, 1, 0, 1, 1, 1, 0, 1, 1, 1, 0, 0, 0, 1, 1, 0,\n",
              "       0, 1, 0, 1, 1, 0])"
            ]
          },
          "metadata": {},
          "execution_count": 195
        }
      ]
    },
    {
      "cell_type": "markdown",
      "source": [
        "**Machine Learning Preprocessing  Pipelines**\n",
        "\n",
        "\n"
      ],
      "metadata": {
        "id": "n7Ju-2oejQU_"
      }
    },
    {
      "cell_type": "code",
      "source": [
        "num_cols = ['age']\n",
        "cat_col = ['gender','review','education']\n",
        "\n",
        "review_cat = ['Poor','Average',\"Good\"]\n",
        "edu_cat = ['School','UG','PG']\n",
        "\n",
        "X_train,X_test,y_train,y_test = train_test_split(X,y_encode,test_size=0.2,random_state=42)\n",
        "\n",
        "#pipelines for numerical features\n",
        "num_pipe = Pipeline(steps=[\n",
        "    (\"imputer\",SimpleImputer(strategy=\"mean\")),\n",
        "    (\"Stdscalar\",StandardScaler())\n",
        "])\n",
        "\n",
        "\n",
        "preprocess = ColumnTransformer(transformers=[\n",
        "    (\"num\",num_pipe,num_cols),\n",
        "    (\"cat_col\",OneHotEncoder(drop=\"first\",handle_unknown=\"ignore\"),[feat for feat in cat_col if feat not in ['review','education']]),\n",
        "    (\"ordinal\",OrdinalEncoder(categories=[review_cat,edu_cat]),['review','education'])\n",
        "],remainder=\"passthrough\")\n",
        "\n",
        "pipes = Pipeline(steps=[\n",
        "    (\"Preprocessor\",preprocess),\n",
        "])\n",
        "\n",
        "# Fit and transform training data\n",
        "X_train_transform = pipes.fit_transform(X_train)\n",
        "\n",
        "# Transform test data (do not fit again to prevent data leakage)\n",
        "X_test_transform= pipes.transform(X_test)\n",
        "\n",
        "#using decisiontreeclassifier\n",
        "clf1 = DecisionTreeClassifier(max_depth=7,min_samples_leaf=1,min_samples_split=2)\n",
        "clf1.fit(X_train_transform,y_train)\n",
        "\n",
        "#prediction\n",
        "y_pred1=clf1.predict(X_test_transform)\n",
        "\n",
        "#find the accuracy\n",
        "accuracy_score(y_test,y_pred1)*100\n",
        "\n",
        "#crossval score\n",
        "np.mean(cross_val_score(clf1,X_train_transform,y_train,cv=6))*100\n"
      ],
      "metadata": {
        "colab": {
          "base_uri": "https://localhost:8080/"
        },
        "id": "XM14prjyOFyK",
        "outputId": "7427addd-d991-4624-f131-ac9f9ef6b65a"
      },
      "execution_count": 196,
      "outputs": [
        {
          "output_type": "execute_result",
          "data": {
            "text/plain": [
              "60.71428571428571"
            ]
          },
          "metadata": {},
          "execution_count": 196
        }
      ]
    },
    {
      "cell_type": "markdown",
      "source": [
        "**Prediction without feature scaling**"
      ],
      "metadata": {
        "id": "-dgKP0HhjKo8"
      }
    },
    {
      "cell_type": "code",
      "source": [
        "# Sample input values for prediction\n",
        "sample_input_categorical = np.array([[50, 'Male', 'Good', 'UG']])\n",
        "\n",
        "# Convert input array into a pandas DataFrame\n",
        "sample_df_categorical = pd.DataFrame(sample_input_categorical, columns=['age', 'gender', 'review', 'education'])\n",
        "\n",
        "sample_df_transform=pipes.transform(sample_df_categorical)\n",
        "# Make predictions using the trained decision tree classifier\n",
        "prediction_categorical = clf1.predict(sample_df_transform)\n",
        "\n",
        "# Interpret the prediction\n",
        "if prediction_categorical[0] == 1:\n",
        "    print(\"The model predicts that the individual is likely to make a purchase.\")\n",
        "else:\n",
        "    print(\"The model predicts that the individual is unlikely to make a purchase.\")"
      ],
      "metadata": {
        "colab": {
          "base_uri": "https://localhost:8080/"
        },
        "id": "HZazi_5Ld4DI",
        "outputId": "30d76d3f-2067-45fc-b559-6ea1e527a443"
      },
      "execution_count": 197,
      "outputs": [
        {
          "output_type": "stream",
          "name": "stdout",
          "text": [
            "The model predicts that the individual is likely to make a purchase.\n"
          ]
        }
      ]
    },
    {
      "cell_type": "markdown",
      "source": [
        "**now with the help of Pickle we have to save Pipes and clf1**"
      ],
      "metadata": {
        "id": "XuQTvEd6mylw"
      }
    },
    {
      "cell_type": "code",
      "source": [
        "import pickle\n",
        "\n",
        "# Save the preprocessing pipeline\n",
        "with open('preprocessor.pkl', 'wb') as file:\n",
        "    pickle.dump(pipes, file)\n",
        "\n",
        "# Save the trained decision tree classifier\n",
        "with open('model.pkl', 'wb') as file:\n",
        "    pickle.dump(clf1, file)"
      ],
      "metadata": {
        "id": "8ieDXKiam8te"
      },
      "execution_count": 198,
      "outputs": []
    },
    {
      "cell_type": "markdown",
      "source": [
        "**Model Deployment**"
      ],
      "metadata": {
        "id": "Iavy-_Zhn0lX"
      }
    },
    {
      "cell_type": "code",
      "source": [
        "import streamlit as st\n",
        "import pickle\n",
        "import pandas as pd\n",
        "\n",
        "# Load the preprocessing pipelines and the trained model\n",
        "with open(\"preprocessor.pkl\", \"rb\") as file:\n",
        "    preprocessor = pickle.load(file)\n",
        "\n",
        "with open(\"model.pkl\", \"rb\") as file:\n",
        "    model = pickle.load(file)\n",
        "\n",
        "# Define the function to make predictions\n",
        "def predict_purchase(sample_df):\n",
        "    # Preprocess the input data\n",
        "    sample_transform_df = preprocessor.transform(sample_df)\n",
        "    # Make predictions\n",
        "    prediction = model.predict(sample_transform_df)\n",
        "    return prediction\n",
        "\n",
        "# Define the Streamlit app\n",
        "st.title(\"Purchase Prediction App\")\n",
        "\n",
        "# Create input fields for user to input data\n",
        "age = st.slider(\"Age\", min_value=18, max_value=100, value=30)\n",
        "gender = st.selectbox(\"Gender\", [\"Male\", \"Female\"])\n",
        "review = st.selectbox(\"Review\", [\"Poor\", \"Average\", \"Good\"])\n",
        "education = st.selectbox(\"Education\", [\"School\", \"UG\", \"PG\"])\n",
        "\n",
        "# Create a button to make prediction\n",
        "if st.button(\"Predict\"):\n",
        "    # Create a DataFrame with the input data\n",
        "    sample_df = pd.DataFrame([[age, gender, review, education]], columns=[\"age\", \"gender\", \"review\", \"education\"])\n",
        "    predictions = predict_purchase(sample_df)\n",
        "    # Display prediction\n",
        "    if predictions[0] == 1:\n",
        "        st.write(\"The model predicts that the individual is likely to make a purchase.\")\n",
        "    else:\n",
        "        st.write(\"The model predicts that the individual is unlikely to make a purchase.\")\n"
      ],
      "metadata": {
        "id": "uRBipul9oDgg"
      },
      "execution_count": 187,
      "outputs": []
    },
    {
      "cell_type": "code",
      "source": [
        "! pip install streamlit -q"
      ],
      "metadata": {
        "id": "RHj_BARCzhOj"
      },
      "execution_count": 216,
      "outputs": []
    },
    {
      "cell_type": "code",
      "source": [
        "!wget -q -O - ipv4.icanhazip.com"
      ],
      "metadata": {
        "colab": {
          "base_uri": "https://localhost:8080/"
        },
        "id": "lo4arVsXsfyI",
        "outputId": "c130cd14-05b5-4adb-e2cb-79436d810aee"
      },
      "execution_count": 217,
      "outputs": [
        {
          "output_type": "stream",
          "name": "stdout",
          "text": [
            "35.245.251.156\n"
          ]
        }
      ]
    },
    {
      "cell_type": "code",
      "source": [
        "! streamlit run app.py & npx localtunnel --port 8501"
      ],
      "metadata": {
        "colab": {
          "base_uri": "https://localhost:8080/"
        },
        "id": "S1UUkZJEspwf",
        "outputId": "765ba8c6-a9d6-4d6d-8562-bb3385fc0f47"
      },
      "execution_count": 218,
      "outputs": [
        {
          "output_type": "stream",
          "name": "stdout",
          "text": [
            "\n",
            "Collecting usage statistics. To deactivate, set browser.gatherUsageStats to false.\n",
            "\u001b[0m\n",
            "\u001b[0m\n",
            "\u001b[34m\u001b[1m  You can now view your Streamlit app in your browser.\u001b[0m\n",
            "\u001b[0m\n",
            "\u001b[34m  Network URL: \u001b[0m\u001b[1mhttp://172.28.0.12:8501\u001b[0m\n",
            "\u001b[34m  External URL: \u001b[0m\u001b[1mhttp://35.245.251.156:8501\u001b[0m\n",
            "\u001b[0m\n",
            "\u001b[K\u001b[?25hnpx: installed 22 in 3.38s\n",
            "\u001b[34m  Stopping...\u001b[0m\n",
            "^C\n"
          ]
        }
      ]
    },
    {
      "cell_type": "markdown",
      "source": [
        "**Scaling after doing ohe and ordinal encoder**"
      ],
      "metadata": {
        "id": "IdgQ_8Yq4o3R"
      }
    },
    {
      "cell_type": "code",
      "source": [
        "cat_col = ['gender','review','education']\n",
        "\n",
        "review_cat = ['Poor','Average',\"Good\"]\n",
        "edu_cat = ['School','UG','PG']\n",
        "\n",
        "X_train,X_test,y_train,y_test = train_test_split(X,y_encode,test_size=0.2,random_state=42)\n",
        "\n",
        "\n",
        "\n",
        "preprocess = ColumnTransformer(transformers=[\n",
        "    (\"cat_col\",OneHotEncoder(drop=\"first\",handle_unknown=\"ignore\"),[feat for feat in cat_col if feat not in ['review','education']]),\n",
        "    (\"ordinal\",OrdinalEncoder(categories=[review_cat,edu_cat]),['review','education'])\n",
        "],remainder=\"passthrough\")\n",
        "\n",
        "pipes = Pipeline(steps=[\n",
        "    (\"Preprocessor\",preprocess)\n",
        "])\n",
        "\n",
        "#transforming X_train,test from pipelines\n",
        "X_train_process=pipes.fit_transform(X_train)\n",
        "X_test_process=pipes.transform(X_test)\n",
        "\n",
        "#scaling\n",
        "scalar = StandardScaler()\n",
        "X_train_scaled = scalar.fit_transform(X_train_process)\n",
        "X_test_scaled = scalar.transform(X_test_process)\n",
        "\n",
        "#using decisiontreeclassifier\n",
        "clf = DecisionTreeClassifier(max_depth=7,min_samples_leaf=1,min_samples_split=2)\n",
        "clf.fit(X_train_scaled,y_train)\n",
        "\n",
        "#prediction\n",
        "y_pred=clf.predict(X_test_scaled)\n",
        "\n",
        "#find the accuracy\n",
        "accuracy_score(y_test,y_pred)*100\n",
        "\n",
        "np.mean(cross_val_score(clf,X_train_scaled,y_train,cv=6))*100"
      ],
      "metadata": {
        "id": "o6JwgpZfoAAq",
        "colab": {
          "base_uri": "https://localhost:8080/"
        },
        "outputId": "5c4e6f49-624d-4d08-936f-79d27b129de0"
      },
      "execution_count": 190,
      "outputs": [
        {
          "output_type": "execute_result",
          "data": {
            "text/plain": [
              "57.93650793650793"
            ]
          },
          "metadata": {},
          "execution_count": 190
        }
      ]
    },
    {
      "cell_type": "code",
      "source": [
        "# Sample input values for prediction\n",
        "sample_input_val = np.array([[50, 'Male', 'Good', 'UG']])\n",
        "\n",
        "# Convert input array into a pandas DataFrame\n",
        "sample_df = pd.DataFrame(sample_input_val, columns=['age', 'gender', 'review', 'education'])\n",
        "\n",
        "sample_df_transform=pipes.transform(sample_df)\n",
        "\n",
        "scale_sample_df_transform = scalar.transform(sample_df_transform)\n",
        "# Make predictions using the trained decision tree classifier\n",
        "prediction_categorical = clf1.predict(scale_sample_df_transform)\n",
        "\n",
        "# Interpret the prediction\n",
        "if prediction_categorical[0] == 1:\n",
        "    print(\"The model predicts that the individual is likely to make a purchase.\")\n",
        "else:\n",
        "    print(\"The model predicts that the individual is unlikely to make a purchase.\")"
      ],
      "metadata": {
        "colab": {
          "base_uri": "https://localhost:8080/"
        },
        "id": "YrpLZpnzj-WW",
        "outputId": "ad986e86-f9dc-4d41-e244-ef5dcd1c778e"
      },
      "execution_count": 191,
      "outputs": [
        {
          "output_type": "stream",
          "name": "stdout",
          "text": [
            "The model predicts that the individual is unlikely to make a purchase.\n"
          ]
        }
      ]
    },
    {
      "cell_type": "markdown",
      "source": [
        "**Hyperparameter tuning**"
      ],
      "metadata": {
        "id": "XNs3aiC9krFu"
      }
    },
    {
      "cell_type": "code",
      "source": [
        "# Define the hyperparameter grid\n",
        "param_grid = {\n",
        "    'max_depth': [3, 5, 7, 10],\n",
        "    'min_samples_split': [2, 5, 10],\n",
        "    'min_samples_leaf': [1, 2, 4]\n",
        "}\n",
        "\n",
        "# Perform grid search using 5-fold cross-validation\n",
        "grid_search = GridSearchCV(DecisionTreeClassifier(random_state=42), param_grid, cv=5, scoring='accuracy')\n",
        "\n",
        "# Fit grid search on the training data\n",
        "grid_search.fit(X_train_scaled, y_train)\n",
        "\n",
        "# Get the best hyperparameters and the corresponding accuracy score\n",
        "best_params = grid_search.best_params_\n",
        "best_score = grid_search.best_score_\n",
        "\n",
        "print(\"Best hyperparameters:\", best_params)\n",
        "print(\"Best accuracy score:\", best_score)"
      ],
      "metadata": {
        "id": "tQstCm-_R73S",
        "colab": {
          "base_uri": "https://localhost:8080/"
        },
        "outputId": "de1c131f-4a01-45e7-c044-02a7ff22b2e7"
      },
      "execution_count": 192,
      "outputs": [
        {
          "output_type": "stream",
          "name": "stdout",
          "text": [
            "Best hyperparameters: {'max_depth': 7, 'min_samples_leaf': 1, 'min_samples_split': 2}\n",
            "Best accuracy score: 0.6\n"
          ]
        }
      ]
    }
  ]
}
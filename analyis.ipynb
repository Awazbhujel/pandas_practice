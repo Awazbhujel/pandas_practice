{
  "nbformat": 4,
  "nbformat_minor": 0,
  "metadata": {
    "colab": {
      "name": "Untitled74.ipynb",
      "provenance": [],
      "collapsed_sections": [],
      "authorship_tag": "ABX9TyPNq1UTkaMpHXgs3cmg8oRU"
    },
    "kernelspec": {
      "name": "python3",
      "display_name": "Python 3"
    },
    "language_info": {
      "name": "python"
    }
  },
  "cells": [
    {
      "cell_type": "code",
      "source": [
        "#list_comprehenion\n",
        "x = [i for i in range(50) if i%2==0]\n",
        "print(x)"
      ],
      "metadata": {
        "colab": {
          "base_uri": "https://localhost:8080/"
        },
        "id": "D3AfIaz9MCl_",
        "outputId": "90ed04db-b68e-4c38-a344-519b97fe62ad"
      },
      "execution_count": null,
      "outputs": [
        {
          "output_type": "stream",
          "name": "stdout",
          "text": [
            "[0, 2, 4, 6, 8, 10, 12, 14, 16, 18, 20, 22, 24, 26, 28, 30, 32, 34, 36, 38, 40, 42, 44, 46, 48]\n"
          ]
        }
      ]
    },
    {
      "cell_type": "code",
      "source": [
        "dict = {1:\"name\",2:\"vehicle\",3:\"machine\"}\n",
        "for key,value in dict.items():\n",
        "  print(key,value)"
      ],
      "metadata": {
        "colab": {
          "base_uri": "https://localhost:8080/"
        },
        "id": "rRhZaHUZMCo8",
        "outputId": "4ab2a1e7-0896-44b9-8f3b-72724243d1aa"
      },
      "execution_count": null,
      "outputs": [
        {
          "output_type": "stream",
          "name": "stdout",
          "text": [
            "1 name\n",
            "2 vehicle\n",
            "3 machine\n"
          ]
        }
      ]
    },
    {
      "cell_type": "code",
      "source": [
        "a = [0,1,2,3]\n",
        "b=[\"a\",\"b\",\"c\",\"d\"]"
      ],
      "metadata": {
        "id": "djlonf7LPEEb"
      },
      "execution_count": null,
      "outputs": []
    },
    {
      "cell_type": "code",
      "source": [
        "x = {i:j for (i,j) in zip(a,b)}\n",
        "print(x)\n"
      ],
      "metadata": {
        "colab": {
          "base_uri": "https://localhost:8080/"
        },
        "id": "ZBb9NclNMCsu",
        "outputId": "53d6b97e-816c-4656-8723-67a47009c950"
      },
      "execution_count": null,
      "outputs": [
        {
          "output_type": "stream",
          "name": "stdout",
          "text": [
            "{0: 'a', 1: 'b', 2: 'c', 3: 'd'}\n"
          ]
        }
      ]
    },
    {
      "cell_type": "code",
      "source": [
        "import pandas as pd"
      ],
      "metadata": {
        "id": "A9D2txqwMCv9"
      },
      "execution_count": 4,
      "outputs": []
    },
    {
      "cell_type": "code",
      "source": [
        "df = {\"name\":[\"ankit\",\"ram\",\"sam\",\"hari\"],\"age\":[10,11,12,13],'Stream': ['Math', 'Commerce', 'Arts', 'Biology'],'Percentage': [88, 92, 95, 70]}"
      ],
      "metadata": {
        "id": "FwdRqX6EMCyr"
      },
      "execution_count": null,
      "outputs": []
    },
    {
      "cell_type": "code",
      "source": [
        "print(df)"
      ],
      "metadata": {
        "colab": {
          "base_uri": "https://localhost:8080/"
        },
        "id": "yEeXuEdfMC1J",
        "outputId": "6b6246c1-d506-4372-fc2a-1023b7b82ab6"
      },
      "execution_count": null,
      "outputs": [
        {
          "output_type": "stream",
          "name": "stdout",
          "text": [
            "{'name': ['ankit', 'ram', 'sam', 'hari'], 'age': [10, 11, 12, 13], 'Stream': ['Math', 'Commerce', 'Arts', 'Biology'], 'Percentage': [88, 92, 95, 70]}\n"
          ]
        }
      ]
    },
    {
      "cell_type": "code",
      "source": [
        "df = pd.DataFrame(df)"
      ],
      "metadata": {
        "id": "6VkoyWXZRVTV"
      },
      "execution_count": null,
      "outputs": []
    },
    {
      "cell_type": "code",
      "source": [
        "print(df)"
      ],
      "metadata": {
        "colab": {
          "base_uri": "https://localhost:8080/"
        },
        "id": "_Yp4P8A3MC3t",
        "outputId": "045bf851-3d5e-4917-ccab-4af9ca380012"
      },
      "execution_count": null,
      "outputs": [
        {
          "output_type": "stream",
          "name": "stdout",
          "text": [
            "{'name': ['ankit', 'ram', 'sam', 'hari'], 'age': [10, 11, 12, 13], 'Stream': ['Math', 'Commerce', 'Arts', 'Biology'], 'Percentage': [88, 92, 95, 70]}\n"
          ]
        }
      ]
    },
    {
      "cell_type": "code",
      "source": [
        "for i in df.index:\n",
        "  print(df[\"name\"][i],df[\"age\"][i])"
      ],
      "metadata": {
        "colab": {
          "base_uri": "https://localhost:8080/"
        },
        "id": "h_Oms4frMC6F",
        "outputId": "3651c927-3757-4df1-b224-3aa0d18efea3"
      },
      "execution_count": null,
      "outputs": [
        {
          "output_type": "stream",
          "name": "stdout",
          "text": [
            "ankit 10\n",
            "ram 11\n",
            "sam 12\n",
            "hari 13\n"
          ]
        }
      ]
    },
    {
      "cell_type": "code",
      "source": [
        "#using loc function in dataframe\n",
        "df.head(2)"
      ],
      "metadata": {
        "colab": {
          "base_uri": "https://localhost:8080/",
          "height": 112
        },
        "id": "QKxZ8ek5MC81",
        "outputId": "080005f9-ec2a-4962-f66f-731fc5e910ca"
      },
      "execution_count": null,
      "outputs": [
        {
          "output_type": "execute_result",
          "data": {
            "text/plain": [
              "    name  age    Stream  Percentage\n",
              "0  ankit   10      Math          88\n",
              "1    ram   11  Commerce          92"
            ],
            "text/html": [
              "\n",
              "  <div id=\"df-cb0bcd35-3dca-47ea-aca2-9924f3401fb0\">\n",
              "    <div class=\"colab-df-container\">\n",
              "      <div>\n",
              "<style scoped>\n",
              "    .dataframe tbody tr th:only-of-type {\n",
              "        vertical-align: middle;\n",
              "    }\n",
              "\n",
              "    .dataframe tbody tr th {\n",
              "        vertical-align: top;\n",
              "    }\n",
              "\n",
              "    .dataframe thead th {\n",
              "        text-align: right;\n",
              "    }\n",
              "</style>\n",
              "<table border=\"1\" class=\"dataframe\">\n",
              "  <thead>\n",
              "    <tr style=\"text-align: right;\">\n",
              "      <th></th>\n",
              "      <th>name</th>\n",
              "      <th>age</th>\n",
              "      <th>Stream</th>\n",
              "      <th>Percentage</th>\n",
              "    </tr>\n",
              "  </thead>\n",
              "  <tbody>\n",
              "    <tr>\n",
              "      <th>0</th>\n",
              "      <td>ankit</td>\n",
              "      <td>10</td>\n",
              "      <td>Math</td>\n",
              "      <td>88</td>\n",
              "    </tr>\n",
              "    <tr>\n",
              "      <th>1</th>\n",
              "      <td>ram</td>\n",
              "      <td>11</td>\n",
              "      <td>Commerce</td>\n",
              "      <td>92</td>\n",
              "    </tr>\n",
              "  </tbody>\n",
              "</table>\n",
              "</div>\n",
              "      <button class=\"colab-df-convert\" onclick=\"convertToInteractive('df-cb0bcd35-3dca-47ea-aca2-9924f3401fb0')\"\n",
              "              title=\"Convert this dataframe to an interactive table.\"\n",
              "              style=\"display:none;\">\n",
              "        \n",
              "  <svg xmlns=\"http://www.w3.org/2000/svg\" height=\"24px\"viewBox=\"0 0 24 24\"\n",
              "       width=\"24px\">\n",
              "    <path d=\"M0 0h24v24H0V0z\" fill=\"none\"/>\n",
              "    <path d=\"M18.56 5.44l.94 2.06.94-2.06 2.06-.94-2.06-.94-.94-2.06-.94 2.06-2.06.94zm-11 1L8.5 8.5l.94-2.06 2.06-.94-2.06-.94L8.5 2.5l-.94 2.06-2.06.94zm10 10l.94 2.06.94-2.06 2.06-.94-2.06-.94-.94-2.06-.94 2.06-2.06.94z\"/><path d=\"M17.41 7.96l-1.37-1.37c-.4-.4-.92-.59-1.43-.59-.52 0-1.04.2-1.43.59L10.3 9.45l-7.72 7.72c-.78.78-.78 2.05 0 2.83L4 21.41c.39.39.9.59 1.41.59.51 0 1.02-.2 1.41-.59l7.78-7.78 2.81-2.81c.8-.78.8-2.07 0-2.86zM5.41 20L4 18.59l7.72-7.72 1.47 1.35L5.41 20z\"/>\n",
              "  </svg>\n",
              "      </button>\n",
              "      \n",
              "  <style>\n",
              "    .colab-df-container {\n",
              "      display:flex;\n",
              "      flex-wrap:wrap;\n",
              "      gap: 12px;\n",
              "    }\n",
              "\n",
              "    .colab-df-convert {\n",
              "      background-color: #E8F0FE;\n",
              "      border: none;\n",
              "      border-radius: 50%;\n",
              "      cursor: pointer;\n",
              "      display: none;\n",
              "      fill: #1967D2;\n",
              "      height: 32px;\n",
              "      padding: 0 0 0 0;\n",
              "      width: 32px;\n",
              "    }\n",
              "\n",
              "    .colab-df-convert:hover {\n",
              "      background-color: #E2EBFA;\n",
              "      box-shadow: 0px 1px 2px rgba(60, 64, 67, 0.3), 0px 1px 3px 1px rgba(60, 64, 67, 0.15);\n",
              "      fill: #174EA6;\n",
              "    }\n",
              "\n",
              "    [theme=dark] .colab-df-convert {\n",
              "      background-color: #3B4455;\n",
              "      fill: #D2E3FC;\n",
              "    }\n",
              "\n",
              "    [theme=dark] .colab-df-convert:hover {\n",
              "      background-color: #434B5C;\n",
              "      box-shadow: 0px 1px 3px 1px rgba(0, 0, 0, 0.15);\n",
              "      filter: drop-shadow(0px 1px 2px rgba(0, 0, 0, 0.3));\n",
              "      fill: #FFFFFF;\n",
              "    }\n",
              "  </style>\n",
              "\n",
              "      <script>\n",
              "        const buttonEl =\n",
              "          document.querySelector('#df-cb0bcd35-3dca-47ea-aca2-9924f3401fb0 button.colab-df-convert');\n",
              "        buttonEl.style.display =\n",
              "          google.colab.kernel.accessAllowed ? 'block' : 'none';\n",
              "\n",
              "        async function convertToInteractive(key) {\n",
              "          const element = document.querySelector('#df-cb0bcd35-3dca-47ea-aca2-9924f3401fb0');\n",
              "          const dataTable =\n",
              "            await google.colab.kernel.invokeFunction('convertToInteractive',\n",
              "                                                     [key], {});\n",
              "          if (!dataTable) return;\n",
              "\n",
              "          const docLinkHtml = 'Like what you see? Visit the ' +\n",
              "            '<a target=\"_blank\" href=https://colab.research.google.com/notebooks/data_table.ipynb>data table notebook</a>'\n",
              "            + ' to learn more about interactive tables.';\n",
              "          element.innerHTML = '';\n",
              "          dataTable['output_type'] = 'display_data';\n",
              "          await google.colab.output.renderOutput(dataTable, element);\n",
              "          const docLink = document.createElement('div');\n",
              "          docLink.innerHTML = docLinkHtml;\n",
              "          element.appendChild(docLink);\n",
              "        }\n",
              "      </script>\n",
              "    </div>\n",
              "  </div>\n",
              "  "
            ]
          },
          "metadata": {},
          "execution_count": 69
        }
      ]
    },
    {
      "cell_type": "code",
      "source": [
        "for i in range(len(df)):\n",
        "  print(df.loc[i,\"name\"],df.loc[i,\"Percentage\"])"
      ],
      "metadata": {
        "id": "gUMVOo7EQjYU",
        "colab": {
          "base_uri": "https://localhost:8080/"
        },
        "outputId": "4c9fb3f4-91f3-4ec4-9e5c-00448dab81d3"
      },
      "execution_count": null,
      "outputs": [
        {
          "output_type": "stream",
          "name": "stdout",
          "text": [
            "ankit 88\n",
            "ram 92\n",
            "sam 95\n",
            "hari 70\n"
          ]
        }
      ]
    },
    {
      "cell_type": "code",
      "source": [
        "for i in range(len(df)):\n",
        "  print(df.iloc[i,0],df.iloc[i,-1])"
      ],
      "metadata": {
        "id": "OhU4LD3FQjb3",
        "colab": {
          "base_uri": "https://localhost:8080/"
        },
        "outputId": "7c726f9e-7bc6-4c9d-fd08-e37e3c53a364"
      },
      "execution_count": null,
      "outputs": [
        {
          "output_type": "stream",
          "name": "stdout",
          "text": [
            "ankit 88\n",
            "ram 92\n",
            "sam 95\n",
            "hari 70\n"
          ]
        }
      ]
    },
    {
      "cell_type": "code",
      "source": [
        "#Using iterrows() method of the Dataframe\n",
        "for index,row in df.iterrows():\n",
        "  print(row[\"name\"],row[\"Stream\"])"
      ],
      "metadata": {
        "colab": {
          "base_uri": "https://localhost:8080/"
        },
        "id": "oAcDxFtSeihD",
        "outputId": "fa6830db-b66d-433c-cac4-b69d25f71df5"
      },
      "execution_count": null,
      "outputs": [
        {
          "output_type": "stream",
          "name": "stdout",
          "text": [
            "ankit Math\n",
            "ram Commerce\n",
            "sam Arts\n",
            "hari Biology\n"
          ]
        }
      ]
    },
    {
      "cell_type": "code",
      "source": [
        "#Using apply() method of the Dataframe\n",
        "print(df.apply(lambda row: row[\"name\"] + \" \" + str(row[\"Percentage\"]), axis = 1))"
      ],
      "metadata": {
        "id": "YfeHjUshejOk"
      },
      "execution_count": null,
      "outputs": []
    },
    {
      "cell_type": "code",
      "source": [
        "for i,j in df.iterrows():\n",
        "  print(i,j)\n",
        "  print()"
      ],
      "metadata": {
        "id": "MCQJKjhEQjt7",
        "colab": {
          "base_uri": "https://localhost:8080/"
        },
        "outputId": "79a09f9f-d919-4929-c090-70581986f6b3"
      },
      "execution_count": null,
      "outputs": [
        {
          "output_type": "stream",
          "name": "stdout",
          "text": [
            "0 name          ankit\n",
            "age              10\n",
            "Stream         Math\n",
            "Percentage       88\n",
            "Name: 0, dtype: object\n",
            "\n",
            "1 name               ram\n",
            "age                 11\n",
            "Stream        Commerce\n",
            "Percentage          92\n",
            "Name: 1, dtype: object\n",
            "\n",
            "2 name           sam\n",
            "age             12\n",
            "Stream        Arts\n",
            "Percentage      95\n",
            "Name: 2, dtype: object\n",
            "\n",
            "3 name             hari\n",
            "age                13\n",
            "Stream        Biology\n",
            "Percentage         70\n",
            "Name: 3, dtype: object\n",
            "\n"
          ]
        }
      ]
    },
    {
      "cell_type": "code",
      "source": [
        "# using iteritems() function to retrieve rows\n",
        "for key,value in df.iteritems():\n",
        "  print(key,value)\n",
        "  print()"
      ],
      "metadata": {
        "id": "WbYsa7_VQjqJ",
        "colab": {
          "base_uri": "https://localhost:8080/"
        },
        "outputId": "8da42f3d-dfa5-4a94-cb88-168830a08fde"
      },
      "execution_count": null,
      "outputs": [
        {
          "output_type": "stream",
          "name": "stdout",
          "text": [
            "name 0    ankit\n",
            "1      ram\n",
            "2      sam\n",
            "3     hari\n",
            "Name: name, dtype: object\n",
            "\n",
            "age 0    10\n",
            "1    11\n",
            "2    12\n",
            "3    13\n",
            "Name: age, dtype: int64\n",
            "\n",
            "Stream 0        Math\n",
            "1    Commerce\n",
            "2        Arts\n",
            "3     Biology\n",
            "Name: Stream, dtype: object\n",
            "\n",
            "Percentage 0    88\n",
            "1    92\n",
            "2    95\n",
            "3    70\n",
            "Name: Percentage, dtype: int64\n",
            "\n"
          ]
        }
      ]
    },
    {
      "cell_type": "code",
      "source": [
        "# using a itertuples()\n",
        "for i in df.itertuples():\n",
        "  print(i)"
      ],
      "metadata": {
        "id": "cS7L5oCkMDAV",
        "colab": {
          "base_uri": "https://localhost:8080/"
        },
        "outputId": "f0ec07f4-4667-4cd4-9982-547b8ab146b0"
      },
      "execution_count": null,
      "outputs": [
        {
          "output_type": "stream",
          "name": "stdout",
          "text": [
            "Pandas(Index=0, name='ankit', age=10, Stream='Math', Percentage=88)\n",
            "Pandas(Index=1, name='ram', age=11, Stream='Commerce', Percentage=92)\n",
            "Pandas(Index=2, name='sam', age=12, Stream='Arts', Percentage=95)\n",
            "Pandas(Index=3, name='hari', age=13, Stream='Biology', Percentage=70)\n"
          ]
        }
      ]
    },
    {
      "cell_type": "code",
      "source": [
        "# creating a list of dataframe columns\n",
        "columns = list(df)\n",
        " \n",
        "for i in columns:\n",
        "   print(df[i][3])"
      ],
      "metadata": {
        "id": "YaydxhKzMDDS",
        "colab": {
          "base_uri": "https://localhost:8080/"
        },
        "outputId": "80cb8667-b804-42b3-ab66-261d76a86107"
      },
      "execution_count": null,
      "outputs": [
        {
          "output_type": "stream",
          "name": "stdout",
          "text": [
            "hari\n",
            "13\n",
            "Biology\n",
            "70\n"
          ]
        }
      ]
    },
    {
      "cell_type": "code",
      "source": [
        "df.head(4)"
      ],
      "metadata": {
        "id": "BAEs-WczMDFj"
      },
      "execution_count": null,
      "outputs": []
    },
    {
      "cell_type": "code",
      "source": [
        "#Creating a column using for loop in Pandas Dataframe\n",
        "data = {\"first_name\":['Ram', 'Mohan', 'Tina', 'Jeetu', 'Meera'],\n",
        "        \"last_name\":['Kumar', 'Sharma', 'Ali', 'Gandhi', 'Kumari'],\n",
        "        \"marks\":[12, 52, 36, 85, 23]}"
      ],
      "metadata": {
        "id": "Hugq30y6MDIN"
      },
      "execution_count": 162,
      "outputs": []
    },
    {
      "cell_type": "code",
      "source": [
        "df = pd.DataFrame(data)"
      ],
      "metadata": {
        "id": "2gmC0XsuMDLC"
      },
      "execution_count": 163,
      "outputs": []
    },
    {
      "cell_type": "code",
      "source": [
        "df[\"result\"]= ['Fail','Pass','Pass','Pass','Fail']\n"
      ],
      "metadata": {
        "id": "tsdqP38FMDN7"
      },
      "execution_count": 164,
      "outputs": []
    },
    {
      "cell_type": "code",
      "source": [
        "df.index = [1,2,3,4,5]"
      ],
      "metadata": {
        "id": "YDz-nrQpMDRI"
      },
      "execution_count": 165,
      "outputs": []
    },
    {
      "cell_type": "code",
      "source": [
        "#deleting columns in permanent\n",
        "df.drop(columns=\"resull\",inplace=True)"
      ],
      "metadata": {
        "id": "CXA6cC-aMDWX"
      },
      "execution_count": null,
      "outputs": []
    },
    {
      "cell_type": "code",
      "source": [
        "# Generate result using pandas\n",
        "result = []\n",
        "for i in df[\"marks\"]:\n",
        "  if i>=33:\n",
        "    result.append(\"pass\")\n",
        "  elif i<0 and i>100:\n",
        "    result.append(\"invalid\")\n",
        "  else:\n",
        "    result.append(\"fail\")\n",
        "\n",
        "df[\"Result\"]= result"
      ],
      "metadata": {
        "id": "nwwrUqcjqvPI"
      },
      "execution_count": 168,
      "outputs": []
    },
    {
      "cell_type": "code",
      "source": [
        "df.head(2)"
      ],
      "metadata": {
        "colab": {
          "base_uri": "https://localhost:8080/",
          "height": 112
        },
        "id": "ORn6KEFrqvUE",
        "outputId": "f20ca27d-dbc5-4b83-aad1-e8c793fa6eb3"
      },
      "execution_count": 169,
      "outputs": [
        {
          "output_type": "execute_result",
          "data": {
            "text/plain": [
              "  first_name last_name  marks result Result\n",
              "1        Ram     Kumar     12   Fail   fail\n",
              "2      Mohan    Sharma     52   Pass   pass"
            ],
            "text/html": [
              "\n",
              "  <div id=\"df-c93d73a3-ce72-4b08-abc4-2d344d3159a2\">\n",
              "    <div class=\"colab-df-container\">\n",
              "      <div>\n",
              "<style scoped>\n",
              "    .dataframe tbody tr th:only-of-type {\n",
              "        vertical-align: middle;\n",
              "    }\n",
              "\n",
              "    .dataframe tbody tr th {\n",
              "        vertical-align: top;\n",
              "    }\n",
              "\n",
              "    .dataframe thead th {\n",
              "        text-align: right;\n",
              "    }\n",
              "</style>\n",
              "<table border=\"1\" class=\"dataframe\">\n",
              "  <thead>\n",
              "    <tr style=\"text-align: right;\">\n",
              "      <th></th>\n",
              "      <th>first_name</th>\n",
              "      <th>last_name</th>\n",
              "      <th>marks</th>\n",
              "      <th>result</th>\n",
              "      <th>Result</th>\n",
              "    </tr>\n",
              "  </thead>\n",
              "  <tbody>\n",
              "    <tr>\n",
              "      <th>1</th>\n",
              "      <td>Ram</td>\n",
              "      <td>Kumar</td>\n",
              "      <td>12</td>\n",
              "      <td>Fail</td>\n",
              "      <td>fail</td>\n",
              "    </tr>\n",
              "    <tr>\n",
              "      <th>2</th>\n",
              "      <td>Mohan</td>\n",
              "      <td>Sharma</td>\n",
              "      <td>52</td>\n",
              "      <td>Pass</td>\n",
              "      <td>pass</td>\n",
              "    </tr>\n",
              "  </tbody>\n",
              "</table>\n",
              "</div>\n",
              "      <button class=\"colab-df-convert\" onclick=\"convertToInteractive('df-c93d73a3-ce72-4b08-abc4-2d344d3159a2')\"\n",
              "              title=\"Convert this dataframe to an interactive table.\"\n",
              "              style=\"display:none;\">\n",
              "        \n",
              "  <svg xmlns=\"http://www.w3.org/2000/svg\" height=\"24px\"viewBox=\"0 0 24 24\"\n",
              "       width=\"24px\">\n",
              "    <path d=\"M0 0h24v24H0V0z\" fill=\"none\"/>\n",
              "    <path d=\"M18.56 5.44l.94 2.06.94-2.06 2.06-.94-2.06-.94-.94-2.06-.94 2.06-2.06.94zm-11 1L8.5 8.5l.94-2.06 2.06-.94-2.06-.94L8.5 2.5l-.94 2.06-2.06.94zm10 10l.94 2.06.94-2.06 2.06-.94-2.06-.94-.94-2.06-.94 2.06-2.06.94z\"/><path d=\"M17.41 7.96l-1.37-1.37c-.4-.4-.92-.59-1.43-.59-.52 0-1.04.2-1.43.59L10.3 9.45l-7.72 7.72c-.78.78-.78 2.05 0 2.83L4 21.41c.39.39.9.59 1.41.59.51 0 1.02-.2 1.41-.59l7.78-7.78 2.81-2.81c.8-.78.8-2.07 0-2.86zM5.41 20L4 18.59l7.72-7.72 1.47 1.35L5.41 20z\"/>\n",
              "  </svg>\n",
              "      </button>\n",
              "      \n",
              "  <style>\n",
              "    .colab-df-container {\n",
              "      display:flex;\n",
              "      flex-wrap:wrap;\n",
              "      gap: 12px;\n",
              "    }\n",
              "\n",
              "    .colab-df-convert {\n",
              "      background-color: #E8F0FE;\n",
              "      border: none;\n",
              "      border-radius: 50%;\n",
              "      cursor: pointer;\n",
              "      display: none;\n",
              "      fill: #1967D2;\n",
              "      height: 32px;\n",
              "      padding: 0 0 0 0;\n",
              "      width: 32px;\n",
              "    }\n",
              "\n",
              "    .colab-df-convert:hover {\n",
              "      background-color: #E2EBFA;\n",
              "      box-shadow: 0px 1px 2px rgba(60, 64, 67, 0.3), 0px 1px 3px 1px rgba(60, 64, 67, 0.15);\n",
              "      fill: #174EA6;\n",
              "    }\n",
              "\n",
              "    [theme=dark] .colab-df-convert {\n",
              "      background-color: #3B4455;\n",
              "      fill: #D2E3FC;\n",
              "    }\n",
              "\n",
              "    [theme=dark] .colab-df-convert:hover {\n",
              "      background-color: #434B5C;\n",
              "      box-shadow: 0px 1px 3px 1px rgba(0, 0, 0, 0.15);\n",
              "      filter: drop-shadow(0px 1px 2px rgba(0, 0, 0, 0.3));\n",
              "      fill: #FFFFFF;\n",
              "    }\n",
              "  </style>\n",
              "\n",
              "      <script>\n",
              "        const buttonEl =\n",
              "          document.querySelector('#df-c93d73a3-ce72-4b08-abc4-2d344d3159a2 button.colab-df-convert');\n",
              "        buttonEl.style.display =\n",
              "          google.colab.kernel.accessAllowed ? 'block' : 'none';\n",
              "\n",
              "        async function convertToInteractive(key) {\n",
              "          const element = document.querySelector('#df-c93d73a3-ce72-4b08-abc4-2d344d3159a2');\n",
              "          const dataTable =\n",
              "            await google.colab.kernel.invokeFunction('convertToInteractive',\n",
              "                                                     [key], {});\n",
              "          if (!dataTable) return;\n",
              "\n",
              "          const docLinkHtml = 'Like what you see? Visit the ' +\n",
              "            '<a target=\"_blank\" href=https://colab.research.google.com/notebooks/data_table.ipynb>data table notebook</a>'\n",
              "            + ' to learn more about interactive tables.';\n",
              "          element.innerHTML = '';\n",
              "          dataTable['output_type'] = 'display_data';\n",
              "          await google.colab.output.renderOutput(dataTable, element);\n",
              "          const docLink = document.createElement('div');\n",
              "          docLink.innerHTML = docLinkHtml;\n",
              "          element.appendChild(docLink);\n",
              "        }\n",
              "      </script>\n",
              "    </div>\n",
              "  </div>\n",
              "  "
            ]
          },
          "metadata": {},
          "execution_count": 169
        }
      ]
    },
    {
      "cell_type": "code",
      "source": [
        "#using list comprehension to create new column\n",
        "df[\"Results\"]=[\"pass\" if i>=32 else \"fail\" for i in df[\"marks\"]]"
      ],
      "metadata": {
        "id": "5gKLsFgZqvXd"
      },
      "execution_count": 170,
      "outputs": []
    },
    {
      "cell_type": "code",
      "source": [
        "from datetime import date"
      ],
      "metadata": {
        "id": "Oy6oEkI4bPZm"
      },
      "execution_count": 171,
      "outputs": []
    },
    {
      "cell_type": "code",
      "source": [
        "#find the toal days of years \n",
        "def no_of_days(date1,date2):\n",
        "  return(date2-date1).days\n",
        "\n",
        "date1 = date(2018,5,21)\n",
        "date2 = date(2022,5,22)\n",
        "print(no_of_days(date1,date2),\"days\")"
      ],
      "metadata": {
        "colab": {
          "base_uri": "https://localhost:8080/"
        },
        "id": "A4TL-iZ2tDzp",
        "outputId": "c723e2f0-b687-4963-ca37-f419a9138601"
      },
      "execution_count": 172,
      "outputs": [
        {
          "output_type": "stream",
          "name": "stdout",
          "text": [
            "1462 days\n"
          ]
        }
      ]
    },
    {
      "cell_type": "code",
      "source": [
        "df[\"date\"]= ['11/8/2011', '04/23/2008', '10/2/2019','11/21/2022','04/08/2020'] "
      ],
      "metadata": {
        "id": "BLIzmg3xqvnG"
      },
      "execution_count": 173,
      "outputs": []
    },
    {
      "cell_type": "code",
      "source": [
        "df.head(3)"
      ],
      "metadata": {
        "id": "MUUTORpaMDZy",
        "colab": {
          "base_uri": "https://localhost:8080/",
          "height": 143
        },
        "outputId": "2a725c7a-3704-4767-878c-8e3b2e798294"
      },
      "execution_count": 16,
      "outputs": [
        {
          "output_type": "execute_result",
          "data": {
            "text/plain": [
              "  first_name last_name  marks result Result Results        date\n",
              "1        Ram     Kumar     12   Fail   fail    fail   11/8/2011\n",
              "2      Mohan    Sharma     52   Pass   pass    pass  04/23/2008\n",
              "3       Tina       Ali     36   Pass   pass    pass   10/2/2019"
            ],
            "text/html": [
              "\n",
              "  <div id=\"df-2639216a-46f8-4eb9-8fe6-7656a9b347aa\">\n",
              "    <div class=\"colab-df-container\">\n",
              "      <div>\n",
              "<style scoped>\n",
              "    .dataframe tbody tr th:only-of-type {\n",
              "        vertical-align: middle;\n",
              "    }\n",
              "\n",
              "    .dataframe tbody tr th {\n",
              "        vertical-align: top;\n",
              "    }\n",
              "\n",
              "    .dataframe thead th {\n",
              "        text-align: right;\n",
              "    }\n",
              "</style>\n",
              "<table border=\"1\" class=\"dataframe\">\n",
              "  <thead>\n",
              "    <tr style=\"text-align: right;\">\n",
              "      <th></th>\n",
              "      <th>first_name</th>\n",
              "      <th>last_name</th>\n",
              "      <th>marks</th>\n",
              "      <th>result</th>\n",
              "      <th>Result</th>\n",
              "      <th>Results</th>\n",
              "      <th>date</th>\n",
              "    </tr>\n",
              "  </thead>\n",
              "  <tbody>\n",
              "    <tr>\n",
              "      <th>1</th>\n",
              "      <td>Ram</td>\n",
              "      <td>Kumar</td>\n",
              "      <td>12</td>\n",
              "      <td>Fail</td>\n",
              "      <td>fail</td>\n",
              "      <td>fail</td>\n",
              "      <td>11/8/2011</td>\n",
              "    </tr>\n",
              "    <tr>\n",
              "      <th>2</th>\n",
              "      <td>Mohan</td>\n",
              "      <td>Sharma</td>\n",
              "      <td>52</td>\n",
              "      <td>Pass</td>\n",
              "      <td>pass</td>\n",
              "      <td>pass</td>\n",
              "      <td>04/23/2008</td>\n",
              "    </tr>\n",
              "    <tr>\n",
              "      <th>3</th>\n",
              "      <td>Tina</td>\n",
              "      <td>Ali</td>\n",
              "      <td>36</td>\n",
              "      <td>Pass</td>\n",
              "      <td>pass</td>\n",
              "      <td>pass</td>\n",
              "      <td>10/2/2019</td>\n",
              "    </tr>\n",
              "  </tbody>\n",
              "</table>\n",
              "</div>\n",
              "      <button class=\"colab-df-convert\" onclick=\"convertToInteractive('df-2639216a-46f8-4eb9-8fe6-7656a9b347aa')\"\n",
              "              title=\"Convert this dataframe to an interactive table.\"\n",
              "              style=\"display:none;\">\n",
              "        \n",
              "  <svg xmlns=\"http://www.w3.org/2000/svg\" height=\"24px\"viewBox=\"0 0 24 24\"\n",
              "       width=\"24px\">\n",
              "    <path d=\"M0 0h24v24H0V0z\" fill=\"none\"/>\n",
              "    <path d=\"M18.56 5.44l.94 2.06.94-2.06 2.06-.94-2.06-.94-.94-2.06-.94 2.06-2.06.94zm-11 1L8.5 8.5l.94-2.06 2.06-.94-2.06-.94L8.5 2.5l-.94 2.06-2.06.94zm10 10l.94 2.06.94-2.06 2.06-.94-2.06-.94-.94-2.06-.94 2.06-2.06.94z\"/><path d=\"M17.41 7.96l-1.37-1.37c-.4-.4-.92-.59-1.43-.59-.52 0-1.04.2-1.43.59L10.3 9.45l-7.72 7.72c-.78.78-.78 2.05 0 2.83L4 21.41c.39.39.9.59 1.41.59.51 0 1.02-.2 1.41-.59l7.78-7.78 2.81-2.81c.8-.78.8-2.07 0-2.86zM5.41 20L4 18.59l7.72-7.72 1.47 1.35L5.41 20z\"/>\n",
              "  </svg>\n",
              "      </button>\n",
              "      \n",
              "  <style>\n",
              "    .colab-df-container {\n",
              "      display:flex;\n",
              "      flex-wrap:wrap;\n",
              "      gap: 12px;\n",
              "    }\n",
              "\n",
              "    .colab-df-convert {\n",
              "      background-color: #E8F0FE;\n",
              "      border: none;\n",
              "      border-radius: 50%;\n",
              "      cursor: pointer;\n",
              "      display: none;\n",
              "      fill: #1967D2;\n",
              "      height: 32px;\n",
              "      padding: 0 0 0 0;\n",
              "      width: 32px;\n",
              "    }\n",
              "\n",
              "    .colab-df-convert:hover {\n",
              "      background-color: #E2EBFA;\n",
              "      box-shadow: 0px 1px 2px rgba(60, 64, 67, 0.3), 0px 1px 3px 1px rgba(60, 64, 67, 0.15);\n",
              "      fill: #174EA6;\n",
              "    }\n",
              "\n",
              "    [theme=dark] .colab-df-convert {\n",
              "      background-color: #3B4455;\n",
              "      fill: #D2E3FC;\n",
              "    }\n",
              "\n",
              "    [theme=dark] .colab-df-convert:hover {\n",
              "      background-color: #434B5C;\n",
              "      box-shadow: 0px 1px 3px 1px rgba(0, 0, 0, 0.15);\n",
              "      filter: drop-shadow(0px 1px 2px rgba(0, 0, 0, 0.3));\n",
              "      fill: #FFFFFF;\n",
              "    }\n",
              "  </style>\n",
              "\n",
              "      <script>\n",
              "        const buttonEl =\n",
              "          document.querySelector('#df-2639216a-46f8-4eb9-8fe6-7656a9b347aa button.colab-df-convert');\n",
              "        buttonEl.style.display =\n",
              "          google.colab.kernel.accessAllowed ? 'block' : 'none';\n",
              "\n",
              "        async function convertToInteractive(key) {\n",
              "          const element = document.querySelector('#df-2639216a-46f8-4eb9-8fe6-7656a9b347aa');\n",
              "          const dataTable =\n",
              "            await google.colab.kernel.invokeFunction('convertToInteractive',\n",
              "                                                     [key], {});\n",
              "          if (!dataTable) return;\n",
              "\n",
              "          const docLinkHtml = 'Like what you see? Visit the ' +\n",
              "            '<a target=\"_blank\" href=https://colab.research.google.com/notebooks/data_table.ipynb>data table notebook</a>'\n",
              "            + ' to learn more about interactive tables.';\n",
              "          element.innerHTML = '';\n",
              "          dataTable['output_type'] = 'display_data';\n",
              "          await google.colab.output.renderOutput(dataTable, element);\n",
              "          const docLink = document.createElement('div');\n",
              "          docLink.innerHTML = docLinkHtml;\n",
              "          element.appendChild(docLink);\n",
              "        }\n",
              "      </script>\n",
              "    </div>\n",
              "  </div>\n",
              "  "
            ]
          },
          "metadata": {},
          "execution_count": 16
        }
      ]
    },
    {
      "cell_type": "code",
      "source": [
        "df.info()"
      ],
      "metadata": {
        "id": "R4Bt2IoSMDd9",
        "colab": {
          "base_uri": "https://localhost:8080/"
        },
        "outputId": "dfcc5214-0cab-4a52-cdcb-9e600fa9c972"
      },
      "execution_count": 18,
      "outputs": [
        {
          "output_type": "stream",
          "name": "stdout",
          "text": [
            "<class 'pandas.core.frame.DataFrame'>\n",
            "Int64Index: 5 entries, 1 to 5\n",
            "Data columns (total 7 columns):\n",
            " #   Column      Non-Null Count  Dtype         \n",
            "---  ------      --------------  -----         \n",
            " 0   first_name  5 non-null      object        \n",
            " 1   last_name   5 non-null      object        \n",
            " 2   marks       5 non-null      int64         \n",
            " 3   result      5 non-null      object        \n",
            " 4   Result      5 non-null      object        \n",
            " 5   Results     5 non-null      object        \n",
            " 6   date        5 non-null      datetime64[ns]\n",
            "dtypes: datetime64[ns](1), int64(1), object(5)\n",
            "memory usage: 320.0+ bytes\n"
          ]
        }
      ]
    },
    {
      "cell_type": "code",
      "source": [
        "#coverting object date to date_time\n",
        "df[\"date\"]=pd.to_datetime(df[\"date\"])"
      ],
      "metadata": {
        "id": "sZsqJ83VgFbH"
      },
      "execution_count": 17,
      "outputs": []
    },
    {
      "cell_type": "code",
      "source": [
        "df.info()"
      ],
      "metadata": {
        "colab": {
          "base_uri": "https://localhost:8080/"
        },
        "id": "M1h3wpU3gFdb",
        "outputId": "4ca4bee2-bb7c-4c1e-bf82-2a1460b46e89"
      },
      "execution_count": null,
      "outputs": [
        {
          "output_type": "stream",
          "name": "stdout",
          "text": [
            "<class 'pandas.core.frame.DataFrame'>\n",
            "Int64Index: 5 entries, 1 to 5\n",
            "Data columns (total 7 columns):\n",
            " #   Column      Non-Null Count  Dtype         \n",
            "---  ------      --------------  -----         \n",
            " 0   first_name  5 non-null      object        \n",
            " 1   last_name   5 non-null      object        \n",
            " 2   marks       5 non-null      int64         \n",
            " 3   result      5 non-null      object        \n",
            " 4   Result      5 non-null      object        \n",
            " 5   Results     5 non-null      object        \n",
            " 6   date        5 non-null      datetime64[ns]\n",
            "dtypes: datetime64[ns](1), int64(1), object(5)\n",
            "memory usage: 320.0+ bytes\n"
          ]
        }
      ]
    },
    {
      "cell_type": "code",
      "source": [
        "df.head(2)"
      ],
      "metadata": {
        "colab": {
          "base_uri": "https://localhost:8080/",
          "height": 112
        },
        "id": "QPgkHnsVgFf1",
        "outputId": "98bb1394-5d53-41c1-9830-e9acf9f00ff9"
      },
      "execution_count": null,
      "outputs": [
        {
          "output_type": "execute_result",
          "data": {
            "text/plain": [
              "  first_name last_name  marks result Result Results       date\n",
              "1        Ram     Kumar     12   Fail   fail    fail 2011-11-08\n",
              "2      Mohan    Sharma     52   Pass   pass    pass 2008-04-23"
            ],
            "text/html": [
              "\n",
              "  <div id=\"df-a3000767-9e04-4a01-979f-7b7e5b6b20d7\">\n",
              "    <div class=\"colab-df-container\">\n",
              "      <div>\n",
              "<style scoped>\n",
              "    .dataframe tbody tr th:only-of-type {\n",
              "        vertical-align: middle;\n",
              "    }\n",
              "\n",
              "    .dataframe tbody tr th {\n",
              "        vertical-align: top;\n",
              "    }\n",
              "\n",
              "    .dataframe thead th {\n",
              "        text-align: right;\n",
              "    }\n",
              "</style>\n",
              "<table border=\"1\" class=\"dataframe\">\n",
              "  <thead>\n",
              "    <tr style=\"text-align: right;\">\n",
              "      <th></th>\n",
              "      <th>first_name</th>\n",
              "      <th>last_name</th>\n",
              "      <th>marks</th>\n",
              "      <th>result</th>\n",
              "      <th>Result</th>\n",
              "      <th>Results</th>\n",
              "      <th>date</th>\n",
              "    </tr>\n",
              "  </thead>\n",
              "  <tbody>\n",
              "    <tr>\n",
              "      <th>1</th>\n",
              "      <td>Ram</td>\n",
              "      <td>Kumar</td>\n",
              "      <td>12</td>\n",
              "      <td>Fail</td>\n",
              "      <td>fail</td>\n",
              "      <td>fail</td>\n",
              "      <td>2011-11-08</td>\n",
              "    </tr>\n",
              "    <tr>\n",
              "      <th>2</th>\n",
              "      <td>Mohan</td>\n",
              "      <td>Sharma</td>\n",
              "      <td>52</td>\n",
              "      <td>Pass</td>\n",
              "      <td>pass</td>\n",
              "      <td>pass</td>\n",
              "      <td>2008-04-23</td>\n",
              "    </tr>\n",
              "  </tbody>\n",
              "</table>\n",
              "</div>\n",
              "      <button class=\"colab-df-convert\" onclick=\"convertToInteractive('df-a3000767-9e04-4a01-979f-7b7e5b6b20d7')\"\n",
              "              title=\"Convert this dataframe to an interactive table.\"\n",
              "              style=\"display:none;\">\n",
              "        \n",
              "  <svg xmlns=\"http://www.w3.org/2000/svg\" height=\"24px\"viewBox=\"0 0 24 24\"\n",
              "       width=\"24px\">\n",
              "    <path d=\"M0 0h24v24H0V0z\" fill=\"none\"/>\n",
              "    <path d=\"M18.56 5.44l.94 2.06.94-2.06 2.06-.94-2.06-.94-.94-2.06-.94 2.06-2.06.94zm-11 1L8.5 8.5l.94-2.06 2.06-.94-2.06-.94L8.5 2.5l-.94 2.06-2.06.94zm10 10l.94 2.06.94-2.06 2.06-.94-2.06-.94-.94-2.06-.94 2.06-2.06.94z\"/><path d=\"M17.41 7.96l-1.37-1.37c-.4-.4-.92-.59-1.43-.59-.52 0-1.04.2-1.43.59L10.3 9.45l-7.72 7.72c-.78.78-.78 2.05 0 2.83L4 21.41c.39.39.9.59 1.41.59.51 0 1.02-.2 1.41-.59l7.78-7.78 2.81-2.81c.8-.78.8-2.07 0-2.86zM5.41 20L4 18.59l7.72-7.72 1.47 1.35L5.41 20z\"/>\n",
              "  </svg>\n",
              "      </button>\n",
              "      \n",
              "  <style>\n",
              "    .colab-df-container {\n",
              "      display:flex;\n",
              "      flex-wrap:wrap;\n",
              "      gap: 12px;\n",
              "    }\n",
              "\n",
              "    .colab-df-convert {\n",
              "      background-color: #E8F0FE;\n",
              "      border: none;\n",
              "      border-radius: 50%;\n",
              "      cursor: pointer;\n",
              "      display: none;\n",
              "      fill: #1967D2;\n",
              "      height: 32px;\n",
              "      padding: 0 0 0 0;\n",
              "      width: 32px;\n",
              "    }\n",
              "\n",
              "    .colab-df-convert:hover {\n",
              "      background-color: #E2EBFA;\n",
              "      box-shadow: 0px 1px 2px rgba(60, 64, 67, 0.3), 0px 1px 3px 1px rgba(60, 64, 67, 0.15);\n",
              "      fill: #174EA6;\n",
              "    }\n",
              "\n",
              "    [theme=dark] .colab-df-convert {\n",
              "      background-color: #3B4455;\n",
              "      fill: #D2E3FC;\n",
              "    }\n",
              "\n",
              "    [theme=dark] .colab-df-convert:hover {\n",
              "      background-color: #434B5C;\n",
              "      box-shadow: 0px 1px 3px 1px rgba(0, 0, 0, 0.15);\n",
              "      filter: drop-shadow(0px 1px 2px rgba(0, 0, 0, 0.3));\n",
              "      fill: #FFFFFF;\n",
              "    }\n",
              "  </style>\n",
              "\n",
              "      <script>\n",
              "        const buttonEl =\n",
              "          document.querySelector('#df-a3000767-9e04-4a01-979f-7b7e5b6b20d7 button.colab-df-convert');\n",
              "        buttonEl.style.display =\n",
              "          google.colab.kernel.accessAllowed ? 'block' : 'none';\n",
              "\n",
              "        async function convertToInteractive(key) {\n",
              "          const element = document.querySelector('#df-a3000767-9e04-4a01-979f-7b7e5b6b20d7');\n",
              "          const dataTable =\n",
              "            await google.colab.kernel.invokeFunction('convertToInteractive',\n",
              "                                                     [key], {});\n",
              "          if (!dataTable) return;\n",
              "\n",
              "          const docLinkHtml = 'Like what you see? Visit the ' +\n",
              "            '<a target=\"_blank\" href=https://colab.research.google.com/notebooks/data_table.ipynb>data table notebook</a>'\n",
              "            + ' to learn more about interactive tables.';\n",
              "          element.innerHTML = '';\n",
              "          dataTable['output_type'] = 'display_data';\n",
              "          await google.colab.output.renderOutput(dataTable, element);\n",
              "          const docLink = document.createElement('div');\n",
              "          docLink.innerHTML = docLinkHtml;\n",
              "          element.appendChild(docLink);\n",
              "        }\n",
              "      </script>\n",
              "    </div>\n",
              "  </div>\n",
              "  "
            ]
          },
          "metadata": {},
          "execution_count": 33
        }
      ]
    },
    {
      "cell_type": "code",
      "source": [
        "df[\"dates\"] =[200512,200125,160623,191030,160428]"
      ],
      "metadata": {
        "id": "-V37uOypgFiw"
      },
      "execution_count": 19,
      "outputs": []
    },
    {
      "cell_type": "code",
      "source": [
        "#changing date\n",
        "df[\"dates\"]=pd.to_datetime(df[\"dates\"],format='%y%m%d')"
      ],
      "metadata": {
        "id": "JtqDRjLKgFlT"
      },
      "execution_count": 20,
      "outputs": []
    },
    {
      "cell_type": "code",
      "source": [
        "df.head(2)"
      ],
      "metadata": {
        "colab": {
          "base_uri": "https://localhost:8080/",
          "height": 112
        },
        "id": "HopDC91ygFoe",
        "outputId": "fe8ad688-ae7a-46c1-b208-8e35d3258648"
      },
      "execution_count": 21,
      "outputs": [
        {
          "output_type": "execute_result",
          "data": {
            "text/plain": [
              "  first_name last_name  marks result Result Results       date      dates\n",
              "1        Ram     Kumar     12   Fail   fail    fail 2011-11-08 2020-05-12\n",
              "2      Mohan    Sharma     52   Pass   pass    pass 2008-04-23 2020-01-25"
            ],
            "text/html": [
              "\n",
              "  <div id=\"df-bfbbaf9c-4c27-49d7-935e-19a535c58950\">\n",
              "    <div class=\"colab-df-container\">\n",
              "      <div>\n",
              "<style scoped>\n",
              "    .dataframe tbody tr th:only-of-type {\n",
              "        vertical-align: middle;\n",
              "    }\n",
              "\n",
              "    .dataframe tbody tr th {\n",
              "        vertical-align: top;\n",
              "    }\n",
              "\n",
              "    .dataframe thead th {\n",
              "        text-align: right;\n",
              "    }\n",
              "</style>\n",
              "<table border=\"1\" class=\"dataframe\">\n",
              "  <thead>\n",
              "    <tr style=\"text-align: right;\">\n",
              "      <th></th>\n",
              "      <th>first_name</th>\n",
              "      <th>last_name</th>\n",
              "      <th>marks</th>\n",
              "      <th>result</th>\n",
              "      <th>Result</th>\n",
              "      <th>Results</th>\n",
              "      <th>date</th>\n",
              "      <th>dates</th>\n",
              "    </tr>\n",
              "  </thead>\n",
              "  <tbody>\n",
              "    <tr>\n",
              "      <th>1</th>\n",
              "      <td>Ram</td>\n",
              "      <td>Kumar</td>\n",
              "      <td>12</td>\n",
              "      <td>Fail</td>\n",
              "      <td>fail</td>\n",
              "      <td>fail</td>\n",
              "      <td>2011-11-08</td>\n",
              "      <td>2020-05-12</td>\n",
              "    </tr>\n",
              "    <tr>\n",
              "      <th>2</th>\n",
              "      <td>Mohan</td>\n",
              "      <td>Sharma</td>\n",
              "      <td>52</td>\n",
              "      <td>Pass</td>\n",
              "      <td>pass</td>\n",
              "      <td>pass</td>\n",
              "      <td>2008-04-23</td>\n",
              "      <td>2020-01-25</td>\n",
              "    </tr>\n",
              "  </tbody>\n",
              "</table>\n",
              "</div>\n",
              "      <button class=\"colab-df-convert\" onclick=\"convertToInteractive('df-bfbbaf9c-4c27-49d7-935e-19a535c58950')\"\n",
              "              title=\"Convert this dataframe to an interactive table.\"\n",
              "              style=\"display:none;\">\n",
              "        \n",
              "  <svg xmlns=\"http://www.w3.org/2000/svg\" height=\"24px\"viewBox=\"0 0 24 24\"\n",
              "       width=\"24px\">\n",
              "    <path d=\"M0 0h24v24H0V0z\" fill=\"none\"/>\n",
              "    <path d=\"M18.56 5.44l.94 2.06.94-2.06 2.06-.94-2.06-.94-.94-2.06-.94 2.06-2.06.94zm-11 1L8.5 8.5l.94-2.06 2.06-.94-2.06-.94L8.5 2.5l-.94 2.06-2.06.94zm10 10l.94 2.06.94-2.06 2.06-.94-2.06-.94-.94-2.06-.94 2.06-2.06.94z\"/><path d=\"M17.41 7.96l-1.37-1.37c-.4-.4-.92-.59-1.43-.59-.52 0-1.04.2-1.43.59L10.3 9.45l-7.72 7.72c-.78.78-.78 2.05 0 2.83L4 21.41c.39.39.9.59 1.41.59.51 0 1.02-.2 1.41-.59l7.78-7.78 2.81-2.81c.8-.78.8-2.07 0-2.86zM5.41 20L4 18.59l7.72-7.72 1.47 1.35L5.41 20z\"/>\n",
              "  </svg>\n",
              "      </button>\n",
              "      \n",
              "  <style>\n",
              "    .colab-df-container {\n",
              "      display:flex;\n",
              "      flex-wrap:wrap;\n",
              "      gap: 12px;\n",
              "    }\n",
              "\n",
              "    .colab-df-convert {\n",
              "      background-color: #E8F0FE;\n",
              "      border: none;\n",
              "      border-radius: 50%;\n",
              "      cursor: pointer;\n",
              "      display: none;\n",
              "      fill: #1967D2;\n",
              "      height: 32px;\n",
              "      padding: 0 0 0 0;\n",
              "      width: 32px;\n",
              "    }\n",
              "\n",
              "    .colab-df-convert:hover {\n",
              "      background-color: #E2EBFA;\n",
              "      box-shadow: 0px 1px 2px rgba(60, 64, 67, 0.3), 0px 1px 3px 1px rgba(60, 64, 67, 0.15);\n",
              "      fill: #174EA6;\n",
              "    }\n",
              "\n",
              "    [theme=dark] .colab-df-convert {\n",
              "      background-color: #3B4455;\n",
              "      fill: #D2E3FC;\n",
              "    }\n",
              "\n",
              "    [theme=dark] .colab-df-convert:hover {\n",
              "      background-color: #434B5C;\n",
              "      box-shadow: 0px 1px 3px 1px rgba(0, 0, 0, 0.15);\n",
              "      filter: drop-shadow(0px 1px 2px rgba(0, 0, 0, 0.3));\n",
              "      fill: #FFFFFF;\n",
              "    }\n",
              "  </style>\n",
              "\n",
              "      <script>\n",
              "        const buttonEl =\n",
              "          document.querySelector('#df-bfbbaf9c-4c27-49d7-935e-19a535c58950 button.colab-df-convert');\n",
              "        buttonEl.style.display =\n",
              "          google.colab.kernel.accessAllowed ? 'block' : 'none';\n",
              "\n",
              "        async function convertToInteractive(key) {\n",
              "          const element = document.querySelector('#df-bfbbaf9c-4c27-49d7-935e-19a535c58950');\n",
              "          const dataTable =\n",
              "            await google.colab.kernel.invokeFunction('convertToInteractive',\n",
              "                                                     [key], {});\n",
              "          if (!dataTable) return;\n",
              "\n",
              "          const docLinkHtml = 'Like what you see? Visit the ' +\n",
              "            '<a target=\"_blank\" href=https://colab.research.google.com/notebooks/data_table.ipynb>data table notebook</a>'\n",
              "            + ' to learn more about interactive tables.';\n",
              "          element.innerHTML = '';\n",
              "          dataTable['output_type'] = 'display_data';\n",
              "          await google.colab.output.renderOutput(dataTable, element);\n",
              "          const docLink = document.createElement('div');\n",
              "          docLink.innerHTML = docLinkHtml;\n",
              "          element.appendChild(docLink);\n",
              "        }\n",
              "      </script>\n",
              "    </div>\n",
              "  </div>\n",
              "  "
            ]
          },
          "metadata": {},
          "execution_count": 21
        }
      ]
    },
    {
      "cell_type": "code",
      "source": [
        "address = ['Delhi', 'Bangalore', 'Chennai', 'Patna',\"bihar\"]"
      ],
      "metadata": {
        "id": "NwQ24JEIgFrr"
      },
      "execution_count": 174,
      "outputs": []
    },
    {
      "cell_type": "code",
      "source": [
        "#adding column address\n",
        "df[\"address\"]= address"
      ],
      "metadata": {
        "id": "20Yjy3YXgF1U"
      },
      "execution_count": 175,
      "outputs": []
    },
    {
      "cell_type": "code",
      "source": [
        "df.head(3)"
      ],
      "metadata": {
        "colab": {
          "base_uri": "https://localhost:8080/",
          "height": 143
        },
        "id": "l64JBB_Xkabp",
        "outputId": "f73e1bb0-9783-4fd5-8173-fc8fb990f021"
      },
      "execution_count": 24,
      "outputs": [
        {
          "output_type": "execute_result",
          "data": {
            "text/plain": [
              "  first_name last_name  marks result Result Results       date      dates  \\\n",
              "1        Ram     Kumar     12   Fail   fail    fail 2011-11-08 2020-05-12   \n",
              "2      Mohan    Sharma     52   Pass   pass    pass 2008-04-23 2020-01-25   \n",
              "3       Tina       Ali     36   Pass   pass    pass 2019-10-02 2016-06-23   \n",
              "\n",
              "     address  \n",
              "1      Delhi  \n",
              "2  Bangalore  \n",
              "3    Chennai  "
            ],
            "text/html": [
              "\n",
              "  <div id=\"df-69e78143-0b11-4909-82e1-851c2472e0d6\">\n",
              "    <div class=\"colab-df-container\">\n",
              "      <div>\n",
              "<style scoped>\n",
              "    .dataframe tbody tr th:only-of-type {\n",
              "        vertical-align: middle;\n",
              "    }\n",
              "\n",
              "    .dataframe tbody tr th {\n",
              "        vertical-align: top;\n",
              "    }\n",
              "\n",
              "    .dataframe thead th {\n",
              "        text-align: right;\n",
              "    }\n",
              "</style>\n",
              "<table border=\"1\" class=\"dataframe\">\n",
              "  <thead>\n",
              "    <tr style=\"text-align: right;\">\n",
              "      <th></th>\n",
              "      <th>first_name</th>\n",
              "      <th>last_name</th>\n",
              "      <th>marks</th>\n",
              "      <th>result</th>\n",
              "      <th>Result</th>\n",
              "      <th>Results</th>\n",
              "      <th>date</th>\n",
              "      <th>dates</th>\n",
              "      <th>address</th>\n",
              "    </tr>\n",
              "  </thead>\n",
              "  <tbody>\n",
              "    <tr>\n",
              "      <th>1</th>\n",
              "      <td>Ram</td>\n",
              "      <td>Kumar</td>\n",
              "      <td>12</td>\n",
              "      <td>Fail</td>\n",
              "      <td>fail</td>\n",
              "      <td>fail</td>\n",
              "      <td>2011-11-08</td>\n",
              "      <td>2020-05-12</td>\n",
              "      <td>Delhi</td>\n",
              "    </tr>\n",
              "    <tr>\n",
              "      <th>2</th>\n",
              "      <td>Mohan</td>\n",
              "      <td>Sharma</td>\n",
              "      <td>52</td>\n",
              "      <td>Pass</td>\n",
              "      <td>pass</td>\n",
              "      <td>pass</td>\n",
              "      <td>2008-04-23</td>\n",
              "      <td>2020-01-25</td>\n",
              "      <td>Bangalore</td>\n",
              "    </tr>\n",
              "    <tr>\n",
              "      <th>3</th>\n",
              "      <td>Tina</td>\n",
              "      <td>Ali</td>\n",
              "      <td>36</td>\n",
              "      <td>Pass</td>\n",
              "      <td>pass</td>\n",
              "      <td>pass</td>\n",
              "      <td>2019-10-02</td>\n",
              "      <td>2016-06-23</td>\n",
              "      <td>Chennai</td>\n",
              "    </tr>\n",
              "  </tbody>\n",
              "</table>\n",
              "</div>\n",
              "      <button class=\"colab-df-convert\" onclick=\"convertToInteractive('df-69e78143-0b11-4909-82e1-851c2472e0d6')\"\n",
              "              title=\"Convert this dataframe to an interactive table.\"\n",
              "              style=\"display:none;\">\n",
              "        \n",
              "  <svg xmlns=\"http://www.w3.org/2000/svg\" height=\"24px\"viewBox=\"0 0 24 24\"\n",
              "       width=\"24px\">\n",
              "    <path d=\"M0 0h24v24H0V0z\" fill=\"none\"/>\n",
              "    <path d=\"M18.56 5.44l.94 2.06.94-2.06 2.06-.94-2.06-.94-.94-2.06-.94 2.06-2.06.94zm-11 1L8.5 8.5l.94-2.06 2.06-.94-2.06-.94L8.5 2.5l-.94 2.06-2.06.94zm10 10l.94 2.06.94-2.06 2.06-.94-2.06-.94-.94-2.06-.94 2.06-2.06.94z\"/><path d=\"M17.41 7.96l-1.37-1.37c-.4-.4-.92-.59-1.43-.59-.52 0-1.04.2-1.43.59L10.3 9.45l-7.72 7.72c-.78.78-.78 2.05 0 2.83L4 21.41c.39.39.9.59 1.41.59.51 0 1.02-.2 1.41-.59l7.78-7.78 2.81-2.81c.8-.78.8-2.07 0-2.86zM5.41 20L4 18.59l7.72-7.72 1.47 1.35L5.41 20z\"/>\n",
              "  </svg>\n",
              "      </button>\n",
              "      \n",
              "  <style>\n",
              "    .colab-df-container {\n",
              "      display:flex;\n",
              "      flex-wrap:wrap;\n",
              "      gap: 12px;\n",
              "    }\n",
              "\n",
              "    .colab-df-convert {\n",
              "      background-color: #E8F0FE;\n",
              "      border: none;\n",
              "      border-radius: 50%;\n",
              "      cursor: pointer;\n",
              "      display: none;\n",
              "      fill: #1967D2;\n",
              "      height: 32px;\n",
              "      padding: 0 0 0 0;\n",
              "      width: 32px;\n",
              "    }\n",
              "\n",
              "    .colab-df-convert:hover {\n",
              "      background-color: #E2EBFA;\n",
              "      box-shadow: 0px 1px 2px rgba(60, 64, 67, 0.3), 0px 1px 3px 1px rgba(60, 64, 67, 0.15);\n",
              "      fill: #174EA6;\n",
              "    }\n",
              "\n",
              "    [theme=dark] .colab-df-convert {\n",
              "      background-color: #3B4455;\n",
              "      fill: #D2E3FC;\n",
              "    }\n",
              "\n",
              "    [theme=dark] .colab-df-convert:hover {\n",
              "      background-color: #434B5C;\n",
              "      box-shadow: 0px 1px 3px 1px rgba(0, 0, 0, 0.15);\n",
              "      filter: drop-shadow(0px 1px 2px rgba(0, 0, 0, 0.3));\n",
              "      fill: #FFFFFF;\n",
              "    }\n",
              "  </style>\n",
              "\n",
              "      <script>\n",
              "        const buttonEl =\n",
              "          document.querySelector('#df-69e78143-0b11-4909-82e1-851c2472e0d6 button.colab-df-convert');\n",
              "        buttonEl.style.display =\n",
              "          google.colab.kernel.accessAllowed ? 'block' : 'none';\n",
              "\n",
              "        async function convertToInteractive(key) {\n",
              "          const element = document.querySelector('#df-69e78143-0b11-4909-82e1-851c2472e0d6');\n",
              "          const dataTable =\n",
              "            await google.colab.kernel.invokeFunction('convertToInteractive',\n",
              "                                                     [key], {});\n",
              "          if (!dataTable) return;\n",
              "\n",
              "          const docLinkHtml = 'Like what you see? Visit the ' +\n",
              "            '<a target=\"_blank\" href=https://colab.research.google.com/notebooks/data_table.ipynb>data table notebook</a>'\n",
              "            + ' to learn more about interactive tables.';\n",
              "          element.innerHTML = '';\n",
              "          dataTable['output_type'] = 'display_data';\n",
              "          await google.colab.output.renderOutput(dataTable, element);\n",
              "          const docLink = document.createElement('div');\n",
              "          docLink.innerHTML = docLinkHtml;\n",
              "          element.appendChild(docLink);\n",
              "        }\n",
              "      </script>\n",
              "    </div>\n",
              "  </div>\n",
              "  "
            ]
          },
          "metadata": {},
          "execution_count": 24
        }
      ]
    },
    {
      "cell_type": "code",
      "source": [
        "df.drop(columns=\"Result\",inplace=True)\n",
        "df.drop(columns=\"result\",inplace=True)"
      ],
      "metadata": {
        "id": "VouTGym5kayv"
      },
      "execution_count": 176,
      "outputs": []
    },
    {
      "cell_type": "code",
      "source": [
        "df.drop(columns=\"dates\",inplace=True)"
      ],
      "metadata": {
        "id": "EMkhKBKQlATk"
      },
      "execution_count": 26,
      "outputs": []
    },
    {
      "cell_type": "code",
      "source": [
        "#inserting column in specific position\n",
        "df.insert(2,\"age\",[20,21,22,23,24])"
      ],
      "metadata": {
        "id": "CyKhRrKwka2Z"
      },
      "execution_count": 177,
      "outputs": []
    },
    {
      "cell_type": "code",
      "source": [
        "df.head(2)"
      ],
      "metadata": {
        "colab": {
          "base_uri": "https://localhost:8080/",
          "height": 112
        },
        "id": "9Nt5Kf8RkbNZ",
        "outputId": "0b6225e5-22dc-47ab-d2af-58ea4dde41a5"
      },
      "execution_count": 178,
      "outputs": [
        {
          "output_type": "execute_result",
          "data": {
            "text/plain": [
              "  first_name last_name  age  marks Results        date    address\n",
              "1        Ram     Kumar   20     12    fail   11/8/2011      Delhi\n",
              "2      Mohan    Sharma   21     52    pass  04/23/2008  Bangalore"
            ],
            "text/html": [
              "\n",
              "  <div id=\"df-42e81bfe-eab1-4d27-8d23-bf8dcb108f4e\">\n",
              "    <div class=\"colab-df-container\">\n",
              "      <div>\n",
              "<style scoped>\n",
              "    .dataframe tbody tr th:only-of-type {\n",
              "        vertical-align: middle;\n",
              "    }\n",
              "\n",
              "    .dataframe tbody tr th {\n",
              "        vertical-align: top;\n",
              "    }\n",
              "\n",
              "    .dataframe thead th {\n",
              "        text-align: right;\n",
              "    }\n",
              "</style>\n",
              "<table border=\"1\" class=\"dataframe\">\n",
              "  <thead>\n",
              "    <tr style=\"text-align: right;\">\n",
              "      <th></th>\n",
              "      <th>first_name</th>\n",
              "      <th>last_name</th>\n",
              "      <th>age</th>\n",
              "      <th>marks</th>\n",
              "      <th>Results</th>\n",
              "      <th>date</th>\n",
              "      <th>address</th>\n",
              "    </tr>\n",
              "  </thead>\n",
              "  <tbody>\n",
              "    <tr>\n",
              "      <th>1</th>\n",
              "      <td>Ram</td>\n",
              "      <td>Kumar</td>\n",
              "      <td>20</td>\n",
              "      <td>12</td>\n",
              "      <td>fail</td>\n",
              "      <td>11/8/2011</td>\n",
              "      <td>Delhi</td>\n",
              "    </tr>\n",
              "    <tr>\n",
              "      <th>2</th>\n",
              "      <td>Mohan</td>\n",
              "      <td>Sharma</td>\n",
              "      <td>21</td>\n",
              "      <td>52</td>\n",
              "      <td>pass</td>\n",
              "      <td>04/23/2008</td>\n",
              "      <td>Bangalore</td>\n",
              "    </tr>\n",
              "  </tbody>\n",
              "</table>\n",
              "</div>\n",
              "      <button class=\"colab-df-convert\" onclick=\"convertToInteractive('df-42e81bfe-eab1-4d27-8d23-bf8dcb108f4e')\"\n",
              "              title=\"Convert this dataframe to an interactive table.\"\n",
              "              style=\"display:none;\">\n",
              "        \n",
              "  <svg xmlns=\"http://www.w3.org/2000/svg\" height=\"24px\"viewBox=\"0 0 24 24\"\n",
              "       width=\"24px\">\n",
              "    <path d=\"M0 0h24v24H0V0z\" fill=\"none\"/>\n",
              "    <path d=\"M18.56 5.44l.94 2.06.94-2.06 2.06-.94-2.06-.94-.94-2.06-.94 2.06-2.06.94zm-11 1L8.5 8.5l.94-2.06 2.06-.94-2.06-.94L8.5 2.5l-.94 2.06-2.06.94zm10 10l.94 2.06.94-2.06 2.06-.94-2.06-.94-.94-2.06-.94 2.06-2.06.94z\"/><path d=\"M17.41 7.96l-1.37-1.37c-.4-.4-.92-.59-1.43-.59-.52 0-1.04.2-1.43.59L10.3 9.45l-7.72 7.72c-.78.78-.78 2.05 0 2.83L4 21.41c.39.39.9.59 1.41.59.51 0 1.02-.2 1.41-.59l7.78-7.78 2.81-2.81c.8-.78.8-2.07 0-2.86zM5.41 20L4 18.59l7.72-7.72 1.47 1.35L5.41 20z\"/>\n",
              "  </svg>\n",
              "      </button>\n",
              "      \n",
              "  <style>\n",
              "    .colab-df-container {\n",
              "      display:flex;\n",
              "      flex-wrap:wrap;\n",
              "      gap: 12px;\n",
              "    }\n",
              "\n",
              "    .colab-df-convert {\n",
              "      background-color: #E8F0FE;\n",
              "      border: none;\n",
              "      border-radius: 50%;\n",
              "      cursor: pointer;\n",
              "      display: none;\n",
              "      fill: #1967D2;\n",
              "      height: 32px;\n",
              "      padding: 0 0 0 0;\n",
              "      width: 32px;\n",
              "    }\n",
              "\n",
              "    .colab-df-convert:hover {\n",
              "      background-color: #E2EBFA;\n",
              "      box-shadow: 0px 1px 2px rgba(60, 64, 67, 0.3), 0px 1px 3px 1px rgba(60, 64, 67, 0.15);\n",
              "      fill: #174EA6;\n",
              "    }\n",
              "\n",
              "    [theme=dark] .colab-df-convert {\n",
              "      background-color: #3B4455;\n",
              "      fill: #D2E3FC;\n",
              "    }\n",
              "\n",
              "    [theme=dark] .colab-df-convert:hover {\n",
              "      background-color: #434B5C;\n",
              "      box-shadow: 0px 1px 3px 1px rgba(0, 0, 0, 0.15);\n",
              "      filter: drop-shadow(0px 1px 2px rgba(0, 0, 0, 0.3));\n",
              "      fill: #FFFFFF;\n",
              "    }\n",
              "  </style>\n",
              "\n",
              "      <script>\n",
              "        const buttonEl =\n",
              "          document.querySelector('#df-42e81bfe-eab1-4d27-8d23-bf8dcb108f4e button.colab-df-convert');\n",
              "        buttonEl.style.display =\n",
              "          google.colab.kernel.accessAllowed ? 'block' : 'none';\n",
              "\n",
              "        async function convertToInteractive(key) {\n",
              "          const element = document.querySelector('#df-42e81bfe-eab1-4d27-8d23-bf8dcb108f4e');\n",
              "          const dataTable =\n",
              "            await google.colab.kernel.invokeFunction('convertToInteractive',\n",
              "                                                     [key], {});\n",
              "          if (!dataTable) return;\n",
              "\n",
              "          const docLinkHtml = 'Like what you see? Visit the ' +\n",
              "            '<a target=\"_blank\" href=https://colab.research.google.com/notebooks/data_table.ipynb>data table notebook</a>'\n",
              "            + ' to learn more about interactive tables.';\n",
              "          element.innerHTML = '';\n",
              "          dataTable['output_type'] = 'display_data';\n",
              "          await google.colab.output.renderOutput(dataTable, element);\n",
              "          const docLink = document.createElement('div');\n",
              "          docLink.innerHTML = docLinkHtml;\n",
              "          element.appendChild(docLink);\n",
              "        }\n",
              "      </script>\n",
              "    </div>\n",
              "  </div>\n",
              "  "
            ]
          },
          "metadata": {},
          "execution_count": 178
        }
      ]
    },
    {
      "cell_type": "code",
      "source": [
        "#creating a column based on given condition\n",
        "df[\"emotion\"]=[\"happy\" if i==\"pass\" else \"sad\" for i in df[\"Results\"]]"
      ],
      "metadata": {
        "id": "FecD1eP1jef-"
      },
      "execution_count": 179,
      "outputs": []
    },
    {
      "cell_type": "code",
      "source": [
        "df[\"event\"]= ['Music', 'Poetry', 'Music', 'Comedy', 'Poetry']"
      ],
      "metadata": {
        "id": "IdGNc38Sjeiu"
      },
      "execution_count": 180,
      "outputs": []
    },
    {
      "cell_type": "code",
      "source": [
        "df.head(2)"
      ],
      "metadata": {
        "colab": {
          "base_uri": "https://localhost:8080/"
        },
        "id": "8vsqVHfWjelU",
        "outputId": "de2680e8-bb82-42e5-d775-ef871232b44e"
      },
      "execution_count": 160,
      "outputs": [
        {
          "output_type": "execute_result",
          "data": {
            "text/plain": [
              "1    jeetu\n",
              "2    meera\n",
              "Name: first_name, dtype: object"
            ]
          },
          "metadata": {},
          "execution_count": 160
        }
      ]
    },
    {
      "cell_type": "code",
      "source": [
        "#using df.map() fun to get colum\n",
        "event_dict = {'Music':1500,\"Poetry\":800,\"Comedy\":1200}\n",
        "df[\"price\"]=df[\"event\"].map(event_dict)"
      ],
      "metadata": {
        "id": "zdBU_7ydjeqr"
      },
      "execution_count": 181,
      "outputs": []
    },
    {
      "cell_type": "code",
      "source": [
        "df.head(2)"
      ],
      "metadata": {
        "colab": {
          "base_uri": "https://localhost:8080/",
          "height": 112
        },
        "id": "8hrbCp9ujetd",
        "outputId": "80c31340-f2b0-483a-cf25-3cd4c910da4b"
      },
      "execution_count": 182,
      "outputs": [
        {
          "output_type": "execute_result",
          "data": {
            "text/plain": [
              "  first_name last_name  age  marks Results        date    address emotion  \\\n",
              "1        Ram     Kumar   20     12    fail   11/8/2011      Delhi     sad   \n",
              "2      Mohan    Sharma   21     52    pass  04/23/2008  Bangalore   happy   \n",
              "\n",
              "    event  price  \n",
              "1   Music   1500  \n",
              "2  Poetry    800  "
            ],
            "text/html": [
              "\n",
              "  <div id=\"df-dd3c114f-8335-4ead-90b8-3873adfbab45\">\n",
              "    <div class=\"colab-df-container\">\n",
              "      <div>\n",
              "<style scoped>\n",
              "    .dataframe tbody tr th:only-of-type {\n",
              "        vertical-align: middle;\n",
              "    }\n",
              "\n",
              "    .dataframe tbody tr th {\n",
              "        vertical-align: top;\n",
              "    }\n",
              "\n",
              "    .dataframe thead th {\n",
              "        text-align: right;\n",
              "    }\n",
              "</style>\n",
              "<table border=\"1\" class=\"dataframe\">\n",
              "  <thead>\n",
              "    <tr style=\"text-align: right;\">\n",
              "      <th></th>\n",
              "      <th>first_name</th>\n",
              "      <th>last_name</th>\n",
              "      <th>age</th>\n",
              "      <th>marks</th>\n",
              "      <th>Results</th>\n",
              "      <th>date</th>\n",
              "      <th>address</th>\n",
              "      <th>emotion</th>\n",
              "      <th>event</th>\n",
              "      <th>price</th>\n",
              "    </tr>\n",
              "  </thead>\n",
              "  <tbody>\n",
              "    <tr>\n",
              "      <th>1</th>\n",
              "      <td>Ram</td>\n",
              "      <td>Kumar</td>\n",
              "      <td>20</td>\n",
              "      <td>12</td>\n",
              "      <td>fail</td>\n",
              "      <td>11/8/2011</td>\n",
              "      <td>Delhi</td>\n",
              "      <td>sad</td>\n",
              "      <td>Music</td>\n",
              "      <td>1500</td>\n",
              "    </tr>\n",
              "    <tr>\n",
              "      <th>2</th>\n",
              "      <td>Mohan</td>\n",
              "      <td>Sharma</td>\n",
              "      <td>21</td>\n",
              "      <td>52</td>\n",
              "      <td>pass</td>\n",
              "      <td>04/23/2008</td>\n",
              "      <td>Bangalore</td>\n",
              "      <td>happy</td>\n",
              "      <td>Poetry</td>\n",
              "      <td>800</td>\n",
              "    </tr>\n",
              "  </tbody>\n",
              "</table>\n",
              "</div>\n",
              "      <button class=\"colab-df-convert\" onclick=\"convertToInteractive('df-dd3c114f-8335-4ead-90b8-3873adfbab45')\"\n",
              "              title=\"Convert this dataframe to an interactive table.\"\n",
              "              style=\"display:none;\">\n",
              "        \n",
              "  <svg xmlns=\"http://www.w3.org/2000/svg\" height=\"24px\"viewBox=\"0 0 24 24\"\n",
              "       width=\"24px\">\n",
              "    <path d=\"M0 0h24v24H0V0z\" fill=\"none\"/>\n",
              "    <path d=\"M18.56 5.44l.94 2.06.94-2.06 2.06-.94-2.06-.94-.94-2.06-.94 2.06-2.06.94zm-11 1L8.5 8.5l.94-2.06 2.06-.94-2.06-.94L8.5 2.5l-.94 2.06-2.06.94zm10 10l.94 2.06.94-2.06 2.06-.94-2.06-.94-.94-2.06-.94 2.06-2.06.94z\"/><path d=\"M17.41 7.96l-1.37-1.37c-.4-.4-.92-.59-1.43-.59-.52 0-1.04.2-1.43.59L10.3 9.45l-7.72 7.72c-.78.78-.78 2.05 0 2.83L4 21.41c.39.39.9.59 1.41.59.51 0 1.02-.2 1.41-.59l7.78-7.78 2.81-2.81c.8-.78.8-2.07 0-2.86zM5.41 20L4 18.59l7.72-7.72 1.47 1.35L5.41 20z\"/>\n",
              "  </svg>\n",
              "      </button>\n",
              "      \n",
              "  <style>\n",
              "    .colab-df-container {\n",
              "      display:flex;\n",
              "      flex-wrap:wrap;\n",
              "      gap: 12px;\n",
              "    }\n",
              "\n",
              "    .colab-df-convert {\n",
              "      background-color: #E8F0FE;\n",
              "      border: none;\n",
              "      border-radius: 50%;\n",
              "      cursor: pointer;\n",
              "      display: none;\n",
              "      fill: #1967D2;\n",
              "      height: 32px;\n",
              "      padding: 0 0 0 0;\n",
              "      width: 32px;\n",
              "    }\n",
              "\n",
              "    .colab-df-convert:hover {\n",
              "      background-color: #E2EBFA;\n",
              "      box-shadow: 0px 1px 2px rgba(60, 64, 67, 0.3), 0px 1px 3px 1px rgba(60, 64, 67, 0.15);\n",
              "      fill: #174EA6;\n",
              "    }\n",
              "\n",
              "    [theme=dark] .colab-df-convert {\n",
              "      background-color: #3B4455;\n",
              "      fill: #D2E3FC;\n",
              "    }\n",
              "\n",
              "    [theme=dark] .colab-df-convert:hover {\n",
              "      background-color: #434B5C;\n",
              "      box-shadow: 0px 1px 3px 1px rgba(0, 0, 0, 0.15);\n",
              "      filter: drop-shadow(0px 1px 2px rgba(0, 0, 0, 0.3));\n",
              "      fill: #FFFFFF;\n",
              "    }\n",
              "  </style>\n",
              "\n",
              "      <script>\n",
              "        const buttonEl =\n",
              "          document.querySelector('#df-dd3c114f-8335-4ead-90b8-3873adfbab45 button.colab-df-convert');\n",
              "        buttonEl.style.display =\n",
              "          google.colab.kernel.accessAllowed ? 'block' : 'none';\n",
              "\n",
              "        async function convertToInteractive(key) {\n",
              "          const element = document.querySelector('#df-dd3c114f-8335-4ead-90b8-3873adfbab45');\n",
              "          const dataTable =\n",
              "            await google.colab.kernel.invokeFunction('convertToInteractive',\n",
              "                                                     [key], {});\n",
              "          if (!dataTable) return;\n",
              "\n",
              "          const docLinkHtml = 'Like what you see? Visit the ' +\n",
              "            '<a target=\"_blank\" href=https://colab.research.google.com/notebooks/data_table.ipynb>data table notebook</a>'\n",
              "            + ' to learn more about interactive tables.';\n",
              "          element.innerHTML = '';\n",
              "          dataTable['output_type'] = 'display_data';\n",
              "          await google.colab.output.renderOutput(dataTable, element);\n",
              "          const docLink = document.createElement('div');\n",
              "          docLink.innerHTML = docLinkHtml;\n",
              "          element.appendChild(docLink);\n",
              "        }\n",
              "      </script>\n",
              "    </div>\n",
              "  </div>\n",
              "  "
            ]
          },
          "metadata": {},
          "execution_count": 182
        }
      ]
    },
    {
      "cell_type": "code",
      "source": [
        "df[\"marks\"].mean()"
      ],
      "metadata": {
        "colab": {
          "base_uri": "https://localhost:8080/"
        },
        "id": "kVsO9TJmvjNS",
        "outputId": "0c442f6f-d819-4373-978e-7a9b0f52dc65"
      },
      "execution_count": 183,
      "outputs": [
        {
          "output_type": "execute_result",
          "data": {
            "text/plain": [
              "41.6"
            ]
          },
          "metadata": {},
          "execution_count": 183
        }
      ]
    },
    {
      "cell_type": "code",
      "source": [
        "#selecting rows based on conditions using '>', '=', '=', '<=', '!=' operator\n",
        "#selecting all rows whose marks is greater than 41\n",
        "#mre_than_41 = df[df[\"marks\"]>41]\n",
        "#print(\"students who has scored more than 41:\",mre_than_41)\n",
        "#mre_than_41 = df.loc[df[\"marks\"]>41].value_counts().sum()\n",
        "#print(mre_than_41)\n",
        "#Selecting all the rows from the given dataframe in which marks is not equal to 85\n",
        "nt_equal_to_85 = df.loc[df[\"marks\"]!=85].value_counts().sum()\n",
        "print(nt_equal_to_85)"
      ],
      "metadata": {
        "colab": {
          "base_uri": "https://localhost:8080/"
        },
        "id": "DT3FSLTavjP9",
        "outputId": "b265b691-2cc1-4556-b107-33cad9b5715b"
      },
      "execution_count": 184,
      "outputs": [
        {
          "output_type": "stream",
          "name": "stdout",
          "text": [
            "4\n"
          ]
        }
      ]
    },
    {
      "cell_type": "code",
      "source": [
        "#Selecting those rows whose column value is present in the list using isin() method.\n",
        "#selecting rows of all passed students\n",
        "passed_students = df.loc[df[\"Results\"].isin([\"pass\"])].value_counts().sum()\n",
        "print(passed_students)"
      ],
      "metadata": {
        "colab": {
          "base_uri": "https://localhost:8080/"
        },
        "id": "lL23hC6rvjS1",
        "outputId": "a6fdff8c-7abb-4700-d883-30560a779543"
      },
      "execution_count": 185,
      "outputs": [
        {
          "output_type": "stream",
          "name": "stdout",
          "text": [
            "3\n"
          ]
        }
      ]
    },
    {
      "cell_type": "code",
      "source": [
        "df.head(2)"
      ],
      "metadata": {
        "colab": {
          "base_uri": "https://localhost:8080/",
          "height": 112
        },
        "id": "8buezqJ8vjVg",
        "outputId": "73f7b4f1-4b17-4676-fb2f-5472a0eacbd2"
      },
      "execution_count": 34,
      "outputs": [
        {
          "output_type": "execute_result",
          "data": {
            "text/plain": [
              "  first_name last_name  age  marks Results       date    address emotion  \\\n",
              "1        Ram     Kumar   20     12    fail 2011-11-08      Delhi     sad   \n",
              "2      Mohan    Sharma   21     52    pass 2008-04-23  Bangalore   happy   \n",
              "\n",
              "    event  price  \n",
              "1   Music   1500  \n",
              "2  Poetry    800  "
            ],
            "text/html": [
              "\n",
              "  <div id=\"df-3f2eb40c-dbf4-4d36-8c6d-2fffa094dd07\">\n",
              "    <div class=\"colab-df-container\">\n",
              "      <div>\n",
              "<style scoped>\n",
              "    .dataframe tbody tr th:only-of-type {\n",
              "        vertical-align: middle;\n",
              "    }\n",
              "\n",
              "    .dataframe tbody tr th {\n",
              "        vertical-align: top;\n",
              "    }\n",
              "\n",
              "    .dataframe thead th {\n",
              "        text-align: right;\n",
              "    }\n",
              "</style>\n",
              "<table border=\"1\" class=\"dataframe\">\n",
              "  <thead>\n",
              "    <tr style=\"text-align: right;\">\n",
              "      <th></th>\n",
              "      <th>first_name</th>\n",
              "      <th>last_name</th>\n",
              "      <th>age</th>\n",
              "      <th>marks</th>\n",
              "      <th>Results</th>\n",
              "      <th>date</th>\n",
              "      <th>address</th>\n",
              "      <th>emotion</th>\n",
              "      <th>event</th>\n",
              "      <th>price</th>\n",
              "    </tr>\n",
              "  </thead>\n",
              "  <tbody>\n",
              "    <tr>\n",
              "      <th>1</th>\n",
              "      <td>Ram</td>\n",
              "      <td>Kumar</td>\n",
              "      <td>20</td>\n",
              "      <td>12</td>\n",
              "      <td>fail</td>\n",
              "      <td>2011-11-08</td>\n",
              "      <td>Delhi</td>\n",
              "      <td>sad</td>\n",
              "      <td>Music</td>\n",
              "      <td>1500</td>\n",
              "    </tr>\n",
              "    <tr>\n",
              "      <th>2</th>\n",
              "      <td>Mohan</td>\n",
              "      <td>Sharma</td>\n",
              "      <td>21</td>\n",
              "      <td>52</td>\n",
              "      <td>pass</td>\n",
              "      <td>2008-04-23</td>\n",
              "      <td>Bangalore</td>\n",
              "      <td>happy</td>\n",
              "      <td>Poetry</td>\n",
              "      <td>800</td>\n",
              "    </tr>\n",
              "  </tbody>\n",
              "</table>\n",
              "</div>\n",
              "      <button class=\"colab-df-convert\" onclick=\"convertToInteractive('df-3f2eb40c-dbf4-4d36-8c6d-2fffa094dd07')\"\n",
              "              title=\"Convert this dataframe to an interactive table.\"\n",
              "              style=\"display:none;\">\n",
              "        \n",
              "  <svg xmlns=\"http://www.w3.org/2000/svg\" height=\"24px\"viewBox=\"0 0 24 24\"\n",
              "       width=\"24px\">\n",
              "    <path d=\"M0 0h24v24H0V0z\" fill=\"none\"/>\n",
              "    <path d=\"M18.56 5.44l.94 2.06.94-2.06 2.06-.94-2.06-.94-.94-2.06-.94 2.06-2.06.94zm-11 1L8.5 8.5l.94-2.06 2.06-.94-2.06-.94L8.5 2.5l-.94 2.06-2.06.94zm10 10l.94 2.06.94-2.06 2.06-.94-2.06-.94-.94-2.06-.94 2.06-2.06.94z\"/><path d=\"M17.41 7.96l-1.37-1.37c-.4-.4-.92-.59-1.43-.59-.52 0-1.04.2-1.43.59L10.3 9.45l-7.72 7.72c-.78.78-.78 2.05 0 2.83L4 21.41c.39.39.9.59 1.41.59.51 0 1.02-.2 1.41-.59l7.78-7.78 2.81-2.81c.8-.78.8-2.07 0-2.86zM5.41 20L4 18.59l7.72-7.72 1.47 1.35L5.41 20z\"/>\n",
              "  </svg>\n",
              "      </button>\n",
              "      \n",
              "  <style>\n",
              "    .colab-df-container {\n",
              "      display:flex;\n",
              "      flex-wrap:wrap;\n",
              "      gap: 12px;\n",
              "    }\n",
              "\n",
              "    .colab-df-convert {\n",
              "      background-color: #E8F0FE;\n",
              "      border: none;\n",
              "      border-radius: 50%;\n",
              "      cursor: pointer;\n",
              "      display: none;\n",
              "      fill: #1967D2;\n",
              "      height: 32px;\n",
              "      padding: 0 0 0 0;\n",
              "      width: 32px;\n",
              "    }\n",
              "\n",
              "    .colab-df-convert:hover {\n",
              "      background-color: #E2EBFA;\n",
              "      box-shadow: 0px 1px 2px rgba(60, 64, 67, 0.3), 0px 1px 3px 1px rgba(60, 64, 67, 0.15);\n",
              "      fill: #174EA6;\n",
              "    }\n",
              "\n",
              "    [theme=dark] .colab-df-convert {\n",
              "      background-color: #3B4455;\n",
              "      fill: #D2E3FC;\n",
              "    }\n",
              "\n",
              "    [theme=dark] .colab-df-convert:hover {\n",
              "      background-color: #434B5C;\n",
              "      box-shadow: 0px 1px 3px 1px rgba(0, 0, 0, 0.15);\n",
              "      filter: drop-shadow(0px 1px 2px rgba(0, 0, 0, 0.3));\n",
              "      fill: #FFFFFF;\n",
              "    }\n",
              "  </style>\n",
              "\n",
              "      <script>\n",
              "        const buttonEl =\n",
              "          document.querySelector('#df-3f2eb40c-dbf4-4d36-8c6d-2fffa094dd07 button.colab-df-convert');\n",
              "        buttonEl.style.display =\n",
              "          google.colab.kernel.accessAllowed ? 'block' : 'none';\n",
              "\n",
              "        async function convertToInteractive(key) {\n",
              "          const element = document.querySelector('#df-3f2eb40c-dbf4-4d36-8c6d-2fffa094dd07');\n",
              "          const dataTable =\n",
              "            await google.colab.kernel.invokeFunction('convertToInteractive',\n",
              "                                                     [key], {});\n",
              "          if (!dataTable) return;\n",
              "\n",
              "          const docLinkHtml = 'Like what you see? Visit the ' +\n",
              "            '<a target=\"_blank\" href=https://colab.research.google.com/notebooks/data_table.ipynb>data table notebook</a>'\n",
              "            + ' to learn more about interactive tables.';\n",
              "          element.innerHTML = '';\n",
              "          dataTable['output_type'] = 'display_data';\n",
              "          await google.colab.output.renderOutput(dataTable, element);\n",
              "          const docLink = document.createElement('div');\n",
              "          docLink.innerHTML = docLinkHtml;\n",
              "          element.appendChild(docLink);\n",
              "        }\n",
              "      </script>\n",
              "    </div>\n",
              "  </div>\n",
              "  "
            ]
          },
          "metadata": {},
          "execution_count": 34
        }
      ]
    },
    {
      "cell_type": "code",
      "source": [
        "#selecting rows of all failed students\n",
        "failed_std = df[~df[\"Results\"].isin([\"pass\"])].value_counts().sum()\n",
        "print(failed_std)"
      ],
      "metadata": {
        "id": "6-ht44AevjYY",
        "colab": {
          "base_uri": "https://localhost:8080/"
        },
        "outputId": "d9103fbc-014a-4ada-8aa5-dada5ffdf100"
      },
      "execution_count": 39,
      "outputs": [
        {
          "output_type": "stream",
          "name": "stdout",
          "text": [
            "2\n"
          ]
        }
      ]
    },
    {
      "cell_type": "code",
      "source": [
        "print(\"\\ndata frame before sorting the data:\",df)\n",
        "df.sort_values(\"first_name\",inplace=True)\n",
        "print(\"\\ndata frame after sorting the data:\",df)"
      ],
      "metadata": {
        "colab": {
          "base_uri": "https://localhost:8080/"
        },
        "id": "A2TEio12XyMd",
        "outputId": "a1fa4534-bfba-4396-d903-6849a6deca6b"
      },
      "execution_count": 50,
      "outputs": [
        {
          "output_type": "stream",
          "name": "stdout",
          "text": [
            "\n",
            "data frame before sorting the data:   first_name last_name  age  marks Results       date    address emotion  \\\n",
            "1        Ram     Kumar   20     12    fail 2011-11-08      Delhi     sad   \n",
            "2      Mohan    Sharma   21     52    pass 2008-04-23  Bangalore   happy   \n",
            "3       Tina       Ali   22     36    pass 2019-10-02    Chennai   happy   \n",
            "4      Jeetu    Gandhi   23     85    pass 2022-11-21      Patna   happy   \n",
            "5      Meera    Kumari   24     23    fail 2020-04-08      bihar     sad   \n",
            "\n",
            "    event  price  \n",
            "1   Music   1500  \n",
            "2  Poetry    800  \n",
            "3   Music   1500  \n",
            "4  Comedy   1200  \n",
            "5  Poetry    800  \n",
            "\n",
            "data frame after sorting the data:   first_name last_name  age  marks Results       date    address emotion  \\\n",
            "4      Jeetu    Gandhi   23     85    pass 2022-11-21      Patna   happy   \n",
            "5      Meera    Kumari   24     23    fail 2020-04-08      bihar     sad   \n",
            "2      Mohan    Sharma   21     52    pass 2008-04-23  Bangalore   happy   \n",
            "1        Ram     Kumar   20     12    fail 2011-11-08      Delhi     sad   \n",
            "3       Tina       Ali   22     36    pass 2019-10-02    Chennai   happy   \n",
            "\n",
            "    event  price  \n",
            "4  Comedy   1200  \n",
            "5  Poetry    800  \n",
            "2  Poetry    800  \n",
            "1   Music   1500  \n",
            "3   Music   1500  \n"
          ]
        }
      ]
    },
    {
      "cell_type": "code",
      "source": [
        "#selecting rows of all passed students  and whose age is greater than 20\n",
        "rslt_df = df[(df[\"age\"]>20) & df[\"Results\"].isin([\"pass\"])].value_counts().sum()\n",
        "print(rslt_df)"
      ],
      "metadata": {
        "id": "umWj_yYdvjaz",
        "colab": {
          "base_uri": "https://localhost:8080/"
        },
        "outputId": "96c536e4-d5c4-4cbe-8adc-ceef1735fe2a"
      },
      "execution_count": 186,
      "outputs": [
        {
          "output_type": "stream",
          "name": "stdout",
          "text": [
            "3\n"
          ]
        }
      ]
    },
    {
      "cell_type": "code",
      "source": [
        "df.head(2)"
      ],
      "metadata": {
        "colab": {
          "base_uri": "https://localhost:8080/",
          "height": 112
        },
        "id": "ZvurXJZKcJeQ",
        "outputId": "02c15d86-fc87-4d83-a71f-20ce02dcae91"
      },
      "execution_count": 51,
      "outputs": [
        {
          "output_type": "execute_result",
          "data": {
            "text/plain": [
              "  first_name last_name  age  marks Results       date address emotion   event  \\\n",
              "4      Jeetu    Gandhi   23     85    pass 2022-11-21   Patna   happy  Comedy   \n",
              "5      Meera    Kumari   24     23    fail 2020-04-08   bihar     sad  Poetry   \n",
              "\n",
              "   price  \n",
              "4   1200  \n",
              "5    800  "
            ],
            "text/html": [
              "\n",
              "  <div id=\"df-1b238f93-181a-4f37-9f32-629056803967\">\n",
              "    <div class=\"colab-df-container\">\n",
              "      <div>\n",
              "<style scoped>\n",
              "    .dataframe tbody tr th:only-of-type {\n",
              "        vertical-align: middle;\n",
              "    }\n",
              "\n",
              "    .dataframe tbody tr th {\n",
              "        vertical-align: top;\n",
              "    }\n",
              "\n",
              "    .dataframe thead th {\n",
              "        text-align: right;\n",
              "    }\n",
              "</style>\n",
              "<table border=\"1\" class=\"dataframe\">\n",
              "  <thead>\n",
              "    <tr style=\"text-align: right;\">\n",
              "      <th></th>\n",
              "      <th>first_name</th>\n",
              "      <th>last_name</th>\n",
              "      <th>age</th>\n",
              "      <th>marks</th>\n",
              "      <th>Results</th>\n",
              "      <th>date</th>\n",
              "      <th>address</th>\n",
              "      <th>emotion</th>\n",
              "      <th>event</th>\n",
              "      <th>price</th>\n",
              "    </tr>\n",
              "  </thead>\n",
              "  <tbody>\n",
              "    <tr>\n",
              "      <th>4</th>\n",
              "      <td>Jeetu</td>\n",
              "      <td>Gandhi</td>\n",
              "      <td>23</td>\n",
              "      <td>85</td>\n",
              "      <td>pass</td>\n",
              "      <td>2022-11-21</td>\n",
              "      <td>Patna</td>\n",
              "      <td>happy</td>\n",
              "      <td>Comedy</td>\n",
              "      <td>1200</td>\n",
              "    </tr>\n",
              "    <tr>\n",
              "      <th>5</th>\n",
              "      <td>Meera</td>\n",
              "      <td>Kumari</td>\n",
              "      <td>24</td>\n",
              "      <td>23</td>\n",
              "      <td>fail</td>\n",
              "      <td>2020-04-08</td>\n",
              "      <td>bihar</td>\n",
              "      <td>sad</td>\n",
              "      <td>Poetry</td>\n",
              "      <td>800</td>\n",
              "    </tr>\n",
              "  </tbody>\n",
              "</table>\n",
              "</div>\n",
              "      <button class=\"colab-df-convert\" onclick=\"convertToInteractive('df-1b238f93-181a-4f37-9f32-629056803967')\"\n",
              "              title=\"Convert this dataframe to an interactive table.\"\n",
              "              style=\"display:none;\">\n",
              "        \n",
              "  <svg xmlns=\"http://www.w3.org/2000/svg\" height=\"24px\"viewBox=\"0 0 24 24\"\n",
              "       width=\"24px\">\n",
              "    <path d=\"M0 0h24v24H0V0z\" fill=\"none\"/>\n",
              "    <path d=\"M18.56 5.44l.94 2.06.94-2.06 2.06-.94-2.06-.94-.94-2.06-.94 2.06-2.06.94zm-11 1L8.5 8.5l.94-2.06 2.06-.94-2.06-.94L8.5 2.5l-.94 2.06-2.06.94zm10 10l.94 2.06.94-2.06 2.06-.94-2.06-.94-.94-2.06-.94 2.06-2.06.94z\"/><path d=\"M17.41 7.96l-1.37-1.37c-.4-.4-.92-.59-1.43-.59-.52 0-1.04.2-1.43.59L10.3 9.45l-7.72 7.72c-.78.78-.78 2.05 0 2.83L4 21.41c.39.39.9.59 1.41.59.51 0 1.02-.2 1.41-.59l7.78-7.78 2.81-2.81c.8-.78.8-2.07 0-2.86zM5.41 20L4 18.59l7.72-7.72 1.47 1.35L5.41 20z\"/>\n",
              "  </svg>\n",
              "      </button>\n",
              "      \n",
              "  <style>\n",
              "    .colab-df-container {\n",
              "      display:flex;\n",
              "      flex-wrap:wrap;\n",
              "      gap: 12px;\n",
              "    }\n",
              "\n",
              "    .colab-df-convert {\n",
              "      background-color: #E8F0FE;\n",
              "      border: none;\n",
              "      border-radius: 50%;\n",
              "      cursor: pointer;\n",
              "      display: none;\n",
              "      fill: #1967D2;\n",
              "      height: 32px;\n",
              "      padding: 0 0 0 0;\n",
              "      width: 32px;\n",
              "    }\n",
              "\n",
              "    .colab-df-convert:hover {\n",
              "      background-color: #E2EBFA;\n",
              "      box-shadow: 0px 1px 2px rgba(60, 64, 67, 0.3), 0px 1px 3px 1px rgba(60, 64, 67, 0.15);\n",
              "      fill: #174EA6;\n",
              "    }\n",
              "\n",
              "    [theme=dark] .colab-df-convert {\n",
              "      background-color: #3B4455;\n",
              "      fill: #D2E3FC;\n",
              "    }\n",
              "\n",
              "    [theme=dark] .colab-df-convert:hover {\n",
              "      background-color: #434B5C;\n",
              "      box-shadow: 0px 1px 3px 1px rgba(0, 0, 0, 0.15);\n",
              "      filter: drop-shadow(0px 1px 2px rgba(0, 0, 0, 0.3));\n",
              "      fill: #FFFFFF;\n",
              "    }\n",
              "  </style>\n",
              "\n",
              "      <script>\n",
              "        const buttonEl =\n",
              "          document.querySelector('#df-1b238f93-181a-4f37-9f32-629056803967 button.colab-df-convert');\n",
              "        buttonEl.style.display =\n",
              "          google.colab.kernel.accessAllowed ? 'block' : 'none';\n",
              "\n",
              "        async function convertToInteractive(key) {\n",
              "          const element = document.querySelector('#df-1b238f93-181a-4f37-9f32-629056803967');\n",
              "          const dataTable =\n",
              "            await google.colab.kernel.invokeFunction('convertToInteractive',\n",
              "                                                     [key], {});\n",
              "          if (!dataTable) return;\n",
              "\n",
              "          const docLinkHtml = 'Like what you see? Visit the ' +\n",
              "            '<a target=\"_blank\" href=https://colab.research.google.com/notebooks/data_table.ipynb>data table notebook</a>'\n",
              "            + ' to learn more about interactive tables.';\n",
              "          element.innerHTML = '';\n",
              "          dataTable['output_type'] = 'display_data';\n",
              "          await google.colab.output.renderOutput(dataTable, element);\n",
              "          const docLink = document.createElement('div');\n",
              "          docLink.innerHTML = docLinkHtml;\n",
              "          element.appendChild(docLink);\n",
              "        }\n",
              "      </script>\n",
              "    </div>\n",
              "  </div>\n",
              "  "
            ]
          },
          "metadata": {},
          "execution_count": 51
        }
      ]
    },
    {
      "cell_type": "code",
      "source": [
        " #where() method is used to check a data frame for one or more condition and return the result.\n",
        " #finding whose age is greater than 20 and passed students\n",
        "filter = df[\"age\"]>23\n",
        "filter_dta = df.where(filter)\n",
        "print(filter_dta)"
      ],
      "metadata": {
        "id": "Xi_AtKUNvjdn",
        "colab": {
          "base_uri": "https://localhost:8080/"
        },
        "outputId": "f7aabd2f-b237-401c-9e8c-f33991125aac"
      },
      "execution_count": 187,
      "outputs": [
        {
          "output_type": "stream",
          "name": "stdout",
          "text": [
            "  first_name last_name   age  marks Results        date address emotion  \\\n",
            "1        NaN       NaN   NaN    NaN     NaN         NaN     NaN     NaN   \n",
            "2        NaN       NaN   NaN    NaN     NaN         NaN     NaN     NaN   \n",
            "3        NaN       NaN   NaN    NaN     NaN         NaN     NaN     NaN   \n",
            "4        NaN       NaN   NaN    NaN     NaN         NaN     NaN     NaN   \n",
            "5      Meera    Kumari  24.0   23.0    fail  04/08/2020   bihar     sad   \n",
            "\n",
            "    event  price  \n",
            "1     NaN    NaN  \n",
            "2     NaN    NaN  \n",
            "3     NaN    NaN  \n",
            "4     NaN    NaN  \n",
            "5  Poetry  800.0  \n"
          ]
        }
      ]
    },
    {
      "cell_type": "code",
      "source": [
        "#Multi-condition Operations\n",
        "#filter the data whose age is greater than 20 & passed students\n",
        "filter1 = df[\"age\"]>20\n",
        "filter2 = df[\"Results\"]==\"pass\"\n",
        "gtr_than_20_and_passed_stud = df.where(filter1 & filter2,axis=0)\n",
        "print(gtr_than_20_and_passed_stud)"
      ],
      "metadata": {
        "id": "f36oLanNvjgN",
        "colab": {
          "base_uri": "https://localhost:8080/"
        },
        "outputId": "8cf11352-8582-4294-bd4f-6da9b37fc978"
      },
      "execution_count": 87,
      "outputs": [
        {
          "output_type": "stream",
          "name": "stdout",
          "text": [
            "  first_name last_name   age  marks Results       date    address emotion  \\\n",
            "1      Jeetu    Gandhi  23.0   85.0    pass 2022-11-21      Patna   happy   \n",
            "2        NaN       NaN   NaN    NaN     NaN        NaT        NaN     NaN   \n",
            "3      Mohan    Sharma  21.0   52.0    pass 2008-04-23  Bangalore   happy   \n",
            "4        NaN       NaN   NaN    NaN     NaN        NaT        NaN     NaN   \n",
            "5       Tina       Ali  22.0   36.0    pass 2019-10-02    Chennai   happy   \n",
            "\n",
            "    event   price  \n",
            "1  Comedy  1200.0  \n",
            "2     NaN     NaN  \n",
            "3  Poetry   800.0  \n",
            "4     NaN     NaN  \n",
            "5   Music  1500.0  \n"
          ]
        }
      ]
    },
    {
      "cell_type": "code",
      "source": [
        "#sorting index\n",
        "srt_idx = df.sort_index(axis=0)\n",
        "print(srt_idx) "
      ],
      "metadata": {
        "colab": {
          "base_uri": "https://localhost:8080/"
        },
        "id": "bXFNZFW9W06v",
        "outputId": "03ce96cc-4547-4c37-ff3a-769787498447"
      },
      "execution_count": 188,
      "outputs": [
        {
          "output_type": "stream",
          "name": "stdout",
          "text": [
            "  first_name last_name  age  marks Results        date    address emotion  \\\n",
            "1        Ram     Kumar   20     12    fail   11/8/2011      Delhi     sad   \n",
            "2      Mohan    Sharma   21     52    pass  04/23/2008  Bangalore   happy   \n",
            "3       Tina       Ali   22     36    pass   10/2/2019    Chennai   happy   \n",
            "4      Jeetu    Gandhi   23     85    pass  11/21/2022      Patna   happy   \n",
            "5      Meera    Kumari   24     23    fail  04/08/2020      bihar     sad   \n",
            "\n",
            "    event  price  \n",
            "1   Music   1500  \n",
            "2  Poetry    800  \n",
            "3   Music   1500  \n",
            "4  Comedy   1200  \n",
            "5  Poetry    800  \n"
          ]
        }
      ]
    },
    {
      "cell_type": "code",
      "source": [
        "import numpy as np"
      ],
      "metadata": {
        "id": "Cb94npbDW1Fs"
      },
      "execution_count": 189,
      "outputs": []
    },
    {
      "cell_type": "code",
      "source": [
        "df.index = np.arange(1,len(df)+1)"
      ],
      "metadata": {
        "id": "_Naf0ZsVvjj1",
        "colab": {
          "base_uri": "https://localhost:8080/"
        },
        "outputId": "65c660fd-5376-439d-d45c-c5700872beb2"
      },
      "execution_count": 82,
      "outputs": [
        {
          "output_type": "stream",
          "name": "stdout",
          "text": [
            "before arranging index:   first_name last_name  age  marks Results       date    address emotion  \\\n",
            "1      Jeetu    Gandhi   23     85    pass 2022-11-21      Patna   happy   \n",
            "2      Meera    Kumari   24     23    fail 2020-04-08      bihar     sad   \n",
            "3      Mohan    Sharma   21     52    pass 2008-04-23  Bangalore   happy   \n",
            "4        Ram     Kumar   20     12    fail 2011-11-08      Delhi     sad   \n",
            "5       Tina       Ali   22     36    pass 2019-10-02    Chennai   happy   \n",
            "\n",
            "    event  price  \n",
            "1  Comedy   1200  \n",
            "2  Poetry    800  \n",
            "3  Poetry    800  \n",
            "4   Music   1500  \n",
            "5   Music   1500  \n",
            "\n",
            "after arranging index:   first_name last_name  age  marks Results       date    address emotion  \\\n",
            "1      Jeetu    Gandhi   23     85    pass 2022-11-21      Patna   happy   \n",
            "2      Meera    Kumari   24     23    fail 2020-04-08      bihar     sad   \n",
            "3      Mohan    Sharma   21     52    pass 2008-04-23  Bangalore   happy   \n",
            "4        Ram     Kumar   20     12    fail 2011-11-08      Delhi     sad   \n",
            "5       Tina       Ali   22     36    pass 2019-10-02    Chennai   happy   \n",
            "\n",
            "    event  price  \n",
            "1  Comedy   1200  \n",
            "2  Poetry    800  \n",
            "3  Poetry    800  \n",
            "4   Music   1500  \n",
            "5   Music   1500  \n"
          ]
        }
      ]
    },
    {
      "cell_type": "code",
      "source": [
        "df.head(2)"
      ],
      "metadata": {
        "id": "S0Ti8CXdvjxd",
        "colab": {
          "base_uri": "https://localhost:8080/",
          "height": 112
        },
        "outputId": "f858faf5-c84e-4968-ea9e-74e0e4f22777"
      },
      "execution_count": 89,
      "outputs": [
        {
          "output_type": "execute_result",
          "data": {
            "text/plain": [
              "  first_name last_name  age  marks Results       date address emotion   event  \\\n",
              "1      Jeetu    Gandhi   23     85    pass 2022-11-21   Patna   happy  Comedy   \n",
              "2      Meera    Kumari   24     23    fail 2020-04-08   bihar     sad  Poetry   \n",
              "\n",
              "   price  \n",
              "1   1200  \n",
              "2    800  "
            ],
            "text/html": [
              "\n",
              "  <div id=\"df-9d242be5-1737-42ec-b14c-1120f0fd1fe9\">\n",
              "    <div class=\"colab-df-container\">\n",
              "      <div>\n",
              "<style scoped>\n",
              "    .dataframe tbody tr th:only-of-type {\n",
              "        vertical-align: middle;\n",
              "    }\n",
              "\n",
              "    .dataframe tbody tr th {\n",
              "        vertical-align: top;\n",
              "    }\n",
              "\n",
              "    .dataframe thead th {\n",
              "        text-align: right;\n",
              "    }\n",
              "</style>\n",
              "<table border=\"1\" class=\"dataframe\">\n",
              "  <thead>\n",
              "    <tr style=\"text-align: right;\">\n",
              "      <th></th>\n",
              "      <th>first_name</th>\n",
              "      <th>last_name</th>\n",
              "      <th>age</th>\n",
              "      <th>marks</th>\n",
              "      <th>Results</th>\n",
              "      <th>date</th>\n",
              "      <th>address</th>\n",
              "      <th>emotion</th>\n",
              "      <th>event</th>\n",
              "      <th>price</th>\n",
              "    </tr>\n",
              "  </thead>\n",
              "  <tbody>\n",
              "    <tr>\n",
              "      <th>1</th>\n",
              "      <td>Jeetu</td>\n",
              "      <td>Gandhi</td>\n",
              "      <td>23</td>\n",
              "      <td>85</td>\n",
              "      <td>pass</td>\n",
              "      <td>2022-11-21</td>\n",
              "      <td>Patna</td>\n",
              "      <td>happy</td>\n",
              "      <td>Comedy</td>\n",
              "      <td>1200</td>\n",
              "    </tr>\n",
              "    <tr>\n",
              "      <th>2</th>\n",
              "      <td>Meera</td>\n",
              "      <td>Kumari</td>\n",
              "      <td>24</td>\n",
              "      <td>23</td>\n",
              "      <td>fail</td>\n",
              "      <td>2020-04-08</td>\n",
              "      <td>bihar</td>\n",
              "      <td>sad</td>\n",
              "      <td>Poetry</td>\n",
              "      <td>800</td>\n",
              "    </tr>\n",
              "  </tbody>\n",
              "</table>\n",
              "</div>\n",
              "      <button class=\"colab-df-convert\" onclick=\"convertToInteractive('df-9d242be5-1737-42ec-b14c-1120f0fd1fe9')\"\n",
              "              title=\"Convert this dataframe to an interactive table.\"\n",
              "              style=\"display:none;\">\n",
              "        \n",
              "  <svg xmlns=\"http://www.w3.org/2000/svg\" height=\"24px\"viewBox=\"0 0 24 24\"\n",
              "       width=\"24px\">\n",
              "    <path d=\"M0 0h24v24H0V0z\" fill=\"none\"/>\n",
              "    <path d=\"M18.56 5.44l.94 2.06.94-2.06 2.06-.94-2.06-.94-.94-2.06-.94 2.06-2.06.94zm-11 1L8.5 8.5l.94-2.06 2.06-.94-2.06-.94L8.5 2.5l-.94 2.06-2.06.94zm10 10l.94 2.06.94-2.06 2.06-.94-2.06-.94-.94-2.06-.94 2.06-2.06.94z\"/><path d=\"M17.41 7.96l-1.37-1.37c-.4-.4-.92-.59-1.43-.59-.52 0-1.04.2-1.43.59L10.3 9.45l-7.72 7.72c-.78.78-.78 2.05 0 2.83L4 21.41c.39.39.9.59 1.41.59.51 0 1.02-.2 1.41-.59l7.78-7.78 2.81-2.81c.8-.78.8-2.07 0-2.86zM5.41 20L4 18.59l7.72-7.72 1.47 1.35L5.41 20z\"/>\n",
              "  </svg>\n",
              "      </button>\n",
              "      \n",
              "  <style>\n",
              "    .colab-df-container {\n",
              "      display:flex;\n",
              "      flex-wrap:wrap;\n",
              "      gap: 12px;\n",
              "    }\n",
              "\n",
              "    .colab-df-convert {\n",
              "      background-color: #E8F0FE;\n",
              "      border: none;\n",
              "      border-radius: 50%;\n",
              "      cursor: pointer;\n",
              "      display: none;\n",
              "      fill: #1967D2;\n",
              "      height: 32px;\n",
              "      padding: 0 0 0 0;\n",
              "      width: 32px;\n",
              "    }\n",
              "\n",
              "    .colab-df-convert:hover {\n",
              "      background-color: #E2EBFA;\n",
              "      box-shadow: 0px 1px 2px rgba(60, 64, 67, 0.3), 0px 1px 3px 1px rgba(60, 64, 67, 0.15);\n",
              "      fill: #174EA6;\n",
              "    }\n",
              "\n",
              "    [theme=dark] .colab-df-convert {\n",
              "      background-color: #3B4455;\n",
              "      fill: #D2E3FC;\n",
              "    }\n",
              "\n",
              "    [theme=dark] .colab-df-convert:hover {\n",
              "      background-color: #434B5C;\n",
              "      box-shadow: 0px 1px 3px 1px rgba(0, 0, 0, 0.15);\n",
              "      filter: drop-shadow(0px 1px 2px rgba(0, 0, 0, 0.3));\n",
              "      fill: #FFFFFF;\n",
              "    }\n",
              "  </style>\n",
              "\n",
              "      <script>\n",
              "        const buttonEl =\n",
              "          document.querySelector('#df-9d242be5-1737-42ec-b14c-1120f0fd1fe9 button.colab-df-convert');\n",
              "        buttonEl.style.display =\n",
              "          google.colab.kernel.accessAllowed ? 'block' : 'none';\n",
              "\n",
              "        async function convertToInteractive(key) {\n",
              "          const element = document.querySelector('#df-9d242be5-1737-42ec-b14c-1120f0fd1fe9');\n",
              "          const dataTable =\n",
              "            await google.colab.kernel.invokeFunction('convertToInteractive',\n",
              "                                                     [key], {});\n",
              "          if (!dataTable) return;\n",
              "\n",
              "          const docLinkHtml = 'Like what you see? Visit the ' +\n",
              "            '<a target=\"_blank\" href=https://colab.research.google.com/notebooks/data_table.ipynb>data table notebook</a>'\n",
              "            + ' to learn more about interactive tables.';\n",
              "          element.innerHTML = '';\n",
              "          dataTable['output_type'] = 'display_data';\n",
              "          await google.colab.output.renderOutput(dataTable, element);\n",
              "          const docLink = document.createElement('div');\n",
              "          docLink.innerHTML = docLinkHtml;\n",
              "          element.appendChild(docLink);\n",
              "        }\n",
              "      </script>\n",
              "    </div>\n",
              "  </div>\n",
              "  "
            ]
          },
          "metadata": {},
          "execution_count": 89
        }
      ]
    },
    {
      "cell_type": "code",
      "source": [
        "#str.find() method is used to search a substring in each string present in a series\n",
        "#colleting single character \"m\"\n",
        "# creating and passing series to new column\n",
        "df[\"Mcharacter\"]=df[\"first_name\"].str.find(\"M\")\n",
        "df[\"Mcharacter\"]"
      ],
      "metadata": {
        "id": "7pq3HVkavjrc",
        "colab": {
          "base_uri": "https://localhost:8080/"
        },
        "outputId": "dcc8eb91-d8a2-48b5-cadf-2f25c8a6029f"
      },
      "execution_count": 191,
      "outputs": [
        {
          "output_type": "execute_result",
          "data": {
            "text/plain": [
              "1   -1\n",
              "2    0\n",
              "3   -1\n",
              "4   -1\n",
              "5    0\n",
              "Name: Mcharacter, dtype: int64"
            ]
          },
          "metadata": {},
          "execution_count": 191
        }
      ]
    },
    {
      "cell_type": "code",
      "source": [
        "#Searching more than one character\n",
        "df[\"indexes\"]= df[\"first_name\"].str.find(\"am\",1)\n",
        "print(df)"
      ],
      "metadata": {
        "id": "xdADDps2jewE",
        "colab": {
          "base_uri": "https://localhost:8080/"
        },
        "outputId": "094f5aa9-7de7-463e-f6aa-f889e47075ff"
      },
      "execution_count": 190,
      "outputs": [
        {
          "output_type": "stream",
          "name": "stdout",
          "text": [
            "  first_name last_name  age  marks Results        date    address emotion  \\\n",
            "1        Ram     Kumar   20     12    fail   11/8/2011      Delhi     sad   \n",
            "2      Mohan    Sharma   21     52    pass  04/23/2008  Bangalore   happy   \n",
            "3       Tina       Ali   22     36    pass   10/2/2019    Chennai   happy   \n",
            "4      Jeetu    Gandhi   23     85    pass  11/21/2022      Patna   happy   \n",
            "5      Meera    Kumari   24     23    fail  04/08/2020      bihar     sad   \n",
            "\n",
            "    event  price  indexes  \n",
            "1   Music   1500        1  \n",
            "2  Poetry    800       -1  \n",
            "3   Music   1500       -1  \n",
            "4  Comedy   1200       -1  \n",
            "5  Poetry    800       -1  \n"
          ]
        }
      ]
    },
    {
      "cell_type": "code",
      "source": [
        "#get all rows containing given substring\n",
        "#checking happy rows in emotion column\n",
        "df1 = df[\"emotion\"].str.contains(\"happy\").sum()\n",
        "print(df1)"
      ],
      "metadata": {
        "colab": {
          "base_uri": "https://localhost:8080/"
        },
        "id": "s5COPOZ7uSXE",
        "outputId": "b148d1f1-015a-488c-ddac-37fea15943e4"
      },
      "execution_count": 192,
      "outputs": [
        {
          "output_type": "stream",
          "name": "stdout",
          "text": [
            "3\n"
          ]
        }
      ]
    },
    {
      "cell_type": "code",
      "source": [
        "df1 = df[df[\"emotion\"].str.contains(\"happy\")]\n",
        "print(df1)"
      ],
      "metadata": {
        "id": "dd3giEiijeyO",
        "colab": {
          "base_uri": "https://localhost:8080/"
        },
        "outputId": "ad36c78b-de16-4892-e15b-ee23e8274b00"
      },
      "execution_count": 193,
      "outputs": [
        {
          "output_type": "stream",
          "name": "stdout",
          "text": [
            "  first_name last_name  age  marks Results        date    address emotion  \\\n",
            "2      Mohan    Sharma   21     52    pass  04/23/2008  Bangalore   happy   \n",
            "3       Tina       Ali   22     36    pass   10/2/2019    Chennai   happy   \n",
            "4      Jeetu    Gandhi   23     85    pass  11/21/2022      Patna   happy   \n",
            "\n",
            "    event  price  indexes  Mcharacter  \n",
            "2  Poetry    800       -1           0  \n",
            "3   Music   1500       -1          -1  \n",
            "4  Comedy   1200       -1          -1  \n"
          ]
        }
      ]
    },
    {
      "cell_type": "code",
      "source": [
        "df.drop(columns=\"Mcharacter\",inplace=True)\n",
        "df.drop(columns=\"indexes\",inplace=True)"
      ],
      "metadata": {
        "id": "fwNWITn5je1c"
      },
      "execution_count": 194,
      "outputs": []
    },
    {
      "cell_type": "code",
      "source": [
        "#replace \\n with empty\n",
        "string = \"\\nmynameisawaz\"\n",
        "print(string.replace(\"\\n\",\"\",2))"
      ],
      "metadata": {
        "id": "aE7Lbth0je4I",
        "colab": {
          "base_uri": "https://localhost:8080/"
        },
        "outputId": "9ad0e97e-52ee-4f87-b984-0a49797ea281"
      },
      "execution_count": 195,
      "outputs": [
        {
          "output_type": "stream",
          "name": "stdout",
          "text": [
            "mynameisawaz\n"
          ]
        }
      ]
    },
    {
      "cell_type": "code",
      "source": [
        "#to get all column names from dataset\n",
        "for i in df.columns:\n",
        "  print(i)"
      ],
      "metadata": {
        "id": "e6TKEf2JjfAv",
        "colab": {
          "base_uri": "https://localhost:8080/"
        },
        "outputId": "6ba8066a-3c49-4f7e-d4e9-701bbf736520"
      },
      "execution_count": 196,
      "outputs": [
        {
          "output_type": "stream",
          "name": "stdout",
          "text": [
            "first_name\n",
            "last_name\n",
            "age\n",
            "marks\n",
            "Results\n",
            "date\n",
            "address\n",
            "emotion\n",
            "event\n",
            "price\n"
          ]
        }
      ]
    },
    {
      "cell_type": "code",
      "source": [
        "all_upper_col = [i.upper() for i in df]\n",
        "print(all_upper_col)"
      ],
      "metadata": {
        "id": "4Gml2rhrjfET",
        "colab": {
          "base_uri": "https://localhost:8080/"
        },
        "outputId": "1d970c8e-2dc8-48d7-9e10-5f942e20d531"
      },
      "execution_count": 197,
      "outputs": [
        {
          "output_type": "stream",
          "name": "stdout",
          "text": [
            "['FIRST_NAME', 'LAST_NAME', 'AGE', 'MARKS', 'RESULTS', 'DATE', 'ADDRESS', 'EMOTION', 'EVENT', 'PRICE']\n"
          ]
        }
      ]
    },
    {
      "cell_type": "code",
      "source": [
        "#changing specific column name with lowercase\n",
        "df[\"first_name\"].apply(lambda x:x.lower())"
      ],
      "metadata": {
        "colab": {
          "base_uri": "https://localhost:8080/"
        },
        "id": "7MvGzeVBtzim",
        "outputId": "400d0fab-8cbd-40cf-e69f-5894581bfb24"
      },
      "execution_count": 198,
      "outputs": [
        {
          "output_type": "execute_result",
          "data": {
            "text/plain": [
              "1      ram\n",
              "2    mohan\n",
              "3     tina\n",
              "4    jeetu\n",
              "5    meera\n",
              "Name: first_name, dtype: object"
            ]
          },
          "metadata": {},
          "execution_count": 198
        }
      ]
    },
    {
      "cell_type": "code",
      "source": [
        "df.head()"
      ],
      "metadata": {
        "colab": {
          "base_uri": "https://localhost:8080/",
          "height": 206
        },
        "id": "zcSih82AtzmA",
        "outputId": "debdf7d5-b9a9-481b-9778-f6c00f58b532"
      },
      "execution_count": 200,
      "outputs": [
        {
          "output_type": "execute_result",
          "data": {
            "text/plain": [
              "  first_name last_name  age  marks Results        date    address emotion  \\\n",
              "1        Ram     Kumar   20     12    fail   11/8/2011      Delhi     sad   \n",
              "2      Mohan    Sharma   21     52    pass  04/23/2008  Bangalore   happy   \n",
              "3       Tina       Ali   22     36    pass   10/2/2019    Chennai   happy   \n",
              "4      Jeetu    Gandhi   23     85    pass  11/21/2022      Patna   happy   \n",
              "5      Meera    Kumari   24     23    fail  04/08/2020      bihar     sad   \n",
              "\n",
              "    event  price  \n",
              "1   Music   1500  \n",
              "2  Poetry    800  \n",
              "3   Music   1500  \n",
              "4  Comedy   1200  \n",
              "5  Poetry    800  "
            ],
            "text/html": [
              "\n",
              "  <div id=\"df-5113a638-b269-4b8b-93a4-3338b4eebbfb\">\n",
              "    <div class=\"colab-df-container\">\n",
              "      <div>\n",
              "<style scoped>\n",
              "    .dataframe tbody tr th:only-of-type {\n",
              "        vertical-align: middle;\n",
              "    }\n",
              "\n",
              "    .dataframe tbody tr th {\n",
              "        vertical-align: top;\n",
              "    }\n",
              "\n",
              "    .dataframe thead th {\n",
              "        text-align: right;\n",
              "    }\n",
              "</style>\n",
              "<table border=\"1\" class=\"dataframe\">\n",
              "  <thead>\n",
              "    <tr style=\"text-align: right;\">\n",
              "      <th></th>\n",
              "      <th>first_name</th>\n",
              "      <th>last_name</th>\n",
              "      <th>age</th>\n",
              "      <th>marks</th>\n",
              "      <th>Results</th>\n",
              "      <th>date</th>\n",
              "      <th>address</th>\n",
              "      <th>emotion</th>\n",
              "      <th>event</th>\n",
              "      <th>price</th>\n",
              "    </tr>\n",
              "  </thead>\n",
              "  <tbody>\n",
              "    <tr>\n",
              "      <th>1</th>\n",
              "      <td>Ram</td>\n",
              "      <td>Kumar</td>\n",
              "      <td>20</td>\n",
              "      <td>12</td>\n",
              "      <td>fail</td>\n",
              "      <td>11/8/2011</td>\n",
              "      <td>Delhi</td>\n",
              "      <td>sad</td>\n",
              "      <td>Music</td>\n",
              "      <td>1500</td>\n",
              "    </tr>\n",
              "    <tr>\n",
              "      <th>2</th>\n",
              "      <td>Mohan</td>\n",
              "      <td>Sharma</td>\n",
              "      <td>21</td>\n",
              "      <td>52</td>\n",
              "      <td>pass</td>\n",
              "      <td>04/23/2008</td>\n",
              "      <td>Bangalore</td>\n",
              "      <td>happy</td>\n",
              "      <td>Poetry</td>\n",
              "      <td>800</td>\n",
              "    </tr>\n",
              "    <tr>\n",
              "      <th>3</th>\n",
              "      <td>Tina</td>\n",
              "      <td>Ali</td>\n",
              "      <td>22</td>\n",
              "      <td>36</td>\n",
              "      <td>pass</td>\n",
              "      <td>10/2/2019</td>\n",
              "      <td>Chennai</td>\n",
              "      <td>happy</td>\n",
              "      <td>Music</td>\n",
              "      <td>1500</td>\n",
              "    </tr>\n",
              "    <tr>\n",
              "      <th>4</th>\n",
              "      <td>Jeetu</td>\n",
              "      <td>Gandhi</td>\n",
              "      <td>23</td>\n",
              "      <td>85</td>\n",
              "      <td>pass</td>\n",
              "      <td>11/21/2022</td>\n",
              "      <td>Patna</td>\n",
              "      <td>happy</td>\n",
              "      <td>Comedy</td>\n",
              "      <td>1200</td>\n",
              "    </tr>\n",
              "    <tr>\n",
              "      <th>5</th>\n",
              "      <td>Meera</td>\n",
              "      <td>Kumari</td>\n",
              "      <td>24</td>\n",
              "      <td>23</td>\n",
              "      <td>fail</td>\n",
              "      <td>04/08/2020</td>\n",
              "      <td>bihar</td>\n",
              "      <td>sad</td>\n",
              "      <td>Poetry</td>\n",
              "      <td>800</td>\n",
              "    </tr>\n",
              "  </tbody>\n",
              "</table>\n",
              "</div>\n",
              "      <button class=\"colab-df-convert\" onclick=\"convertToInteractive('df-5113a638-b269-4b8b-93a4-3338b4eebbfb')\"\n",
              "              title=\"Convert this dataframe to an interactive table.\"\n",
              "              style=\"display:none;\">\n",
              "        \n",
              "  <svg xmlns=\"http://www.w3.org/2000/svg\" height=\"24px\"viewBox=\"0 0 24 24\"\n",
              "       width=\"24px\">\n",
              "    <path d=\"M0 0h24v24H0V0z\" fill=\"none\"/>\n",
              "    <path d=\"M18.56 5.44l.94 2.06.94-2.06 2.06-.94-2.06-.94-.94-2.06-.94 2.06-2.06.94zm-11 1L8.5 8.5l.94-2.06 2.06-.94-2.06-.94L8.5 2.5l-.94 2.06-2.06.94zm10 10l.94 2.06.94-2.06 2.06-.94-2.06-.94-.94-2.06-.94 2.06-2.06.94z\"/><path d=\"M17.41 7.96l-1.37-1.37c-.4-.4-.92-.59-1.43-.59-.52 0-1.04.2-1.43.59L10.3 9.45l-7.72 7.72c-.78.78-.78 2.05 0 2.83L4 21.41c.39.39.9.59 1.41.59.51 0 1.02-.2 1.41-.59l7.78-7.78 2.81-2.81c.8-.78.8-2.07 0-2.86zM5.41 20L4 18.59l7.72-7.72 1.47 1.35L5.41 20z\"/>\n",
              "  </svg>\n",
              "      </button>\n",
              "      \n",
              "  <style>\n",
              "    .colab-df-container {\n",
              "      display:flex;\n",
              "      flex-wrap:wrap;\n",
              "      gap: 12px;\n",
              "    }\n",
              "\n",
              "    .colab-df-convert {\n",
              "      background-color: #E8F0FE;\n",
              "      border: none;\n",
              "      border-radius: 50%;\n",
              "      cursor: pointer;\n",
              "      display: none;\n",
              "      fill: #1967D2;\n",
              "      height: 32px;\n",
              "      padding: 0 0 0 0;\n",
              "      width: 32px;\n",
              "    }\n",
              "\n",
              "    .colab-df-convert:hover {\n",
              "      background-color: #E2EBFA;\n",
              "      box-shadow: 0px 1px 2px rgba(60, 64, 67, 0.3), 0px 1px 3px 1px rgba(60, 64, 67, 0.15);\n",
              "      fill: #174EA6;\n",
              "    }\n",
              "\n",
              "    [theme=dark] .colab-df-convert {\n",
              "      background-color: #3B4455;\n",
              "      fill: #D2E3FC;\n",
              "    }\n",
              "\n",
              "    [theme=dark] .colab-df-convert:hover {\n",
              "      background-color: #434B5C;\n",
              "      box-shadow: 0px 1px 3px 1px rgba(0, 0, 0, 0.15);\n",
              "      filter: drop-shadow(0px 1px 2px rgba(0, 0, 0, 0.3));\n",
              "      fill: #FFFFFF;\n",
              "    }\n",
              "  </style>\n",
              "\n",
              "      <script>\n",
              "        const buttonEl =\n",
              "          document.querySelector('#df-5113a638-b269-4b8b-93a4-3338b4eebbfb button.colab-df-convert');\n",
              "        buttonEl.style.display =\n",
              "          google.colab.kernel.accessAllowed ? 'block' : 'none';\n",
              "\n",
              "        async function convertToInteractive(key) {\n",
              "          const element = document.querySelector('#df-5113a638-b269-4b8b-93a4-3338b4eebbfb');\n",
              "          const dataTable =\n",
              "            await google.colab.kernel.invokeFunction('convertToInteractive',\n",
              "                                                     [key], {});\n",
              "          if (!dataTable) return;\n",
              "\n",
              "          const docLinkHtml = 'Like what you see? Visit the ' +\n",
              "            '<a target=\"_blank\" href=https://colab.research.google.com/notebooks/data_table.ipynb>data table notebook</a>'\n",
              "            + ' to learn more about interactive tables.';\n",
              "          element.innerHTML = '';\n",
              "          dataTable['output_type'] = 'display_data';\n",
              "          await google.colab.output.renderOutput(dataTable, element);\n",
              "          const docLink = document.createElement('div');\n",
              "          docLink.innerHTML = docLinkHtml;\n",
              "          element.appendChild(docLink);\n",
              "        }\n",
              "      </script>\n",
              "    </div>\n",
              "  </div>\n",
              "  "
            ]
          },
          "metadata": {},
          "execution_count": 200
        }
      ]
    },
    {
      "cell_type": "code",
      "source": [
        "#Capitalize first letter of a column"
      ],
      "metadata": {
        "id": "0txOVBkKBYOC"
      },
      "execution_count": null,
      "outputs": []
    },
    {
      "cell_type": "code",
      "source": [
        "df[\"first_name\"] =df[\"first_name\"].str.capitalize()\n",
        "df[\"emotion\"] =df[\"emotion\"].str.capitalize()"
      ],
      "metadata": {
        "id": "Qox-z9LVBYRf"
      },
      "execution_count": 207,
      "outputs": []
    },
    {
      "cell_type": "code",
      "source": [
        "df.head(2)"
      ],
      "metadata": {
        "colab": {
          "base_uri": "https://localhost:8080/",
          "height": 112
        },
        "id": "8lTW7VPaCdJE",
        "outputId": "d00e3f5c-463e-4440-d282-7b2b332d9ff2"
      },
      "execution_count": 209,
      "outputs": [
        {
          "output_type": "execute_result",
          "data": {
            "text/plain": [
              "  first_name last_name  age  marks Results        date    address emotion  \\\n",
              "1        Ram     Kumar   20     12    fail   11/8/2011      Delhi     Sad   \n",
              "2      Mohan    Sharma   21     52    pass  04/23/2008  Bangalore   Happy   \n",
              "\n",
              "    event  price  \n",
              "1   Music   1500  \n",
              "2  Poetry    800  "
            ],
            "text/html": [
              "\n",
              "  <div id=\"df-264f00d7-bac0-4a57-82fe-bc29fdc4a83e\">\n",
              "    <div class=\"colab-df-container\">\n",
              "      <div>\n",
              "<style scoped>\n",
              "    .dataframe tbody tr th:only-of-type {\n",
              "        vertical-align: middle;\n",
              "    }\n",
              "\n",
              "    .dataframe tbody tr th {\n",
              "        vertical-align: top;\n",
              "    }\n",
              "\n",
              "    .dataframe thead th {\n",
              "        text-align: right;\n",
              "    }\n",
              "</style>\n",
              "<table border=\"1\" class=\"dataframe\">\n",
              "  <thead>\n",
              "    <tr style=\"text-align: right;\">\n",
              "      <th></th>\n",
              "      <th>first_name</th>\n",
              "      <th>last_name</th>\n",
              "      <th>age</th>\n",
              "      <th>marks</th>\n",
              "      <th>Results</th>\n",
              "      <th>date</th>\n",
              "      <th>address</th>\n",
              "      <th>emotion</th>\n",
              "      <th>event</th>\n",
              "      <th>price</th>\n",
              "    </tr>\n",
              "  </thead>\n",
              "  <tbody>\n",
              "    <tr>\n",
              "      <th>1</th>\n",
              "      <td>Ram</td>\n",
              "      <td>Kumar</td>\n",
              "      <td>20</td>\n",
              "      <td>12</td>\n",
              "      <td>fail</td>\n",
              "      <td>11/8/2011</td>\n",
              "      <td>Delhi</td>\n",
              "      <td>Sad</td>\n",
              "      <td>Music</td>\n",
              "      <td>1500</td>\n",
              "    </tr>\n",
              "    <tr>\n",
              "      <th>2</th>\n",
              "      <td>Mohan</td>\n",
              "      <td>Sharma</td>\n",
              "      <td>21</td>\n",
              "      <td>52</td>\n",
              "      <td>pass</td>\n",
              "      <td>04/23/2008</td>\n",
              "      <td>Bangalore</td>\n",
              "      <td>Happy</td>\n",
              "      <td>Poetry</td>\n",
              "      <td>800</td>\n",
              "    </tr>\n",
              "  </tbody>\n",
              "</table>\n",
              "</div>\n",
              "      <button class=\"colab-df-convert\" onclick=\"convertToInteractive('df-264f00d7-bac0-4a57-82fe-bc29fdc4a83e')\"\n",
              "              title=\"Convert this dataframe to an interactive table.\"\n",
              "              style=\"display:none;\">\n",
              "        \n",
              "  <svg xmlns=\"http://www.w3.org/2000/svg\" height=\"24px\"viewBox=\"0 0 24 24\"\n",
              "       width=\"24px\">\n",
              "    <path d=\"M0 0h24v24H0V0z\" fill=\"none\"/>\n",
              "    <path d=\"M18.56 5.44l.94 2.06.94-2.06 2.06-.94-2.06-.94-.94-2.06-.94 2.06-2.06.94zm-11 1L8.5 8.5l.94-2.06 2.06-.94-2.06-.94L8.5 2.5l-.94 2.06-2.06.94zm10 10l.94 2.06.94-2.06 2.06-.94-2.06-.94-.94-2.06-.94 2.06-2.06.94z\"/><path d=\"M17.41 7.96l-1.37-1.37c-.4-.4-.92-.59-1.43-.59-.52 0-1.04.2-1.43.59L10.3 9.45l-7.72 7.72c-.78.78-.78 2.05 0 2.83L4 21.41c.39.39.9.59 1.41.59.51 0 1.02-.2 1.41-.59l7.78-7.78 2.81-2.81c.8-.78.8-2.07 0-2.86zM5.41 20L4 18.59l7.72-7.72 1.47 1.35L5.41 20z\"/>\n",
              "  </svg>\n",
              "      </button>\n",
              "      \n",
              "  <style>\n",
              "    .colab-df-container {\n",
              "      display:flex;\n",
              "      flex-wrap:wrap;\n",
              "      gap: 12px;\n",
              "    }\n",
              "\n",
              "    .colab-df-convert {\n",
              "      background-color: #E8F0FE;\n",
              "      border: none;\n",
              "      border-radius: 50%;\n",
              "      cursor: pointer;\n",
              "      display: none;\n",
              "      fill: #1967D2;\n",
              "      height: 32px;\n",
              "      padding: 0 0 0 0;\n",
              "      width: 32px;\n",
              "    }\n",
              "\n",
              "    .colab-df-convert:hover {\n",
              "      background-color: #E2EBFA;\n",
              "      box-shadow: 0px 1px 2px rgba(60, 64, 67, 0.3), 0px 1px 3px 1px rgba(60, 64, 67, 0.15);\n",
              "      fill: #174EA6;\n",
              "    }\n",
              "\n",
              "    [theme=dark] .colab-df-convert {\n",
              "      background-color: #3B4455;\n",
              "      fill: #D2E3FC;\n",
              "    }\n",
              "\n",
              "    [theme=dark] .colab-df-convert:hover {\n",
              "      background-color: #434B5C;\n",
              "      box-shadow: 0px 1px 3px 1px rgba(0, 0, 0, 0.15);\n",
              "      filter: drop-shadow(0px 1px 2px rgba(0, 0, 0, 0.3));\n",
              "      fill: #FFFFFF;\n",
              "    }\n",
              "  </style>\n",
              "\n",
              "      <script>\n",
              "        const buttonEl =\n",
              "          document.querySelector('#df-264f00d7-bac0-4a57-82fe-bc29fdc4a83e button.colab-df-convert');\n",
              "        buttonEl.style.display =\n",
              "          google.colab.kernel.accessAllowed ? 'block' : 'none';\n",
              "\n",
              "        async function convertToInteractive(key) {\n",
              "          const element = document.querySelector('#df-264f00d7-bac0-4a57-82fe-bc29fdc4a83e');\n",
              "          const dataTable =\n",
              "            await google.colab.kernel.invokeFunction('convertToInteractive',\n",
              "                                                     [key], {});\n",
              "          if (!dataTable) return;\n",
              "\n",
              "          const docLinkHtml = 'Like what you see? Visit the ' +\n",
              "            '<a target=\"_blank\" href=https://colab.research.google.com/notebooks/data_table.ipynb>data table notebook</a>'\n",
              "            + ' to learn more about interactive tables.';\n",
              "          element.innerHTML = '';\n",
              "          dataTable['output_type'] = 'display_data';\n",
              "          await google.colab.output.renderOutput(dataTable, element);\n",
              "          const docLink = document.createElement('div');\n",
              "          docLink.innerHTML = docLinkHtml;\n",
              "          element.appendChild(docLink);\n",
              "        }\n",
              "      </script>\n",
              "    </div>\n",
              "  </div>\n",
              "  "
            ]
          },
          "metadata": {},
          "execution_count": 209
        }
      ]
    },
    {
      "cell_type": "code",
      "source": [
        ""
      ],
      "metadata": {
        "id": "7n3hqyHsP4_7"
      },
      "execution_count": null,
      "outputs": []
    },
    {
      "cell_type": "code",
      "source": [
        ""
      ],
      "metadata": {
        "id": "Q_-b-MTmP5FK"
      },
      "execution_count": null,
      "outputs": []
    },
    {
      "cell_type": "code",
      "source": [
        ""
      ],
      "metadata": {
        "id": "4oZdj1y9P5J5"
      },
      "execution_count": null,
      "outputs": []
    },
    {
      "cell_type": "code",
      "source": [
        ""
      ],
      "metadata": {
        "id": "prD-PDiiP5N0"
      },
      "execution_count": null,
      "outputs": []
    },
    {
      "cell_type": "code",
      "source": [
        ""
      ],
      "metadata": {
        "id": "eUjXngDPP5SA"
      },
      "execution_count": null,
      "outputs": []
    },
    {
      "cell_type": "code",
      "source": [
        ""
      ],
      "metadata": {
        "id": "psEnJxm8P5Y8"
      },
      "execution_count": null,
      "outputs": []
    },
    {
      "cell_type": "code",
      "source": [
        ""
      ],
      "metadata": {
        "id": "2Sy2o4G4P5df"
      },
      "execution_count": null,
      "outputs": []
    },
    {
      "cell_type": "code",
      "source": [
        ""
      ],
      "metadata": {
        "id": "daKMQqrMP5gH"
      },
      "execution_count": null,
      "outputs": []
    }
  ]
}
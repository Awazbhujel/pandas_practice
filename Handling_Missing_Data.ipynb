{
  "nbformat": 4,
  "nbformat_minor": 0,
  "metadata": {
    "colab": {
      "name": "Handling Missing Data.ipynb",
      "provenance": [],
      "collapsed_sections": [],
      "authorship_tag": "ABX9TyObXNdzYEGxC0BHHeHXYJf0"
    },
    "kernelspec": {
      "name": "python3",
      "display_name": "Python 3"
    },
    "language_info": {
      "name": "python"
    }
  },
  "cells": [
    {
      "cell_type": "code",
      "execution_count": null,
      "metadata": {
        "id": "rcBjikoHr7cy"
      },
      "outputs": [],
      "source": [
        "import pandas as pd\n",
        "import numpy as np"
      ]
    },
    {
      "cell_type": "code",
      "source": [
        "df = pd.read_csv(\"/content/player_mvp_stats.csv\",encoding=\"latin-1\", delimiter=\";\")\n",
        "orgdata = df.copy()\n",
        "orgdata.shape"
      ],
      "metadata": {
        "id": "Tc04o8oqsPrB",
        "colab": {
          "base_uri": "https://localhost:8080/"
        },
        "outputId": "65aaace1-f5ae-4df4-efa3-8171e44215e3"
      },
      "execution_count": 234,
      "outputs": [
        {
          "output_type": "execute_result",
          "data": {
            "text/plain": [
              "(14092, 41)"
            ]
          },
          "metadata": {},
          "execution_count": 234
        }
      ]
    },
    {
      "cell_type": "code",
      "source": [
        "df.head()"
      ],
      "metadata": {
        "id": "_16pR9FXsPtw"
      },
      "execution_count": null,
      "outputs": []
    },
    {
      "cell_type": "code",
      "source": [
        "print(df.shape)\n",
        "print(df.ndim)\n",
        "print(df.dtypes)\n",
        "print(df.size)"
      ],
      "metadata": {
        "id": "1BeSoIz-sPxH"
      },
      "execution_count": null,
      "outputs": []
    },
    {
      "cell_type": "code",
      "source": [
        "df1 = df[[\"Player\",\"Age\",\"Share\",\"MP\",\"W\",\"L\",\"Pts Max\",\"FG%\",\"eFG%\"]]\n",
        "df1.head()"
      ],
      "metadata": {
        "id": "rPWk2PEAsPz_",
        "colab": {
          "base_uri": "https://localhost:8080/",
          "height": 206
        },
        "outputId": "6dfd39bf-51b8-4ec5-e5e5-b95813774e9a"
      },
      "execution_count": 237,
      "outputs": [
        {
          "output_type": "execute_result",
          "data": {
            "text/plain": [
              "           Player  Age  Share    MP   W   L  Pts Max    FG%   eFG%\n",
              "0      A.C. Green   27    0.0  26.4  58  24        0  0.476  0.486\n",
              "1     Byron Scott   29    0.0  32.1  58  24        0  0.477  0.510\n",
              "2  Elden Campbell   22    0.0   7.3  58  24        0  0.455  0.455\n",
              "3   Irving Thomas   25    0.0   4.2  58  24        0  0.340  0.340\n",
              "4    James Worthy   29    0.0  38.6  58  24        0  0.492  0.501"
            ],
            "text/html": [
              "\n",
              "  <div id=\"df-1632206b-1a08-4b5a-a58f-2e047c21a1d5\">\n",
              "    <div class=\"colab-df-container\">\n",
              "      <div>\n",
              "<style scoped>\n",
              "    .dataframe tbody tr th:only-of-type {\n",
              "        vertical-align: middle;\n",
              "    }\n",
              "\n",
              "    .dataframe tbody tr th {\n",
              "        vertical-align: top;\n",
              "    }\n",
              "\n",
              "    .dataframe thead th {\n",
              "        text-align: right;\n",
              "    }\n",
              "</style>\n",
              "<table border=\"1\" class=\"dataframe\">\n",
              "  <thead>\n",
              "    <tr style=\"text-align: right;\">\n",
              "      <th></th>\n",
              "      <th>Player</th>\n",
              "      <th>Age</th>\n",
              "      <th>Share</th>\n",
              "      <th>MP</th>\n",
              "      <th>W</th>\n",
              "      <th>L</th>\n",
              "      <th>Pts Max</th>\n",
              "      <th>FG%</th>\n",
              "      <th>eFG%</th>\n",
              "    </tr>\n",
              "  </thead>\n",
              "  <tbody>\n",
              "    <tr>\n",
              "      <th>0</th>\n",
              "      <td>A.C. Green</td>\n",
              "      <td>27</td>\n",
              "      <td>0.0</td>\n",
              "      <td>26.4</td>\n",
              "      <td>58</td>\n",
              "      <td>24</td>\n",
              "      <td>0</td>\n",
              "      <td>0.476</td>\n",
              "      <td>0.486</td>\n",
              "    </tr>\n",
              "    <tr>\n",
              "      <th>1</th>\n",
              "      <td>Byron Scott</td>\n",
              "      <td>29</td>\n",
              "      <td>0.0</td>\n",
              "      <td>32.1</td>\n",
              "      <td>58</td>\n",
              "      <td>24</td>\n",
              "      <td>0</td>\n",
              "      <td>0.477</td>\n",
              "      <td>0.510</td>\n",
              "    </tr>\n",
              "    <tr>\n",
              "      <th>2</th>\n",
              "      <td>Elden Campbell</td>\n",
              "      <td>22</td>\n",
              "      <td>0.0</td>\n",
              "      <td>7.3</td>\n",
              "      <td>58</td>\n",
              "      <td>24</td>\n",
              "      <td>0</td>\n",
              "      <td>0.455</td>\n",
              "      <td>0.455</td>\n",
              "    </tr>\n",
              "    <tr>\n",
              "      <th>3</th>\n",
              "      <td>Irving Thomas</td>\n",
              "      <td>25</td>\n",
              "      <td>0.0</td>\n",
              "      <td>4.2</td>\n",
              "      <td>58</td>\n",
              "      <td>24</td>\n",
              "      <td>0</td>\n",
              "      <td>0.340</td>\n",
              "      <td>0.340</td>\n",
              "    </tr>\n",
              "    <tr>\n",
              "      <th>4</th>\n",
              "      <td>James Worthy</td>\n",
              "      <td>29</td>\n",
              "      <td>0.0</td>\n",
              "      <td>38.6</td>\n",
              "      <td>58</td>\n",
              "      <td>24</td>\n",
              "      <td>0</td>\n",
              "      <td>0.492</td>\n",
              "      <td>0.501</td>\n",
              "    </tr>\n",
              "  </tbody>\n",
              "</table>\n",
              "</div>\n",
              "      <button class=\"colab-df-convert\" onclick=\"convertToInteractive('df-1632206b-1a08-4b5a-a58f-2e047c21a1d5')\"\n",
              "              title=\"Convert this dataframe to an interactive table.\"\n",
              "              style=\"display:none;\">\n",
              "        \n",
              "  <svg xmlns=\"http://www.w3.org/2000/svg\" height=\"24px\"viewBox=\"0 0 24 24\"\n",
              "       width=\"24px\">\n",
              "    <path d=\"M0 0h24v24H0V0z\" fill=\"none\"/>\n",
              "    <path d=\"M18.56 5.44l.94 2.06.94-2.06 2.06-.94-2.06-.94-.94-2.06-.94 2.06-2.06.94zm-11 1L8.5 8.5l.94-2.06 2.06-.94-2.06-.94L8.5 2.5l-.94 2.06-2.06.94zm10 10l.94 2.06.94-2.06 2.06-.94-2.06-.94-.94-2.06-.94 2.06-2.06.94z\"/><path d=\"M17.41 7.96l-1.37-1.37c-.4-.4-.92-.59-1.43-.59-.52 0-1.04.2-1.43.59L10.3 9.45l-7.72 7.72c-.78.78-.78 2.05 0 2.83L4 21.41c.39.39.9.59 1.41.59.51 0 1.02-.2 1.41-.59l7.78-7.78 2.81-2.81c.8-.78.8-2.07 0-2.86zM5.41 20L4 18.59l7.72-7.72 1.47 1.35L5.41 20z\"/>\n",
              "  </svg>\n",
              "      </button>\n",
              "      \n",
              "  <style>\n",
              "    .colab-df-container {\n",
              "      display:flex;\n",
              "      flex-wrap:wrap;\n",
              "      gap: 12px;\n",
              "    }\n",
              "\n",
              "    .colab-df-convert {\n",
              "      background-color: #E8F0FE;\n",
              "      border: none;\n",
              "      border-radius: 50%;\n",
              "      cursor: pointer;\n",
              "      display: none;\n",
              "      fill: #1967D2;\n",
              "      height: 32px;\n",
              "      padding: 0 0 0 0;\n",
              "      width: 32px;\n",
              "    }\n",
              "\n",
              "    .colab-df-convert:hover {\n",
              "      background-color: #E2EBFA;\n",
              "      box-shadow: 0px 1px 2px rgba(60, 64, 67, 0.3), 0px 1px 3px 1px rgba(60, 64, 67, 0.15);\n",
              "      fill: #174EA6;\n",
              "    }\n",
              "\n",
              "    [theme=dark] .colab-df-convert {\n",
              "      background-color: #3B4455;\n",
              "      fill: #D2E3FC;\n",
              "    }\n",
              "\n",
              "    [theme=dark] .colab-df-convert:hover {\n",
              "      background-color: #434B5C;\n",
              "      box-shadow: 0px 1px 3px 1px rgba(0, 0, 0, 0.15);\n",
              "      filter: drop-shadow(0px 1px 2px rgba(0, 0, 0, 0.3));\n",
              "      fill: #FFFFFF;\n",
              "    }\n",
              "  </style>\n",
              "\n",
              "      <script>\n",
              "        const buttonEl =\n",
              "          document.querySelector('#df-1632206b-1a08-4b5a-a58f-2e047c21a1d5 button.colab-df-convert');\n",
              "        buttonEl.style.display =\n",
              "          google.colab.kernel.accessAllowed ? 'block' : 'none';\n",
              "\n",
              "        async function convertToInteractive(key) {\n",
              "          const element = document.querySelector('#df-1632206b-1a08-4b5a-a58f-2e047c21a1d5');\n",
              "          const dataTable =\n",
              "            await google.colab.kernel.invokeFunction('convertToInteractive',\n",
              "                                                     [key], {});\n",
              "          if (!dataTable) return;\n",
              "\n",
              "          const docLinkHtml = 'Like what you see? Visit the ' +\n",
              "            '<a target=\"_blank\" href=https://colab.research.google.com/notebooks/data_table.ipynb>data table notebook</a>'\n",
              "            + ' to learn more about interactive tables.';\n",
              "          element.innerHTML = '';\n",
              "          dataTable['output_type'] = 'display_data';\n",
              "          await google.colab.output.renderOutput(dataTable, element);\n",
              "          const docLink = document.createElement('div');\n",
              "          docLink.innerHTML = docLinkHtml;\n",
              "          element.appendChild(docLink);\n",
              "        }\n",
              "      </script>\n",
              "    </div>\n",
              "  </div>\n",
              "  "
            ]
          },
          "metadata": {},
          "execution_count": 237
        }
      ]
    },
    {
      "cell_type": "code",
      "source": [
        "df1.dtypes"
      ],
      "metadata": {
        "id": "R8R1i6rZsP3r",
        "colab": {
          "base_uri": "https://localhost:8080/"
        },
        "outputId": "c35dd342-706b-486a-ac32-6a9b31fbfbcc"
      },
      "execution_count": null,
      "outputs": [
        {
          "output_type": "execute_result",
          "data": {
            "text/plain": [
              "Player      object\n",
              "Age          int64\n",
              "Share      float64\n",
              "MP         float64\n",
              "W            int64\n",
              "L            int64\n",
              "Pts Max      int64\n",
              "FG%        float64\n",
              "eFG%       float64\n",
              "dtype: object"
            ]
          },
          "metadata": {},
          "execution_count": 14
        }
      ]
    },
    {
      "cell_type": "code",
      "source": [
        "df1.columns = [i.lower() for i in df1]"
      ],
      "metadata": {
        "id": "NhOdFYCpsP8H"
      },
      "execution_count": null,
      "outputs": []
    },
    {
      "cell_type": "code",
      "source": [
        "df1.head()"
      ],
      "metadata": {
        "id": "-ozzHLlUsP_y",
        "colab": {
          "base_uri": "https://localhost:8080/",
          "height": 206
        },
        "outputId": "49fade85-2f99-4f88-8fd1-f5e12cc63a08"
      },
      "execution_count": null,
      "outputs": [
        {
          "output_type": "execute_result",
          "data": {
            "text/plain": [
              "           player  age  share    mp   w   l  pts max    fg%   efg%\n",
              "0      A.C. Green   27    0.0  26.4  58  24        0  0.476  0.486\n",
              "1     Byron Scott   29    0.0  32.1  58  24        0  0.477  0.510\n",
              "2  Elden Campbell   22    0.0   7.3  58  24        0  0.455  0.455\n",
              "3   Irving Thomas   25    0.0   4.2  58  24        0  0.340  0.340\n",
              "4    James Worthy   29    0.0  38.6  58  24        0  0.492  0.501"
            ],
            "text/html": [
              "\n",
              "  <div id=\"df-1000967a-c924-4b85-9b26-a4339268b273\">\n",
              "    <div class=\"colab-df-container\">\n",
              "      <div>\n",
              "<style scoped>\n",
              "    .dataframe tbody tr th:only-of-type {\n",
              "        vertical-align: middle;\n",
              "    }\n",
              "\n",
              "    .dataframe tbody tr th {\n",
              "        vertical-align: top;\n",
              "    }\n",
              "\n",
              "    .dataframe thead th {\n",
              "        text-align: right;\n",
              "    }\n",
              "</style>\n",
              "<table border=\"1\" class=\"dataframe\">\n",
              "  <thead>\n",
              "    <tr style=\"text-align: right;\">\n",
              "      <th></th>\n",
              "      <th>player</th>\n",
              "      <th>age</th>\n",
              "      <th>share</th>\n",
              "      <th>mp</th>\n",
              "      <th>w</th>\n",
              "      <th>l</th>\n",
              "      <th>pts max</th>\n",
              "      <th>fg%</th>\n",
              "      <th>efg%</th>\n",
              "    </tr>\n",
              "  </thead>\n",
              "  <tbody>\n",
              "    <tr>\n",
              "      <th>0</th>\n",
              "      <td>A.C. Green</td>\n",
              "      <td>27</td>\n",
              "      <td>0.0</td>\n",
              "      <td>26.4</td>\n",
              "      <td>58</td>\n",
              "      <td>24</td>\n",
              "      <td>0</td>\n",
              "      <td>0.476</td>\n",
              "      <td>0.486</td>\n",
              "    </tr>\n",
              "    <tr>\n",
              "      <th>1</th>\n",
              "      <td>Byron Scott</td>\n",
              "      <td>29</td>\n",
              "      <td>0.0</td>\n",
              "      <td>32.1</td>\n",
              "      <td>58</td>\n",
              "      <td>24</td>\n",
              "      <td>0</td>\n",
              "      <td>0.477</td>\n",
              "      <td>0.510</td>\n",
              "    </tr>\n",
              "    <tr>\n",
              "      <th>2</th>\n",
              "      <td>Elden Campbell</td>\n",
              "      <td>22</td>\n",
              "      <td>0.0</td>\n",
              "      <td>7.3</td>\n",
              "      <td>58</td>\n",
              "      <td>24</td>\n",
              "      <td>0</td>\n",
              "      <td>0.455</td>\n",
              "      <td>0.455</td>\n",
              "    </tr>\n",
              "    <tr>\n",
              "      <th>3</th>\n",
              "      <td>Irving Thomas</td>\n",
              "      <td>25</td>\n",
              "      <td>0.0</td>\n",
              "      <td>4.2</td>\n",
              "      <td>58</td>\n",
              "      <td>24</td>\n",
              "      <td>0</td>\n",
              "      <td>0.340</td>\n",
              "      <td>0.340</td>\n",
              "    </tr>\n",
              "    <tr>\n",
              "      <th>4</th>\n",
              "      <td>James Worthy</td>\n",
              "      <td>29</td>\n",
              "      <td>0.0</td>\n",
              "      <td>38.6</td>\n",
              "      <td>58</td>\n",
              "      <td>24</td>\n",
              "      <td>0</td>\n",
              "      <td>0.492</td>\n",
              "      <td>0.501</td>\n",
              "    </tr>\n",
              "  </tbody>\n",
              "</table>\n",
              "</div>\n",
              "      <button class=\"colab-df-convert\" onclick=\"convertToInteractive('df-1000967a-c924-4b85-9b26-a4339268b273')\"\n",
              "              title=\"Convert this dataframe to an interactive table.\"\n",
              "              style=\"display:none;\">\n",
              "        \n",
              "  <svg xmlns=\"http://www.w3.org/2000/svg\" height=\"24px\"viewBox=\"0 0 24 24\"\n",
              "       width=\"24px\">\n",
              "    <path d=\"M0 0h24v24H0V0z\" fill=\"none\"/>\n",
              "    <path d=\"M18.56 5.44l.94 2.06.94-2.06 2.06-.94-2.06-.94-.94-2.06-.94 2.06-2.06.94zm-11 1L8.5 8.5l.94-2.06 2.06-.94-2.06-.94L8.5 2.5l-.94 2.06-2.06.94zm10 10l.94 2.06.94-2.06 2.06-.94-2.06-.94-.94-2.06-.94 2.06-2.06.94z\"/><path d=\"M17.41 7.96l-1.37-1.37c-.4-.4-.92-.59-1.43-.59-.52 0-1.04.2-1.43.59L10.3 9.45l-7.72 7.72c-.78.78-.78 2.05 0 2.83L4 21.41c.39.39.9.59 1.41.59.51 0 1.02-.2 1.41-.59l7.78-7.78 2.81-2.81c.8-.78.8-2.07 0-2.86zM5.41 20L4 18.59l7.72-7.72 1.47 1.35L5.41 20z\"/>\n",
              "  </svg>\n",
              "      </button>\n",
              "      \n",
              "  <style>\n",
              "    .colab-df-container {\n",
              "      display:flex;\n",
              "      flex-wrap:wrap;\n",
              "      gap: 12px;\n",
              "    }\n",
              "\n",
              "    .colab-df-convert {\n",
              "      background-color: #E8F0FE;\n",
              "      border: none;\n",
              "      border-radius: 50%;\n",
              "      cursor: pointer;\n",
              "      display: none;\n",
              "      fill: #1967D2;\n",
              "      height: 32px;\n",
              "      padding: 0 0 0 0;\n",
              "      width: 32px;\n",
              "    }\n",
              "\n",
              "    .colab-df-convert:hover {\n",
              "      background-color: #E2EBFA;\n",
              "      box-shadow: 0px 1px 2px rgba(60, 64, 67, 0.3), 0px 1px 3px 1px rgba(60, 64, 67, 0.15);\n",
              "      fill: #174EA6;\n",
              "    }\n",
              "\n",
              "    [theme=dark] .colab-df-convert {\n",
              "      background-color: #3B4455;\n",
              "      fill: #D2E3FC;\n",
              "    }\n",
              "\n",
              "    [theme=dark] .colab-df-convert:hover {\n",
              "      background-color: #434B5C;\n",
              "      box-shadow: 0px 1px 3px 1px rgba(0, 0, 0, 0.15);\n",
              "      filter: drop-shadow(0px 1px 2px rgba(0, 0, 0, 0.3));\n",
              "      fill: #FFFFFF;\n",
              "    }\n",
              "  </style>\n",
              "\n",
              "      <script>\n",
              "        const buttonEl =\n",
              "          document.querySelector('#df-1000967a-c924-4b85-9b26-a4339268b273 button.colab-df-convert');\n",
              "        buttonEl.style.display =\n",
              "          google.colab.kernel.accessAllowed ? 'block' : 'none';\n",
              "\n",
              "        async function convertToInteractive(key) {\n",
              "          const element = document.querySelector('#df-1000967a-c924-4b85-9b26-a4339268b273');\n",
              "          const dataTable =\n",
              "            await google.colab.kernel.invokeFunction('convertToInteractive',\n",
              "                                                     [key], {});\n",
              "          if (!dataTable) return;\n",
              "\n",
              "          const docLinkHtml = 'Like what you see? Visit the ' +\n",
              "            '<a target=\"_blank\" href=https://colab.research.google.com/notebooks/data_table.ipynb>data table notebook</a>'\n",
              "            + ' to learn more about interactive tables.';\n",
              "          element.innerHTML = '';\n",
              "          dataTable['output_type'] = 'display_data';\n",
              "          await google.colab.output.renderOutput(dataTable, element);\n",
              "          const docLink = document.createElement('div');\n",
              "          docLink.innerHTML = docLinkHtml;\n",
              "          element.appendChild(docLink);\n",
              "        }\n",
              "      </script>\n",
              "    </div>\n",
              "  </div>\n",
              "  "
            ]
          },
          "metadata": {},
          "execution_count": 16
        }
      ]
    },
    {
      "cell_type": "code",
      "source": [
        "df2 =df1.fillna(0)"
      ],
      "metadata": {
        "id": "n1g5gNWhQbCz"
      },
      "execution_count": null,
      "outputs": []
    },
    {
      "cell_type": "code",
      "source": [
        "df2.isnull().sum()"
      ],
      "metadata": {
        "id": "kWdWOp7wsQSy"
      },
      "execution_count": null,
      "outputs": []
    },
    {
      "cell_type": "code",
      "source": [
        "df2.head()"
      ],
      "metadata": {
        "colab": {
          "base_uri": "https://localhost:8080/",
          "height": 206
        },
        "id": "9XjG-22URVyx",
        "outputId": "78654d02-c7e8-4538-9558-1902e152d39d"
      },
      "execution_count": null,
      "outputs": [
        {
          "output_type": "execute_result",
          "data": {
            "text/plain": [
              "           player  age  share    mp   w   l  pts max    fg%   efg%\n",
              "0      A.C. Green   27    0.0  26.4  58  24        0  0.476  0.486\n",
              "1     Byron Scott   29    0.0  32.1  58  24        0  0.477  0.510\n",
              "2  Elden Campbell   22    0.0   7.3  58  24        0  0.455  0.455\n",
              "3   Irving Thomas   25    0.0   4.2  58  24        0  0.340  0.340\n",
              "4    James Worthy   29    0.0  38.6  58  24        0  0.492  0.501"
            ],
            "text/html": [
              "\n",
              "  <div id=\"df-4623bfcf-69a0-4dd6-954d-458ee793a2e4\">\n",
              "    <div class=\"colab-df-container\">\n",
              "      <div>\n",
              "<style scoped>\n",
              "    .dataframe tbody tr th:only-of-type {\n",
              "        vertical-align: middle;\n",
              "    }\n",
              "\n",
              "    .dataframe tbody tr th {\n",
              "        vertical-align: top;\n",
              "    }\n",
              "\n",
              "    .dataframe thead th {\n",
              "        text-align: right;\n",
              "    }\n",
              "</style>\n",
              "<table border=\"1\" class=\"dataframe\">\n",
              "  <thead>\n",
              "    <tr style=\"text-align: right;\">\n",
              "      <th></th>\n",
              "      <th>player</th>\n",
              "      <th>age</th>\n",
              "      <th>share</th>\n",
              "      <th>mp</th>\n",
              "      <th>w</th>\n",
              "      <th>l</th>\n",
              "      <th>pts max</th>\n",
              "      <th>fg%</th>\n",
              "      <th>efg%</th>\n",
              "    </tr>\n",
              "  </thead>\n",
              "  <tbody>\n",
              "    <tr>\n",
              "      <th>0</th>\n",
              "      <td>A.C. Green</td>\n",
              "      <td>27</td>\n",
              "      <td>0.0</td>\n",
              "      <td>26.4</td>\n",
              "      <td>58</td>\n",
              "      <td>24</td>\n",
              "      <td>0</td>\n",
              "      <td>0.476</td>\n",
              "      <td>0.486</td>\n",
              "    </tr>\n",
              "    <tr>\n",
              "      <th>1</th>\n",
              "      <td>Byron Scott</td>\n",
              "      <td>29</td>\n",
              "      <td>0.0</td>\n",
              "      <td>32.1</td>\n",
              "      <td>58</td>\n",
              "      <td>24</td>\n",
              "      <td>0</td>\n",
              "      <td>0.477</td>\n",
              "      <td>0.510</td>\n",
              "    </tr>\n",
              "    <tr>\n",
              "      <th>2</th>\n",
              "      <td>Elden Campbell</td>\n",
              "      <td>22</td>\n",
              "      <td>0.0</td>\n",
              "      <td>7.3</td>\n",
              "      <td>58</td>\n",
              "      <td>24</td>\n",
              "      <td>0</td>\n",
              "      <td>0.455</td>\n",
              "      <td>0.455</td>\n",
              "    </tr>\n",
              "    <tr>\n",
              "      <th>3</th>\n",
              "      <td>Irving Thomas</td>\n",
              "      <td>25</td>\n",
              "      <td>0.0</td>\n",
              "      <td>4.2</td>\n",
              "      <td>58</td>\n",
              "      <td>24</td>\n",
              "      <td>0</td>\n",
              "      <td>0.340</td>\n",
              "      <td>0.340</td>\n",
              "    </tr>\n",
              "    <tr>\n",
              "      <th>4</th>\n",
              "      <td>James Worthy</td>\n",
              "      <td>29</td>\n",
              "      <td>0.0</td>\n",
              "      <td>38.6</td>\n",
              "      <td>58</td>\n",
              "      <td>24</td>\n",
              "      <td>0</td>\n",
              "      <td>0.492</td>\n",
              "      <td>0.501</td>\n",
              "    </tr>\n",
              "  </tbody>\n",
              "</table>\n",
              "</div>\n",
              "      <button class=\"colab-df-convert\" onclick=\"convertToInteractive('df-4623bfcf-69a0-4dd6-954d-458ee793a2e4')\"\n",
              "              title=\"Convert this dataframe to an interactive table.\"\n",
              "              style=\"display:none;\">\n",
              "        \n",
              "  <svg xmlns=\"http://www.w3.org/2000/svg\" height=\"24px\"viewBox=\"0 0 24 24\"\n",
              "       width=\"24px\">\n",
              "    <path d=\"M0 0h24v24H0V0z\" fill=\"none\"/>\n",
              "    <path d=\"M18.56 5.44l.94 2.06.94-2.06 2.06-.94-2.06-.94-.94-2.06-.94 2.06-2.06.94zm-11 1L8.5 8.5l.94-2.06 2.06-.94-2.06-.94L8.5 2.5l-.94 2.06-2.06.94zm10 10l.94 2.06.94-2.06 2.06-.94-2.06-.94-.94-2.06-.94 2.06-2.06.94z\"/><path d=\"M17.41 7.96l-1.37-1.37c-.4-.4-.92-.59-1.43-.59-.52 0-1.04.2-1.43.59L10.3 9.45l-7.72 7.72c-.78.78-.78 2.05 0 2.83L4 21.41c.39.39.9.59 1.41.59.51 0 1.02-.2 1.41-.59l7.78-7.78 2.81-2.81c.8-.78.8-2.07 0-2.86zM5.41 20L4 18.59l7.72-7.72 1.47 1.35L5.41 20z\"/>\n",
              "  </svg>\n",
              "      </button>\n",
              "      \n",
              "  <style>\n",
              "    .colab-df-container {\n",
              "      display:flex;\n",
              "      flex-wrap:wrap;\n",
              "      gap: 12px;\n",
              "    }\n",
              "\n",
              "    .colab-df-convert {\n",
              "      background-color: #E8F0FE;\n",
              "      border: none;\n",
              "      border-radius: 50%;\n",
              "      cursor: pointer;\n",
              "      display: none;\n",
              "      fill: #1967D2;\n",
              "      height: 32px;\n",
              "      padding: 0 0 0 0;\n",
              "      width: 32px;\n",
              "    }\n",
              "\n",
              "    .colab-df-convert:hover {\n",
              "      background-color: #E2EBFA;\n",
              "      box-shadow: 0px 1px 2px rgba(60, 64, 67, 0.3), 0px 1px 3px 1px rgba(60, 64, 67, 0.15);\n",
              "      fill: #174EA6;\n",
              "    }\n",
              "\n",
              "    [theme=dark] .colab-df-convert {\n",
              "      background-color: #3B4455;\n",
              "      fill: #D2E3FC;\n",
              "    }\n",
              "\n",
              "    [theme=dark] .colab-df-convert:hover {\n",
              "      background-color: #434B5C;\n",
              "      box-shadow: 0px 1px 3px 1px rgba(0, 0, 0, 0.15);\n",
              "      filter: drop-shadow(0px 1px 2px rgba(0, 0, 0, 0.3));\n",
              "      fill: #FFFFFF;\n",
              "    }\n",
              "  </style>\n",
              "\n",
              "      <script>\n",
              "        const buttonEl =\n",
              "          document.querySelector('#df-4623bfcf-69a0-4dd6-954d-458ee793a2e4 button.colab-df-convert');\n",
              "        buttonEl.style.display =\n",
              "          google.colab.kernel.accessAllowed ? 'block' : 'none';\n",
              "\n",
              "        async function convertToInteractive(key) {\n",
              "          const element = document.querySelector('#df-4623bfcf-69a0-4dd6-954d-458ee793a2e4');\n",
              "          const dataTable =\n",
              "            await google.colab.kernel.invokeFunction('convertToInteractive',\n",
              "                                                     [key], {});\n",
              "          if (!dataTable) return;\n",
              "\n",
              "          const docLinkHtml = 'Like what you see? Visit the ' +\n",
              "            '<a target=\"_blank\" href=https://colab.research.google.com/notebooks/data_table.ipynb>data table notebook</a>'\n",
              "            + ' to learn more about interactive tables.';\n",
              "          element.innerHTML = '';\n",
              "          dataTable['output_type'] = 'display_data';\n",
              "          await google.colab.output.renderOutput(dataTable, element);\n",
              "          const docLink = document.createElement('div');\n",
              "          docLink.innerHTML = docLinkHtml;\n",
              "          element.appendChild(docLink);\n",
              "        }\n",
              "      </script>\n",
              "    </div>\n",
              "  </div>\n",
              "  "
            ]
          },
          "metadata": {},
          "execution_count": 37
        }
      ]
    },
    {
      "cell_type": "code",
      "source": [
        "df2.columns = df2.columns.str.replace(' ', '')"
      ],
      "metadata": {
        "id": "AcH8dp_QsQej"
      },
      "execution_count": null,
      "outputs": []
    },
    {
      "cell_type": "code",
      "source": [
        "df2.head()"
      ],
      "metadata": {
        "colab": {
          "base_uri": "https://localhost:8080/",
          "height": 206
        },
        "id": "3Bcv_T6JSDr8",
        "outputId": "fda30722-c51b-41ae-f248-0c27732a924f"
      },
      "execution_count": null,
      "outputs": [
        {
          "output_type": "execute_result",
          "data": {
            "text/plain": [
              "           player  age  share    mp   w   l  ptsmax    fg%   efg%\n",
              "0      A.C. Green   27    0.0  26.4  58  24       0  0.476  0.486\n",
              "1     Byron Scott   29    0.0  32.1  58  24       0  0.477  0.510\n",
              "2  Elden Campbell   22    0.0   7.3  58  24       0  0.455  0.455\n",
              "3   Irving Thomas   25    0.0   4.2  58  24       0  0.340  0.340\n",
              "4    James Worthy   29    0.0  38.6  58  24       0  0.492  0.501"
            ],
            "text/html": [
              "\n",
              "  <div id=\"df-bbba4e8d-a81f-4adc-830e-6bbb609ace51\">\n",
              "    <div class=\"colab-df-container\">\n",
              "      <div>\n",
              "<style scoped>\n",
              "    .dataframe tbody tr th:only-of-type {\n",
              "        vertical-align: middle;\n",
              "    }\n",
              "\n",
              "    .dataframe tbody tr th {\n",
              "        vertical-align: top;\n",
              "    }\n",
              "\n",
              "    .dataframe thead th {\n",
              "        text-align: right;\n",
              "    }\n",
              "</style>\n",
              "<table border=\"1\" class=\"dataframe\">\n",
              "  <thead>\n",
              "    <tr style=\"text-align: right;\">\n",
              "      <th></th>\n",
              "      <th>player</th>\n",
              "      <th>age</th>\n",
              "      <th>share</th>\n",
              "      <th>mp</th>\n",
              "      <th>w</th>\n",
              "      <th>l</th>\n",
              "      <th>ptsmax</th>\n",
              "      <th>fg%</th>\n",
              "      <th>efg%</th>\n",
              "    </tr>\n",
              "  </thead>\n",
              "  <tbody>\n",
              "    <tr>\n",
              "      <th>0</th>\n",
              "      <td>A.C. Green</td>\n",
              "      <td>27</td>\n",
              "      <td>0.0</td>\n",
              "      <td>26.4</td>\n",
              "      <td>58</td>\n",
              "      <td>24</td>\n",
              "      <td>0</td>\n",
              "      <td>0.476</td>\n",
              "      <td>0.486</td>\n",
              "    </tr>\n",
              "    <tr>\n",
              "      <th>1</th>\n",
              "      <td>Byron Scott</td>\n",
              "      <td>29</td>\n",
              "      <td>0.0</td>\n",
              "      <td>32.1</td>\n",
              "      <td>58</td>\n",
              "      <td>24</td>\n",
              "      <td>0</td>\n",
              "      <td>0.477</td>\n",
              "      <td>0.510</td>\n",
              "    </tr>\n",
              "    <tr>\n",
              "      <th>2</th>\n",
              "      <td>Elden Campbell</td>\n",
              "      <td>22</td>\n",
              "      <td>0.0</td>\n",
              "      <td>7.3</td>\n",
              "      <td>58</td>\n",
              "      <td>24</td>\n",
              "      <td>0</td>\n",
              "      <td>0.455</td>\n",
              "      <td>0.455</td>\n",
              "    </tr>\n",
              "    <tr>\n",
              "      <th>3</th>\n",
              "      <td>Irving Thomas</td>\n",
              "      <td>25</td>\n",
              "      <td>0.0</td>\n",
              "      <td>4.2</td>\n",
              "      <td>58</td>\n",
              "      <td>24</td>\n",
              "      <td>0</td>\n",
              "      <td>0.340</td>\n",
              "      <td>0.340</td>\n",
              "    </tr>\n",
              "    <tr>\n",
              "      <th>4</th>\n",
              "      <td>James Worthy</td>\n",
              "      <td>29</td>\n",
              "      <td>0.0</td>\n",
              "      <td>38.6</td>\n",
              "      <td>58</td>\n",
              "      <td>24</td>\n",
              "      <td>0</td>\n",
              "      <td>0.492</td>\n",
              "      <td>0.501</td>\n",
              "    </tr>\n",
              "  </tbody>\n",
              "</table>\n",
              "</div>\n",
              "      <button class=\"colab-df-convert\" onclick=\"convertToInteractive('df-bbba4e8d-a81f-4adc-830e-6bbb609ace51')\"\n",
              "              title=\"Convert this dataframe to an interactive table.\"\n",
              "              style=\"display:none;\">\n",
              "        \n",
              "  <svg xmlns=\"http://www.w3.org/2000/svg\" height=\"24px\"viewBox=\"0 0 24 24\"\n",
              "       width=\"24px\">\n",
              "    <path d=\"M0 0h24v24H0V0z\" fill=\"none\"/>\n",
              "    <path d=\"M18.56 5.44l.94 2.06.94-2.06 2.06-.94-2.06-.94-.94-2.06-.94 2.06-2.06.94zm-11 1L8.5 8.5l.94-2.06 2.06-.94-2.06-.94L8.5 2.5l-.94 2.06-2.06.94zm10 10l.94 2.06.94-2.06 2.06-.94-2.06-.94-.94-2.06-.94 2.06-2.06.94z\"/><path d=\"M17.41 7.96l-1.37-1.37c-.4-.4-.92-.59-1.43-.59-.52 0-1.04.2-1.43.59L10.3 9.45l-7.72 7.72c-.78.78-.78 2.05 0 2.83L4 21.41c.39.39.9.59 1.41.59.51 0 1.02-.2 1.41-.59l7.78-7.78 2.81-2.81c.8-.78.8-2.07 0-2.86zM5.41 20L4 18.59l7.72-7.72 1.47 1.35L5.41 20z\"/>\n",
              "  </svg>\n",
              "      </button>\n",
              "      \n",
              "  <style>\n",
              "    .colab-df-container {\n",
              "      display:flex;\n",
              "      flex-wrap:wrap;\n",
              "      gap: 12px;\n",
              "    }\n",
              "\n",
              "    .colab-df-convert {\n",
              "      background-color: #E8F0FE;\n",
              "      border: none;\n",
              "      border-radius: 50%;\n",
              "      cursor: pointer;\n",
              "      display: none;\n",
              "      fill: #1967D2;\n",
              "      height: 32px;\n",
              "      padding: 0 0 0 0;\n",
              "      width: 32px;\n",
              "    }\n",
              "\n",
              "    .colab-df-convert:hover {\n",
              "      background-color: #E2EBFA;\n",
              "      box-shadow: 0px 1px 2px rgba(60, 64, 67, 0.3), 0px 1px 3px 1px rgba(60, 64, 67, 0.15);\n",
              "      fill: #174EA6;\n",
              "    }\n",
              "\n",
              "    [theme=dark] .colab-df-convert {\n",
              "      background-color: #3B4455;\n",
              "      fill: #D2E3FC;\n",
              "    }\n",
              "\n",
              "    [theme=dark] .colab-df-convert:hover {\n",
              "      background-color: #434B5C;\n",
              "      box-shadow: 0px 1px 3px 1px rgba(0, 0, 0, 0.15);\n",
              "      filter: drop-shadow(0px 1px 2px rgba(0, 0, 0, 0.3));\n",
              "      fill: #FFFFFF;\n",
              "    }\n",
              "  </style>\n",
              "\n",
              "      <script>\n",
              "        const buttonEl =\n",
              "          document.querySelector('#df-bbba4e8d-a81f-4adc-830e-6bbb609ace51 button.colab-df-convert');\n",
              "        buttonEl.style.display =\n",
              "          google.colab.kernel.accessAllowed ? 'block' : 'none';\n",
              "\n",
              "        async function convertToInteractive(key) {\n",
              "          const element = document.querySelector('#df-bbba4e8d-a81f-4adc-830e-6bbb609ace51');\n",
              "          const dataTable =\n",
              "            await google.colab.kernel.invokeFunction('convertToInteractive',\n",
              "                                                     [key], {});\n",
              "          if (!dataTable) return;\n",
              "\n",
              "          const docLinkHtml = 'Like what you see? Visit the ' +\n",
              "            '<a target=\"_blank\" href=https://colab.research.google.com/notebooks/data_table.ipynb>data table notebook</a>'\n",
              "            + ' to learn more about interactive tables.';\n",
              "          element.innerHTML = '';\n",
              "          dataTable['output_type'] = 'display_data';\n",
              "          await google.colab.output.renderOutput(dataTable, element);\n",
              "          const docLink = document.createElement('div');\n",
              "          docLink.innerHTML = docLinkHtml;\n",
              "          element.appendChild(docLink);\n",
              "        }\n",
              "      </script>\n",
              "    </div>\n",
              "  </div>\n",
              "  "
            ]
          },
          "metadata": {},
          "execution_count": 64
        }
      ]
    },
    {
      "cell_type": "code",
      "source": [
        "df2.columns = df2.columns.str.replace(\"%\",\"\")\n",
        "df2.head()"
      ],
      "metadata": {
        "colab": {
          "base_uri": "https://localhost:8080/",
          "height": 206
        },
        "id": "2Oy0acu0OzhE",
        "outputId": "c367e7bd-edd0-4f50-b912-4585fedfb650"
      },
      "execution_count": null,
      "outputs": [
        {
          "output_type": "execute_result",
          "data": {
            "text/plain": [
              "           player  age  share    mp   w   l  ptsmax     fg    efg\n",
              "0      A.C. Green   27    0.0  26.4  58  24       0  0.476  0.486\n",
              "1     Byron Scott   29    0.0  32.1  58  24       0  0.477  0.510\n",
              "2  Elden Campbell   22    0.0   7.3  58  24       0  0.455  0.455\n",
              "3   Irving Thomas   25    0.0   4.2  58  24       0  0.340  0.340\n",
              "4    James Worthy   29    0.0  38.6  58  24       0  0.492  0.501"
            ],
            "text/html": [
              "\n",
              "  <div id=\"df-2363f7a9-6f25-44f9-8f40-5805089ea66b\">\n",
              "    <div class=\"colab-df-container\">\n",
              "      <div>\n",
              "<style scoped>\n",
              "    .dataframe tbody tr th:only-of-type {\n",
              "        vertical-align: middle;\n",
              "    }\n",
              "\n",
              "    .dataframe tbody tr th {\n",
              "        vertical-align: top;\n",
              "    }\n",
              "\n",
              "    .dataframe thead th {\n",
              "        text-align: right;\n",
              "    }\n",
              "</style>\n",
              "<table border=\"1\" class=\"dataframe\">\n",
              "  <thead>\n",
              "    <tr style=\"text-align: right;\">\n",
              "      <th></th>\n",
              "      <th>player</th>\n",
              "      <th>age</th>\n",
              "      <th>share</th>\n",
              "      <th>mp</th>\n",
              "      <th>w</th>\n",
              "      <th>l</th>\n",
              "      <th>ptsmax</th>\n",
              "      <th>fg</th>\n",
              "      <th>efg</th>\n",
              "    </tr>\n",
              "  </thead>\n",
              "  <tbody>\n",
              "    <tr>\n",
              "      <th>0</th>\n",
              "      <td>A.C. Green</td>\n",
              "      <td>27</td>\n",
              "      <td>0.0</td>\n",
              "      <td>26.4</td>\n",
              "      <td>58</td>\n",
              "      <td>24</td>\n",
              "      <td>0</td>\n",
              "      <td>0.476</td>\n",
              "      <td>0.486</td>\n",
              "    </tr>\n",
              "    <tr>\n",
              "      <th>1</th>\n",
              "      <td>Byron Scott</td>\n",
              "      <td>29</td>\n",
              "      <td>0.0</td>\n",
              "      <td>32.1</td>\n",
              "      <td>58</td>\n",
              "      <td>24</td>\n",
              "      <td>0</td>\n",
              "      <td>0.477</td>\n",
              "      <td>0.510</td>\n",
              "    </tr>\n",
              "    <tr>\n",
              "      <th>2</th>\n",
              "      <td>Elden Campbell</td>\n",
              "      <td>22</td>\n",
              "      <td>0.0</td>\n",
              "      <td>7.3</td>\n",
              "      <td>58</td>\n",
              "      <td>24</td>\n",
              "      <td>0</td>\n",
              "      <td>0.455</td>\n",
              "      <td>0.455</td>\n",
              "    </tr>\n",
              "    <tr>\n",
              "      <th>3</th>\n",
              "      <td>Irving Thomas</td>\n",
              "      <td>25</td>\n",
              "      <td>0.0</td>\n",
              "      <td>4.2</td>\n",
              "      <td>58</td>\n",
              "      <td>24</td>\n",
              "      <td>0</td>\n",
              "      <td>0.340</td>\n",
              "      <td>0.340</td>\n",
              "    </tr>\n",
              "    <tr>\n",
              "      <th>4</th>\n",
              "      <td>James Worthy</td>\n",
              "      <td>29</td>\n",
              "      <td>0.0</td>\n",
              "      <td>38.6</td>\n",
              "      <td>58</td>\n",
              "      <td>24</td>\n",
              "      <td>0</td>\n",
              "      <td>0.492</td>\n",
              "      <td>0.501</td>\n",
              "    </tr>\n",
              "  </tbody>\n",
              "</table>\n",
              "</div>\n",
              "      <button class=\"colab-df-convert\" onclick=\"convertToInteractive('df-2363f7a9-6f25-44f9-8f40-5805089ea66b')\"\n",
              "              title=\"Convert this dataframe to an interactive table.\"\n",
              "              style=\"display:none;\">\n",
              "        \n",
              "  <svg xmlns=\"http://www.w3.org/2000/svg\" height=\"24px\"viewBox=\"0 0 24 24\"\n",
              "       width=\"24px\">\n",
              "    <path d=\"M0 0h24v24H0V0z\" fill=\"none\"/>\n",
              "    <path d=\"M18.56 5.44l.94 2.06.94-2.06 2.06-.94-2.06-.94-.94-2.06-.94 2.06-2.06.94zm-11 1L8.5 8.5l.94-2.06 2.06-.94-2.06-.94L8.5 2.5l-.94 2.06-2.06.94zm10 10l.94 2.06.94-2.06 2.06-.94-2.06-.94-.94-2.06-.94 2.06-2.06.94z\"/><path d=\"M17.41 7.96l-1.37-1.37c-.4-.4-.92-.59-1.43-.59-.52 0-1.04.2-1.43.59L10.3 9.45l-7.72 7.72c-.78.78-.78 2.05 0 2.83L4 21.41c.39.39.9.59 1.41.59.51 0 1.02-.2 1.41-.59l7.78-7.78 2.81-2.81c.8-.78.8-2.07 0-2.86zM5.41 20L4 18.59l7.72-7.72 1.47 1.35L5.41 20z\"/>\n",
              "  </svg>\n",
              "      </button>\n",
              "      \n",
              "  <style>\n",
              "    .colab-df-container {\n",
              "      display:flex;\n",
              "      flex-wrap:wrap;\n",
              "      gap: 12px;\n",
              "    }\n",
              "\n",
              "    .colab-df-convert {\n",
              "      background-color: #E8F0FE;\n",
              "      border: none;\n",
              "      border-radius: 50%;\n",
              "      cursor: pointer;\n",
              "      display: none;\n",
              "      fill: #1967D2;\n",
              "      height: 32px;\n",
              "      padding: 0 0 0 0;\n",
              "      width: 32px;\n",
              "    }\n",
              "\n",
              "    .colab-df-convert:hover {\n",
              "      background-color: #E2EBFA;\n",
              "      box-shadow: 0px 1px 2px rgba(60, 64, 67, 0.3), 0px 1px 3px 1px rgba(60, 64, 67, 0.15);\n",
              "      fill: #174EA6;\n",
              "    }\n",
              "\n",
              "    [theme=dark] .colab-df-convert {\n",
              "      background-color: #3B4455;\n",
              "      fill: #D2E3FC;\n",
              "    }\n",
              "\n",
              "    [theme=dark] .colab-df-convert:hover {\n",
              "      background-color: #434B5C;\n",
              "      box-shadow: 0px 1px 3px 1px rgba(0, 0, 0, 0.15);\n",
              "      filter: drop-shadow(0px 1px 2px rgba(0, 0, 0, 0.3));\n",
              "      fill: #FFFFFF;\n",
              "    }\n",
              "  </style>\n",
              "\n",
              "      <script>\n",
              "        const buttonEl =\n",
              "          document.querySelector('#df-2363f7a9-6f25-44f9-8f40-5805089ea66b button.colab-df-convert');\n",
              "        buttonEl.style.display =\n",
              "          google.colab.kernel.accessAllowed ? 'block' : 'none';\n",
              "\n",
              "        async function convertToInteractive(key) {\n",
              "          const element = document.querySelector('#df-2363f7a9-6f25-44f9-8f40-5805089ea66b');\n",
              "          const dataTable =\n",
              "            await google.colab.kernel.invokeFunction('convertToInteractive',\n",
              "                                                     [key], {});\n",
              "          if (!dataTable) return;\n",
              "\n",
              "          const docLinkHtml = 'Like what you see? Visit the ' +\n",
              "            '<a target=\"_blank\" href=https://colab.research.google.com/notebooks/data_table.ipynb>data table notebook</a>'\n",
              "            + ' to learn more about interactive tables.';\n",
              "          element.innerHTML = '';\n",
              "          dataTable['output_type'] = 'display_data';\n",
              "          await google.colab.output.renderOutput(dataTable, element);\n",
              "          const docLink = document.createElement('div');\n",
              "          docLink.innerHTML = docLinkHtml;\n",
              "          element.appendChild(docLink);\n",
              "        }\n",
              "      </script>\n",
              "    </div>\n",
              "  </div>\n",
              "  "
            ]
          },
          "metadata": {},
          "execution_count": 67
        }
      ]
    },
    {
      "cell_type": "code",
      "source": [
        "df2[\"l\"].mean()"
      ],
      "metadata": {
        "colab": {
          "base_uri": "https://localhost:8080/"
        },
        "id": "aF_ti-TnnDi5",
        "outputId": "d3a58c60-268c-46d3-a0b3-4856c6439f73"
      },
      "execution_count": null,
      "outputs": [
        {
          "output_type": "execute_result",
          "data": {
            "text/plain": [
              "40.08189043428896"
            ]
          },
          "metadata": {},
          "execution_count": 71
        }
      ]
    },
    {
      "cell_type": "code",
      "source": [
        "df2.rename(columns = {\"ptsmax\":\"pts\"}, inplace = True)"
      ],
      "metadata": {
        "id": "ASzJgf9InSto"
      },
      "execution_count": null,
      "outputs": []
    },
    {
      "cell_type": "code",
      "source": [
        "df2[df2[\"l\"]>61].sort_values(\"pts\",ascending=False)"
      ],
      "metadata": {
        "id": "K-u-0IY8gBut"
      },
      "execution_count": null,
      "outputs": []
    },
    {
      "cell_type": "code",
      "source": [
        "df2[\"pts\"].unique()"
      ],
      "metadata": {
        "colab": {
          "base_uri": "https://localhost:8080/"
        },
        "id": "Gex_xJGgptZw",
        "outputId": "e69abc5d-2c7e-475c-c4dc-d4fe4074c7f6"
      },
      "execution_count": 108,
      "outputs": [
        {
          "output_type": "execute_result",
          "data": {
            "text/plain": [
              "array([   0,  960, 1010, 1050, 1130, 1160, 1210, 1240, 1250, 1260, 1150,\n",
              "       1180, 1190, 1270, 1290, 1230,  980, 1310, 1300])"
            ]
          },
          "metadata": {},
          "execution_count": 108
        }
      ]
    },
    {
      "cell_type": "code",
      "source": [
        "#summming up the missing values in column wise\n",
        "df.isnull().sum(axis=0).sort_values(ascending=False)"
      ],
      "metadata": {
        "id": "ziQG3vNjpxhc"
      },
      "execution_count": null,
      "outputs": []
    },
    {
      "cell_type": "code",
      "source": [
        "#summming up the missing values in row wise\n",
        "df.isnull().sum(axis=1).sort_values(ascending=False).head(10)"
      ],
      "metadata": {
        "colab": {
          "base_uri": "https://localhost:8080/"
        },
        "id": "P6WU9_AZ6dCE",
        "outputId": "b7fc1bac-71ab-4fee-baa1-18df92ecdc30"
      },
      "execution_count": 239,
      "outputs": [
        {
          "output_type": "execute_result",
          "data": {
            "text/plain": [
              "10216    5\n",
              "2877     5\n",
              "3172     5\n",
              "4428     5\n",
              "2240     5\n",
              "3455     5\n",
              "4907     5\n",
              "13856    5\n",
              "7932     5\n",
              "4163     5\n",
              "dtype: int64"
            ]
          },
          "metadata": {},
          "execution_count": 239
        }
      ]
    },
    {
      "cell_type": "code",
      "source": [
        "#columns having at least one null values\n",
        "df.isnull().sum()>0\n",
        "d = df.isnull().any()"
      ],
      "metadata": {
        "id": "5XWbSVYp6dE0"
      },
      "execution_count": 137,
      "outputs": []
    },
    {
      "cell_type": "code",
      "source": [
        "d.index"
      ],
      "metadata": {
        "colab": {
          "base_uri": "https://localhost:8080/"
        },
        "id": "7N2jW_iE6dHq",
        "outputId": "8bfd30ca-1285-456d-ec1f-91bea75bd7c3"
      },
      "execution_count": 240,
      "outputs": [
        {
          "output_type": "execute_result",
          "data": {
            "text/plain": [
              "RangeIndex(start=0, stop=14092, step=1)"
            ]
          },
          "metadata": {},
          "execution_count": 240
        }
      ]
    },
    {
      "cell_type": "code",
      "source": [
        "#columns which has null values\n",
        "#by default any operators in columns\n",
        "d.index[d.values]"
      ],
      "metadata": {
        "colab": {
          "base_uri": "https://localhost:8080/"
        },
        "id": "VEGXeRTR6dKI",
        "outputId": "915a366c-6c1b-44cd-e4c3-6481b4a59661"
      },
      "execution_count": 241,
      "outputs": [
        {
          "output_type": "execute_result",
          "data": {
            "text/plain": [
              "Int64Index([    2,     3,    18,    20,    30,    35,    48,    52,    56,\n",
              "               57,\n",
              "            ...\n",
              "            14037, 14049, 14054, 14056, 14061, 14062, 14064, 14070, 14071,\n",
              "            14088],\n",
              "           dtype='int64', length=2275)"
            ]
          },
          "metadata": {},
          "execution_count": 241
        }
      ]
    },
    {
      "cell_type": "code",
      "source": [
        "d = df.isnull().any(axis=1)"
      ],
      "metadata": {
        "id": "lphSvveG6dMW"
      },
      "execution_count": 242,
      "outputs": []
    },
    {
      "cell_type": "code",
      "source": [
        "index=d.index[d.values]"
      ],
      "metadata": {
        "id": "yPUvMLO66dPA"
      },
      "execution_count": 243,
      "outputs": []
    },
    {
      "cell_type": "code",
      "source": [
        "#columns having all missing values\n",
        "df.isnull().all()"
      ],
      "metadata": {
        "id": "2sbmPl0y6dSK"
      },
      "execution_count": null,
      "outputs": []
    },
    {
      "cell_type": "code",
      "source": [
        "#row having all missing values\n",
        "df.isnull().all(axis=1).sum()"
      ],
      "metadata": {
        "colab": {
          "base_uri": "https://localhost:8080/"
        },
        "id": "dIFPrYYw6dXc",
        "outputId": "34bbd586-493f-49ff-fa16-c5b96c5aec69"
      },
      "execution_count": 245,
      "outputs": [
        {
          "output_type": "execute_result",
          "data": {
            "text/plain": [
              "0"
            ]
          },
          "metadata": {},
          "execution_count": 245
        }
      ]
    },
    {
      "cell_type": "code",
      "source": [
        "#summing up the missing values in column wise(cal in %) with using round\n",
        "round(df.isnull().sum().sort_values(ascending=False)/len(df)*100,2)"
      ],
      "metadata": {
        "colab": {
          "base_uri": "https://localhost:8080/"
        },
        "id": "1RxPzNYm6daL",
        "outputId": "ee4219f9-48a1-4370-af58-4e421c56276d"
      },
      "execution_count": 246,
      "outputs": [
        {
          "output_type": "execute_result",
          "data": {
            "text/plain": [
              "3P%        14.49\n",
              "FT%         3.28\n",
              "2P%         0.60\n",
              "eFG%        0.35\n",
              "FG%         0.35\n",
              "Player      0.00\n",
              "BLK         0.00\n",
              "TOV         0.00\n",
              "PF          0.00\n",
              "PTS         0.00\n",
              "Year        0.00\n",
              "Pts Won     0.00\n",
              "Pts Max     0.00\n",
              "AST         0.00\n",
              "Share       0.00\n",
              "Team        0.00\n",
              "W           0.00\n",
              "L           0.00\n",
              "W/L%        0.00\n",
              "GB          0.00\n",
              "PS/G        0.00\n",
              "PA/G        0.00\n",
              "STL         0.00\n",
              "ORB         0.00\n",
              "TRB         0.00\n",
              "FGA         0.00\n",
              "Age         0.00\n",
              "Tm          0.00\n",
              "G           0.00\n",
              "GS          0.00\n",
              "MP          0.00\n",
              "FG          0.00\n",
              "3P          0.00\n",
              "DRB         0.00\n",
              "3PA         0.00\n",
              "2P          0.00\n",
              "2PA         0.00\n",
              "FT          0.00\n",
              "FTA         0.00\n",
              "Pos         0.00\n",
              "SRS         0.00\n",
              "dtype: float64"
            ]
          },
          "metadata": {},
          "execution_count": 246
        }
      ]
    },
    {
      "cell_type": "code",
      "source": [
        "#removing the two maximum null values percentge in dataset\n",
        "col = df.isnull().sum().sort_values(ascending=False).head(2).index.values"
      ],
      "metadata": {
        "id": "h2i0I4-D6dc-"
      },
      "execution_count": 247,
      "outputs": []
    },
    {
      "cell_type": "code",
      "source": [
        "#removing the maximum columns using drop\n",
        "df=df.drop(columns=col)"
      ],
      "metadata": {
        "id": "ciF7sF3L6dfq"
      },
      "execution_count": 248,
      "outputs": []
    },
    {
      "cell_type": "code",
      "source": [
        "df.isnull().sum()"
      ],
      "metadata": {
        "id": "YPp_SByu6dia"
      },
      "execution_count": null,
      "outputs": []
    },
    {
      "cell_type": "code",
      "source": [
        "round(df.isnull().sum().sort_values(ascending=False)/len(df)*100,2)"
      ],
      "metadata": {
        "id": "mpn-inyz6dlC"
      },
      "execution_count": null,
      "outputs": []
    },
    {
      "cell_type": "code",
      "source": [
        "#check the rows where you heve more than 2 missing values\n",
        "len(df[df.isnull().sum(axis=1)>2])/len(df)*100"
      ],
      "metadata": {
        "colab": {
          "base_uri": "https://localhost:8080/"
        },
        "id": "5NEi0lCb6doY",
        "outputId": "c820cf74-cf35-46a2-ca0a-bb63137a47de"
      },
      "execution_count": 250,
      "outputs": [
        {
          "output_type": "execute_result",
          "data": {
            "text/plain": [
              "0.35481124042009654"
            ]
          },
          "metadata": {},
          "execution_count": 250
        }
      ]
    },
    {
      "cell_type": "code",
      "source": [
        "#retaining the rows having <=5 NaNs\n",
        "df = df[df.isnull().sum(axis=1)<=5]"
      ],
      "metadata": {
        "id": "j7R1IMMC6dqj"
      },
      "execution_count": 198,
      "outputs": []
    },
    {
      "cell_type": "code",
      "source": [
        "round(df.isnull().sum().sort_values(ascending=False)/len(df)*100,2).head(3)"
      ],
      "metadata": {
        "colab": {
          "base_uri": "https://localhost:8080/"
        },
        "id": "vVmI9I5K6duV",
        "outputId": "cb034935-ff1d-4651-a85b-83ef8577a11a"
      },
      "execution_count": 251,
      "outputs": [
        {
          "output_type": "execute_result",
          "data": {
            "text/plain": [
              "2P%     0.60\n",
              "eFG%    0.35\n",
              "FG%     0.35\n",
              "dtype: float64"
            ]
          },
          "metadata": {},
          "execution_count": 251
        }
      ]
    },
    {
      "cell_type": "code",
      "source": [
        "df.shape"
      ],
      "metadata": {
        "colab": {
          "base_uri": "https://localhost:8080/"
        },
        "id": "bv5StWrhKAVx",
        "outputId": "5614f08c-3dac-4cfd-a14f-fb359e411207"
      },
      "execution_count": 252,
      "outputs": [
        {
          "output_type": "execute_result",
          "data": {
            "text/plain": [
              "(14092, 39)"
            ]
          },
          "metadata": {},
          "execution_count": 252
        }
      ]
    },
    {
      "cell_type": "code",
      "source": [
        "#not null in this data\n",
        "df[df[\"2P%\"].notnull()]"
      ],
      "metadata": {
        "id": "9eunyFfn6dxM"
      },
      "execution_count": null,
      "outputs": []
    },
    {
      "cell_type": "code",
      "source": [
        "#another method to see not null values using numpy\n",
        "df[~np.isnan(df[\"2P%\"])]"
      ],
      "metadata": {
        "id": "ZmisiEdM6dzv"
      },
      "execution_count": null,
      "outputs": []
    },
    {
      "cell_type": "code",
      "source": [
        "df = df[df[\"2P%\"].notnull()]"
      ],
      "metadata": {
        "id": "KWoTKgZ96d1o"
      },
      "execution_count": 254,
      "outputs": []
    },
    {
      "cell_type": "code",
      "source": [
        "round(df.isnull().sum().sort_values(ascending=False)/len(df)*100,2)"
      ],
      "metadata": {
        "colab": {
          "base_uri": "https://localhost:8080/"
        },
        "id": "-S2-6Z0n6d4p",
        "outputId": "15a87d9f-6bd3-4374-a13a-df030c7baeca"
      },
      "execution_count": 255,
      "outputs": [
        {
          "output_type": "execute_result",
          "data": {
            "text/plain": [
              "Player     0.0\n",
              "Pts Max    0.0\n",
              "STL        0.0\n",
              "BLK        0.0\n",
              "TOV        0.0\n",
              "PF         0.0\n",
              "PTS        0.0\n",
              "Year       0.0\n",
              "Pts Won    0.0\n",
              "Share      0.0\n",
              "TRB        0.0\n",
              "Team       0.0\n",
              "W          0.0\n",
              "L          0.0\n",
              "W/L%       0.0\n",
              "GB         0.0\n",
              "PS/G       0.0\n",
              "PA/G       0.0\n",
              "AST        0.0\n",
              "DRB        0.0\n",
              "Pos        0.0\n",
              "FG%        0.0\n",
              "Age        0.0\n",
              "Tm         0.0\n",
              "G          0.0\n",
              "GS         0.0\n",
              "MP         0.0\n",
              "FG         0.0\n",
              "FGA        0.0\n",
              "3P         0.0\n",
              "ORB        0.0\n",
              "3PA        0.0\n",
              "2P         0.0\n",
              "2PA        0.0\n",
              "2P%        0.0\n",
              "eFG%       0.0\n",
              "FT         0.0\n",
              "FTA        0.0\n",
              "SRS        0.0\n",
              "dtype: float64"
            ]
          },
          "metadata": {},
          "execution_count": 255
        }
      ]
    },
    {
      "cell_type": "code",
      "source": [
        "#imputing missing value  by Mean\n",
        "df.loc[:,[\"column name1\",\"column name2\"]].describe()"
      ],
      "metadata": {
        "id": "eNHVZkWiM3sC"
      },
      "execution_count": null,
      "outputs": []
    },
    {
      "cell_type": "code",
      "source": [
        "df[\"column name1\"].mean()"
      ],
      "metadata": {
        "id": "fTmzTlj7Nhge"
      },
      "execution_count": null,
      "outputs": []
    },
    {
      "cell_type": "code",
      "source": [
        "#imputing missing values by mean in column1\n",
        "df.loc[:,\"column name1\"].fillna(df[\"column name1\"].mean(),inplace=True)"
      ],
      "metadata": {
        "id": "EhgzHz3eNq_S"
      },
      "execution_count": null,
      "outputs": []
    },
    {
      "cell_type": "code",
      "source": [
        "#imputing missing values by mean in column2\n",
        "df.loc[:,\"column name2\"].fillna(df[\"column name2\"].mean(),inplace=True)"
      ],
      "metadata": {
        "id": "6MLYmYp1N6dM"
      },
      "execution_count": null,
      "outputs": []
    },
    {
      "cell_type": "code",
      "source": [
        "#counting in columns that which number has the most number of same values\n",
        "df.groupby(\"Age\").Age.count().sort_values(ascending=False)\n",
        "#or\n",
        "df[\"Age\"].astype(\"category\").value_counts()"
      ],
      "metadata": {
        "id": "6wRVG37gO41f"
      },
      "execution_count": null,
      "outputs": []
    },
    {
      "cell_type": "code",
      "source": [
        "#filling the missing values with most no of same values\n",
        "df.loc[:,\"Age\"].fillna(24,inplace=True)"
      ],
      "metadata": {
        "id": "Fh-T8HnPQZta"
      },
      "execution_count": 259,
      "outputs": []
    },
    {
      "cell_type": "code",
      "source": [
        "df.shape"
      ],
      "metadata": {
        "colab": {
          "base_uri": "https://localhost:8080/"
        },
        "id": "fh7Cq96lRD_8",
        "outputId": "c336e203-9fc3-4b51-cdba-9c2b8e6f90c0"
      },
      "execution_count": 260,
      "outputs": [
        {
          "output_type": "execute_result",
          "data": {
            "text/plain": [
              "(14008, 39)"
            ]
          },
          "metadata": {},
          "execution_count": 260
        }
      ]
    },
    {
      "cell_type": "code",
      "source": [
        "#saving good data for machine learning algorithm\n",
        "cleandata= df.to_csv(\"cleanndata.csv\")"
      ],
      "metadata": {
        "id": "537wOVot6d6e"
      },
      "execution_count": 215,
      "outputs": []
    },
    {
      "cell_type": "code",
      "source": [
        "len(df)/len(orgdata)*100"
      ],
      "metadata": {
        "colab": {
          "base_uri": "https://localhost:8080/"
        },
        "id": "k_iAcdzr6d-G",
        "outputId": "25332516-a3f6-433a-8484-00c3b8ac9974"
      },
      "execution_count": 261,
      "outputs": [
        {
          "output_type": "execute_result",
          "data": {
            "text/plain": [
              "99.40391711609425"
            ]
          },
          "metadata": {},
          "execution_count": 261
        }
      ]
    },
    {
      "cell_type": "code",
      "source": [
        ""
      ],
      "metadata": {
        "id": "_wNH5mN_6eBl"
      },
      "execution_count": null,
      "outputs": []
    }
  ]
}
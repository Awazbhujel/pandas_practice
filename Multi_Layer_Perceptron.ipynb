{
  "nbformat": 4,
  "nbformat_minor": 0,
  "metadata": {
    "colab": {
      "provenance": [],
      "authorship_tag": "ABX9TyM3AMWsMrfOKqXL1tiAscyJ",
      "include_colab_link": true
    },
    "kernelspec": {
      "name": "python3",
      "display_name": "Python 3"
    },
    "language_info": {
      "name": "python"
    }
  },
  "cells": [
    {
      "cell_type": "markdown",
      "metadata": {
        "id": "view-in-github",
        "colab_type": "text"
      },
      "source": [
        "<a href=\"https://colab.research.google.com/github/awazbhujel/pandas_practice/blob/main/Multi_Layer_Perceptron.ipynb\" target=\"_parent\"><img src=\"https://colab.research.google.com/assets/colab-badge.svg\" alt=\"Open In Colab\"/></a>"
      ]
    },
    {
      "cell_type": "markdown",
      "source": [
        "**Import Libraries**"
      ],
      "metadata": {
        "id": "Sv-ua4yUw2Y0"
      }
    },
    {
      "cell_type": "code",
      "execution_count": 49,
      "metadata": {
        "id": "juiHd4jrt4f0"
      },
      "outputs": [],
      "source": [
        "import pandas as pd\n",
        "import numpy as np\n",
        "import tensorflow as tf\n",
        "from tensorflow.keras.models import Sequential\n",
        "from tensorflow.keras.layers import Dense\n",
        "from sklearn.datasets import load_iris\n",
        "from sklearn.model_selection import train_test_split\n",
        "from sklearn.preprocessing import StandardScaler\n",
        "from sklearn.metrics import accuracy_score\n",
        "import matplotlib.pyplot as plt"
      ]
    },
    {
      "cell_type": "code",
      "source": [
        "# Load the dataset\n",
        "iris = load_iris()\n",
        "X, y = iris.data, iris.target"
      ],
      "metadata": {
        "id": "PUDlDBW5w5su"
      },
      "execution_count": 50,
      "outputs": []
    },
    {
      "cell_type": "code",
      "source": [
        "#split the dataset\n",
        "X_train,X_test,y_train,y_test = train_test_split(X,y,test_size=0.2,random_state=42)"
      ],
      "metadata": {
        "id": "z6giFwGRxLgA"
      },
      "execution_count": 51,
      "outputs": []
    },
    {
      "cell_type": "code",
      "source": [
        "#feature scaling\n",
        "scaler = StandardScaler()\n",
        "X_train=scaler.fit_transform(X_train)\n",
        "X_test=scaler.transform(X_test)"
      ],
      "metadata": {
        "id": "gWxgqIH8xLcc"
      },
      "execution_count": 52,
      "outputs": []
    },
    {
      "cell_type": "code",
      "source": [
        "# Convert labels to one-hot encoding\n",
        "y_train = tf.keras.utils.to_categorical(y_train, num_classes=3)\n",
        "y_test = tf.keras.utils.to_categorical(y_test, num_classes=3)"
      ],
      "metadata": {
        "id": "iO6eJ1uTxLaW"
      },
      "execution_count": 53,
      "outputs": []
    },
    {
      "cell_type": "markdown",
      "source": [
        "**Build the MLP Model**"
      ],
      "metadata": {
        "id": "Ug6xSl4iyEKc"
      }
    },
    {
      "cell_type": "code",
      "source": [
        "X_train.shape[1]"
      ],
      "metadata": {
        "colab": {
          "base_uri": "https://localhost:8080/"
        },
        "id": "d7NwHp-4zBaD",
        "outputId": "f1d9cd80-a57f-44ac-dd81-277e44261029"
      },
      "execution_count": 54,
      "outputs": [
        {
          "output_type": "execute_result",
          "data": {
            "text/plain": [
              "4"
            ]
          },
          "metadata": {},
          "execution_count": 54
        }
      ]
    },
    {
      "cell_type": "code",
      "source": [
        "model = Sequential([\n",
        "    Dense(10,input_shape=(X_train.shape[1],),activation=\"relu\"),\n",
        "    Dense(5,activation=\"relu\"),\n",
        "    Dense(3,activation=\"relu\"),\n",
        "    Dense(3,activation=\"softmax\")\n",
        "])"
      ],
      "metadata": {
        "id": "NWIxgguUxLXw"
      },
      "execution_count": 55,
      "outputs": []
    },
    {
      "cell_type": "code",
      "source": [
        "#summary of the model\n",
        "model.summary()"
      ],
      "metadata": {
        "colab": {
          "base_uri": "https://localhost:8080/"
        },
        "id": "eNKjHhWGyo6E",
        "outputId": "a3ec4da4-7b39-43c6-da16-23e4898fcb8b"
      },
      "execution_count": 56,
      "outputs": [
        {
          "output_type": "stream",
          "name": "stdout",
          "text": [
            "Model: \"sequential_6\"\n",
            "_________________________________________________________________\n",
            " Layer (type)                Output Shape              Param #   \n",
            "=================================================================\n",
            " dense_23 (Dense)            (None, 10)                50        \n",
            "                                                                 \n",
            " dense_24 (Dense)            (None, 5)                 55        \n",
            "                                                                 \n",
            " dense_25 (Dense)            (None, 3)                 18        \n",
            "                                                                 \n",
            " dense_26 (Dense)            (None, 3)                 12        \n",
            "                                                                 \n",
            "=================================================================\n",
            "Total params: 135 (540.00 Byte)\n",
            "Trainable params: 135 (540.00 Byte)\n",
            "Non-trainable params: 0 (0.00 Byte)\n",
            "_________________________________________________________________\n"
          ]
        }
      ]
    },
    {
      "cell_type": "code",
      "source": [
        "#compile the model\n",
        "model.compile(optimizer=\"adam\",loss=\"categorical_crossentropy\",metrics=[\"accuracy\"])"
      ],
      "metadata": {
        "id": "JfGaN22SyjrO"
      },
      "execution_count": 57,
      "outputs": []
    },
    {
      "cell_type": "code",
      "source": [
        "#train the model\n",
        "history=model.fit(X_train,y_train,validation_split=0.2,epochs=20, batch_size=5, verbose=1)"
      ],
      "metadata": {
        "colab": {
          "base_uri": "https://localhost:8080/"
        },
        "id": "NdBHxxjMyjov",
        "outputId": "ae705c39-a357-4a04-a384-6f10a4e0539b"
      },
      "execution_count": 58,
      "outputs": [
        {
          "output_type": "stream",
          "name": "stdout",
          "text": [
            "Epoch 1/20\n",
            "20/20 [==============================] - 1s 14ms/step - loss: 1.0611 - accuracy: 0.6458 - val_loss: 0.9992 - val_accuracy: 0.7083\n",
            "Epoch 2/20\n",
            "20/20 [==============================] - 0s 4ms/step - loss: 1.0521 - accuracy: 0.6458 - val_loss: 0.9901 - val_accuracy: 0.6667\n",
            "Epoch 3/20\n",
            "20/20 [==============================] - 0s 5ms/step - loss: 1.0477 - accuracy: 0.5833 - val_loss: 0.9895 - val_accuracy: 0.5833\n",
            "Epoch 4/20\n",
            "20/20 [==============================] - 0s 4ms/step - loss: 1.0378 - accuracy: 0.4062 - val_loss: 0.9773 - val_accuracy: 0.5833\n",
            "Epoch 5/20\n",
            "20/20 [==============================] - 0s 4ms/step - loss: 1.0301 - accuracy: 0.4271 - val_loss: 0.9655 - val_accuracy: 0.5833\n",
            "Epoch 6/20\n",
            "20/20 [==============================] - 0s 5ms/step - loss: 1.0226 - accuracy: 0.4271 - val_loss: 0.9547 - val_accuracy: 0.5833\n",
            "Epoch 7/20\n",
            "20/20 [==============================] - 0s 4ms/step - loss: 1.0141 - accuracy: 0.4271 - val_loss: 0.9339 - val_accuracy: 0.5833\n",
            "Epoch 8/20\n",
            "20/20 [==============================] - 0s 5ms/step - loss: 1.0043 - accuracy: 0.4375 - val_loss: 0.9224 - val_accuracy: 0.5833\n",
            "Epoch 9/20\n",
            "20/20 [==============================] - 0s 3ms/step - loss: 0.9947 - accuracy: 0.4375 - val_loss: 0.8990 - val_accuracy: 0.5833\n",
            "Epoch 10/20\n",
            "20/20 [==============================] - 0s 3ms/step - loss: 0.9850 - accuracy: 0.4375 - val_loss: 0.8836 - val_accuracy: 0.5833\n",
            "Epoch 11/20\n",
            "20/20 [==============================] - 0s 4ms/step - loss: 0.9754 - accuracy: 0.4375 - val_loss: 0.8699 - val_accuracy: 0.5833\n",
            "Epoch 12/20\n",
            "20/20 [==============================] - 0s 4ms/step - loss: 0.9655 - accuracy: 0.4375 - val_loss: 0.8491 - val_accuracy: 0.5833\n",
            "Epoch 13/20\n",
            "20/20 [==============================] - 0s 4ms/step - loss: 0.9545 - accuracy: 0.4375 - val_loss: 0.8341 - val_accuracy: 0.5833\n",
            "Epoch 14/20\n",
            "20/20 [==============================] - 0s 5ms/step - loss: 0.9449 - accuracy: 0.4375 - val_loss: 0.8193 - val_accuracy: 0.5833\n",
            "Epoch 15/20\n",
            "20/20 [==============================] - 0s 4ms/step - loss: 0.9347 - accuracy: 0.4479 - val_loss: 0.8056 - val_accuracy: 0.5833\n",
            "Epoch 16/20\n",
            "20/20 [==============================] - 0s 4ms/step - loss: 0.9256 - accuracy: 0.4479 - val_loss: 0.7954 - val_accuracy: 0.5833\n",
            "Epoch 17/20\n",
            "20/20 [==============================] - 0s 6ms/step - loss: 0.9179 - accuracy: 0.4479 - val_loss: 0.7886 - val_accuracy: 0.5833\n",
            "Epoch 18/20\n",
            "20/20 [==============================] - 0s 5ms/step - loss: 0.9075 - accuracy: 0.4583 - val_loss: 0.7730 - val_accuracy: 0.5833\n",
            "Epoch 19/20\n",
            "20/20 [==============================] - 0s 3ms/step - loss: 0.8990 - accuracy: 0.4583 - val_loss: 0.7602 - val_accuracy: 0.5833\n",
            "Epoch 20/20\n",
            "20/20 [==============================] - 0s 3ms/step - loss: 0.8895 - accuracy: 0.4583 - val_loss: 0.7569 - val_accuracy: 0.5833\n"
          ]
        }
      ]
    },
    {
      "cell_type": "code",
      "source": [
        "#plot the accuracy and the loss\n",
        "plt.figure(figsize=(12,4))\n",
        "# Plot training & validation accuracy values\n",
        "plt.subplot(1,2,1)\n",
        "plt.plot(history.history['accuracy'])\n",
        "plt.plot(history.history['val_accuracy'])\n",
        "plt.title(\"Model Accuracy\")\n",
        "plt.xlabel(\"epochs\")\n",
        "plt.ylabel(\"accuracy\")\n",
        "plt.legend([\"Train\",\"validation\"],loc=\"upper left\")\n",
        "\n",
        "\n",
        "# Plot training & validation loss values\n",
        "plt.subplot(1,2,2)\n",
        "plt.plot(history.history[\"loss\"])\n",
        "plt.plot(history.history[\"val_loss\"])\n",
        "plt.title(\"Model Loss\")\n",
        "plt.xlabel(\"epoochs\")\n",
        "plt.ylabel(\"loss\")\n",
        "plt.legend([\"Train\",\"validation\"],loc=\"upper right\")\n",
        "\n",
        "plt.show()"
      ],
      "metadata": {
        "colab": {
          "base_uri": "https://localhost:8080/",
          "height": 398
        },
        "id": "jeNvM4vByjmX",
        "outputId": "ab695370-37e5-477a-86af-f8ff83bff735"
      },
      "execution_count": 59,
      "outputs": [
        {
          "output_type": "display_data",
          "data": {
            "text/plain": [
              "<Figure size 1200x400 with 2 Axes>"
            ],
            "image/png": "[encoded data removed]"
          },
          "metadata": {}
        }
      ]
    },
    {
      "cell_type": "code",
      "source": [
        "# Evaluate the model\n",
        "loss, accuracy = model.evaluate(X_test, y_test, verbose=0)\n",
        "print(f\"Test Accuracy: {accuracy * 100:.2f}%\")"
      ],
      "metadata": {
        "colab": {
          "base_uri": "https://localhost:8080/"
        },
        "id": "KQ_z-TN0yjgU",
        "outputId": "0de070de-73e7-4a70-c2ea-cebd49d4cb4c"
      },
      "execution_count": 60,
      "outputs": [
        {
          "output_type": "stream",
          "name": "stdout",
          "text": [
            "Test Accuracy: 46.67%\n"
          ]
        }
      ]
    },
    {
      "cell_type": "code",
      "source": [
        "#Predict and compute accuracy score\n",
        "y_pred = np.argmax(model.predict(X_test), axis=-1)\n",
        "y_true = np.argmax(y_test, axis=-1)\n",
        "accuracy = accuracy_score(y_true, y_pred)\n",
        "print(f\"Accuracy Score: {accuracy * 100:.2f}%\")"
      ],
      "metadata": {
        "colab": {
          "base_uri": "https://localhost:8080/"
        },
        "id": "JaZOElbPyjeH",
        "outputId": "d7cc4785-87d6-4c25-8a61-8cb251fb28f3"
      },
      "execution_count": 61,
      "outputs": [
        {
          "output_type": "stream",
          "name": "stdout",
          "text": [
            "1/1 [==============================] - 0s 102ms/step\n",
            "Accuracy Score: 46.67%\n"
          ]
        }
      ]
    }
  ]
}
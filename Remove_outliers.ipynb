{
  "nbformat": 4,
  "nbformat_minor": 0,
  "metadata": {
    "colab": {
      "name": "Remove_outliers.ipynb",
      "provenance": [],
      "authorship_tag": "ABX9TyNulQ4yqVllJwqtlqSdFSlM"
    },
    "kernelspec": {
      "name": "python3",
      "display_name": "Python 3"
    },
    "language_info": {
      "name": "python"
    }
  },
  "cells": [
    {
      "cell_type": "code",
      "execution_count": 1,
      "metadata": {
        "id": "u4Fi-p5uHtKo"
      },
      "outputs": [],
      "source": [
        "import pandas as pd\n",
        "import matplotlib.pyplot as plt\n",
        "import seaborn as sns\n",
        "import plotly.express as px\n",
        "import plotly.graph_objects as go"
      ]
    },
    {
      "cell_type": "code",
      "source": [
        "df = pd.read_csv(\"/content/smart watch.txt\")"
      ],
      "metadata": {
        "id": "VDnTRxnmIUSC"
      },
      "execution_count": 4,
      "outputs": []
    },
    {
      "cell_type": "code",
      "source": [
        "df.info()"
      ],
      "metadata": {
        "id": "HqI1tB9EIUWt",
        "colab": {
          "base_uri": "https://localhost:8080/"
        },
        "outputId": "f29f80b1-d11e-44ff-e83e-73d6a43c71f1"
      },
      "execution_count": null,
      "outputs": [
        {
          "output_type": "stream",
          "name": "stdout",
          "text": [
            "<class 'pandas.core.frame.DataFrame'>\n",
            "RangeIndex: 940 entries, 0 to 939\n",
            "Data columns (total 15 columns):\n",
            " #   Column                    Non-Null Count  Dtype  \n",
            "---  ------                    --------------  -----  \n",
            " 0   Id                        940 non-null    int64  \n",
            " 1   ActivityDate              940 non-null    object \n",
            " 2   TotalSteps                940 non-null    int64  \n",
            " 3   TotalDistance             940 non-null    float64\n",
            " 4   TrackerDistance           940 non-null    float64\n",
            " 5   LoggedActivitiesDistance  940 non-null    float64\n",
            " 6   VeryActiveDistance        940 non-null    float64\n",
            " 7   ModeratelyActiveDistance  940 non-null    float64\n",
            " 8   LightActiveDistance       940 non-null    float64\n",
            " 9   SedentaryActiveDistance   940 non-null    float64\n",
            " 10  VeryActiveMinutes         940 non-null    int64  \n",
            " 11  FairlyActiveMinutes       940 non-null    int64  \n",
            " 12  LightlyActiveMinutes      940 non-null    int64  \n",
            " 13  SedentaryMinutes          940 non-null    int64  \n",
            " 14  Calories                  940 non-null    int64  \n",
            "dtypes: float64(7), int64(7), object(1)\n",
            "memory usage: 110.3+ KB\n"
          ]
        }
      ]
    },
    {
      "cell_type": "code",
      "source": [
        "df[\"TotalSteps\"].describe()"
      ],
      "metadata": {
        "id": "GrkWVABDIUaO",
        "colab": {
          "base_uri": "https://localhost:8080/"
        },
        "outputId": "3ecf9e37-0cb4-4c01-a053-d8b166f24b54"
      },
      "execution_count": null,
      "outputs": [
        {
          "output_type": "execute_result",
          "data": {
            "text/plain": [
              "count      940.000000\n",
              "mean      7637.910638\n",
              "std       5087.150742\n",
              "min          0.000000\n",
              "25%       3789.750000\n",
              "50%       7405.500000\n",
              "75%      10727.000000\n",
              "max      36019.000000\n",
              "Name: TotalSteps, dtype: float64"
            ]
          },
          "metadata": {},
          "execution_count": 6
        }
      ]
    },
    {
      "cell_type": "markdown",
      "source": [
        "Treating the outlayers with percentile"
      ],
      "metadata": {
        "id": "IKltDB4rdTqY"
      }
    },
    {
      "cell_type": "code",
      "source": [
        "sns.histplot(df.TotalSteps,kde=True)"
      ],
      "metadata": {
        "id": "swv9alXSIUd0",
        "colab": {
          "base_uri": "https://localhost:8080/",
          "height": 296
        },
        "outputId": "8f6a5862-e865-4a39-e3b1-e6f9c42e954a"
      },
      "execution_count": null,
      "outputs": [
        {
          "output_type": "execute_result",
          "data": {
            "text/plain": [
              "<matplotlib.axes._subplots.AxesSubplot at 0x7f488a038650>"
            ]
          },
          "metadata": {},
          "execution_count": 7
        },
        {
          "output_type": "display_data",
          "data": {
            "text/plain": [
              "<Figure size 432x288 with 1 Axes>"
            ],
            "image/png": "[encoded data removed]"
          },
          "metadata": {
            "needs_background": "light"
          }
        }
      ]
    },
    {
      "cell_type": "code",
      "source": [
        "sns.histplot(df.TotalDistance,kde=True)\n",
        "plt.yscale(\"log\")"
      ],
      "metadata": {
        "id": "qBuNGOuuIUhN",
        "colab": {
          "base_uri": "https://localhost:8080/",
          "height": 279
        },
        "outputId": "c2fcfaa5-d5dc-4c73-c765-2ead0d48e93f"
      },
      "execution_count": null,
      "outputs": [
        {
          "output_type": "display_data",
          "data": {
            "text/plain": [
              "<Figure size 432x288 with 1 Axes>"
            ],
            "image/png": "[encoded data removed]"
          },
          "metadata": {
            "needs_background": "light"
          }
        }
      ]
    },
    {
      "cell_type": "code",
      "source": [
        "sns.histplot(df.Calories,kde=True)"
      ],
      "metadata": {
        "id": "6WzpkPfIIUmV",
        "colab": {
          "base_uri": "https://localhost:8080/",
          "height": 296
        },
        "outputId": "6591c59d-38a7-4a9d-9df1-6a627f0e436f"
      },
      "execution_count": null,
      "outputs": [
        {
          "output_type": "execute_result",
          "data": {
            "text/plain": [
              "<matplotlib.axes._subplots.AxesSubplot at 0x7f48898fe390>"
            ]
          },
          "metadata": {},
          "execution_count": 9
        },
        {
          "output_type": "display_data",
          "data": {
            "text/plain": [
              "<Figure size 432x288 with 1 Axes>"
            ],
            "image/png": "[encoded data removed]"
          },
          "metadata": {
            "needs_background": "light"
          }
        }
      ]
    },
    {
      "cell_type": "markdown",
      "source": [
        "#Treating the outliers using percentile"
      ],
      "metadata": {
        "id": "W_d8VPcPeObS"
      }
    },
    {
      "cell_type": "code",
      "source": [
        "df.shape"
      ],
      "metadata": {
        "colab": {
          "base_uri": "https://localhost:8080/"
        },
        "id": "AbWCp2AfgW1m",
        "outputId": "7168c4a5-d481-4d6d-a7cb-03bc0bbb9ae1"
      },
      "execution_count": null,
      "outputs": [
        {
          "output_type": "execute_result",
          "data": {
            "text/plain": [
              "(940, 15)"
            ]
          },
          "metadata": {},
          "execution_count": 10
        }
      ]
    },
    {
      "cell_type": "code",
      "source": [
        "df.Calories.describe()"
      ],
      "metadata": {
        "id": "fRJrDEvYIUqV",
        "colab": {
          "base_uri": "https://localhost:8080/"
        },
        "outputId": "efd7797a-c98d-4f1b-c2cd-2e73eccad92c"
      },
      "execution_count": null,
      "outputs": [
        {
          "output_type": "execute_result",
          "data": {
            "text/plain": [
              "count     940.000000\n",
              "mean     2303.609574\n",
              "std       718.166862\n",
              "min         0.000000\n",
              "25%      1828.500000\n",
              "50%      2134.000000\n",
              "75%      2793.250000\n",
              "max      4900.000000\n",
              "Name: Calories, dtype: float64"
            ]
          },
          "metadata": {},
          "execution_count": 11
        }
      ]
    },
    {
      "cell_type": "code",
      "source": [
        "lower_limit,upper_limit = df.Calories.quantile([0.001,0.009])\n",
        "lower_limit,upper_limit"
      ],
      "metadata": {
        "colab": {
          "base_uri": "https://localhost:8080/"
        },
        "id": "MzTuC7kpeNBA",
        "outputId": "581b350b-bd41-4e07-c0f8-c74656d83d38"
      },
      "execution_count": null,
      "outputs": [
        {
          "output_type": "execute_result",
          "data": {
            "text/plain": [
              "(0.0, 521.1619999999997)"
            ]
          },
          "metadata": {},
          "execution_count": 12
        }
      ]
    },
    {
      "cell_type": "code",
      "source": [
        "#outlayers\n",
        "outlayer = df[(df.Calories>upper_limit) | (df.Calories<lower_limit)]\n",
        "outlayer.sample(10)"
      ],
      "metadata": {
        "colab": {
          "base_uri": "https://localhost:8080/",
          "height": 427
        },
        "id": "SGocSChKeNFI",
        "outputId": "06a8b3b6-c903-4be0-fd2f-4ea689e60a1f"
      },
      "execution_count": null,
      "outputs": [
        {
          "output_type": "execute_result",
          "data": {
            "text/plain": [
              "             Id ActivityDate  TotalSteps  TotalDistance  TrackerDistance  \\\n",
              "237  2320127002     5/3/2016        7443           5.02             5.02   \n",
              "682  6962181067    4/14/2016        1551           1.03             1.03   \n",
              "428  4388161847    4/28/2016       10074           7.75             7.75   \n",
              "901  8792009665     5/3/2016        2421           1.55             1.55   \n",
              "701  6962181067     5/3/2016       12109           8.12             8.12   \n",
              "253  2347167796    4/18/2016        8247           5.45             5.45   \n",
              "895  8792009665    4/27/2016        1758           1.13             1.13   \n",
              "136  1927972279    4/25/2016         152           0.11             0.11   \n",
              "287  2873212765     5/4/2016        8278           5.56             5.56   \n",
              "10   1503960366    4/22/2016       12764           8.13             8.13   \n",
              "\n",
              "     LoggedActivitiesDistance  VeryActiveDistance  ModeratelyActiveDistance  \\\n",
              "237                       0.0                1.49                      0.37   \n",
              "682                       0.0                0.00                      0.00   \n",
              "428                       0.0                1.29                      0.43   \n",
              "901                       0.0                0.00                      0.00   \n",
              "701                       0.0                1.74                      2.04   \n",
              "253                       0.0                0.79                      0.86   \n",
              "895                       0.0                0.00                      0.00   \n",
              "136                       0.0                0.00                      0.00   \n",
              "287                       0.0                0.00                      0.00   \n",
              "10                        0.0                4.76                      1.12   \n",
              "\n",
              "     LightActiveDistance  SedentaryActiveDistance  VeryActiveMinutes  \\\n",
              "237                 3.16                      0.0                 20   \n",
              "682                 1.03                      0.0                  0   \n",
              "428                 6.03                      0.0                 19   \n",
              "901                 1.55                      0.0                  0   \n",
              "701                 4.33                      0.0                 21   \n",
              "253                 3.79                      0.0                 11   \n",
              "895                 1.13                      0.0                  0   \n",
              "136                 0.11                      0.0                  0   \n",
              "287                 5.56                      0.0                  0   \n",
              "10                  2.24                      0.0                 66   \n",
              "\n",
              "     FairlyActiveMinutes  LightlyActiveMinutes  SedentaryMinutes  Calories  \n",
              "237                   10                   206              1204      1878  \n",
              "682                    0                    86               862      1466  \n",
              "428                    9                   234               878      2969  \n",
              "901                    0                   156               739      2297  \n",
              "701                   36                   267               654      2072  \n",
              "253                   16                   206               678      1944  \n",
              "895                    0                   112               900      2067  \n",
              "136                    0                    12              1303      2100  \n",
              "287                    0                   420              1020      2015  \n",
              "10                    27                   130              1217      1827  "
            ],
            "text/html": [
              "\n",
              "  <div id=\"df-cbce0aa6-bf87-4351-a68c-d5f28ef48856\">\n",
              "    <div class=\"colab-df-container\">\n",
              "      <div>\n",
              "<style scoped>\n",
              "    .dataframe tbody tr th:only-of-type {\n",
              "        vertical-align: middle;\n",
              "    }\n",
              "\n",
              "    .dataframe tbody tr th {\n",
              "        vertical-align: top;\n",
              "    }\n",
              "\n",
              "    .dataframe thead th {\n",
              "        text-align: right;\n",
              "    }\n",
              "</style>\n",
              "<table border=\"1\" class=\"dataframe\">\n",
              "  <thead>\n",
              "    <tr style=\"text-align: right;\">\n",
              "      <th></th>\n",
              "      <th>Id</th>\n",
              "      <th>ActivityDate</th>\n",
              "      <th>TotalSteps</th>\n",
              "      <th>TotalDistance</th>\n",
              "      <th>TrackerDistance</th>\n",
              "      <th>LoggedActivitiesDistance</th>\n",
              "      <th>VeryActiveDistance</th>\n",
              "      <th>ModeratelyActiveDistance</th>\n",
              "      <th>LightActiveDistance</th>\n",
              "      <th>SedentaryActiveDistance</th>\n",
              "      <th>VeryActiveMinutes</th>\n",
              "      <th>FairlyActiveMinutes</th>\n",
              "      <th>LightlyActiveMinutes</th>\n",
              "      <th>SedentaryMinutes</th>\n",
              "      <th>Calories</th>\n",
              "    </tr>\n",
              "  </thead>\n",
              "  <tbody>\n",
              "    <tr>\n",
              "      <th>237</th>\n",
              "      <td>2320127002</td>\n",
              "      <td>5/3/2016</td>\n",
              "      <td>7443</td>\n",
              "      <td>5.02</td>\n",
              "      <td>5.02</td>\n",
              "      <td>0.0</td>\n",
              "      <td>1.49</td>\n",
              "      <td>0.37</td>\n",
              "      <td>3.16</td>\n",
              "      <td>0.0</td>\n",
              "      <td>20</td>\n",
              "      <td>10</td>\n",
              "      <td>206</td>\n",
              "      <td>1204</td>\n",
              "      <td>1878</td>\n",
              "    </tr>\n",
              "    <tr>\n",
              "      <th>682</th>\n",
              "      <td>6962181067</td>\n",
              "      <td>4/14/2016</td>\n",
              "      <td>1551</td>\n",
              "      <td>1.03</td>\n",
              "      <td>1.03</td>\n",
              "      <td>0.0</td>\n",
              "      <td>0.00</td>\n",
              "      <td>0.00</td>\n",
              "      <td>1.03</td>\n",
              "      <td>0.0</td>\n",
              "      <td>0</td>\n",
              "      <td>0</td>\n",
              "      <td>86</td>\n",
              "      <td>862</td>\n",
              "      <td>1466</td>\n",
              "    </tr>\n",
              "    <tr>\n",
              "      <th>428</th>\n",
              "      <td>4388161847</td>\n",
              "      <td>4/28/2016</td>\n",
              "      <td>10074</td>\n",
              "      <td>7.75</td>\n",
              "      <td>7.75</td>\n",
              "      <td>0.0</td>\n",
              "      <td>1.29</td>\n",
              "      <td>0.43</td>\n",
              "      <td>6.03</td>\n",
              "      <td>0.0</td>\n",
              "      <td>19</td>\n",
              "      <td>9</td>\n",
              "      <td>234</td>\n",
              "      <td>878</td>\n",
              "      <td>2969</td>\n",
              "    </tr>\n",
              "    <tr>\n",
              "      <th>901</th>\n",
              "      <td>8792009665</td>\n",
              "      <td>5/3/2016</td>\n",
              "      <td>2421</td>\n",
              "      <td>1.55</td>\n",
              "      <td>1.55</td>\n",
              "      <td>0.0</td>\n",
              "      <td>0.00</td>\n",
              "      <td>0.00</td>\n",
              "      <td>1.55</td>\n",
              "      <td>0.0</td>\n",
              "      <td>0</td>\n",
              "      <td>0</td>\n",
              "      <td>156</td>\n",
              "      <td>739</td>\n",
              "      <td>2297</td>\n",
              "    </tr>\n",
              "    <tr>\n",
              "      <th>701</th>\n",
              "      <td>6962181067</td>\n",
              "      <td>5/3/2016</td>\n",
              "      <td>12109</td>\n",
              "      <td>8.12</td>\n",
              "      <td>8.12</td>\n",
              "      <td>0.0</td>\n",
              "      <td>1.74</td>\n",
              "      <td>2.04</td>\n",
              "      <td>4.33</td>\n",
              "      <td>0.0</td>\n",
              "      <td>21</td>\n",
              "      <td>36</td>\n",
              "      <td>267</td>\n",
              "      <td>654</td>\n",
              "      <td>2072</td>\n",
              "    </tr>\n",
              "    <tr>\n",
              "      <th>253</th>\n",
              "      <td>2347167796</td>\n",
              "      <td>4/18/2016</td>\n",
              "      <td>8247</td>\n",
              "      <td>5.45</td>\n",
              "      <td>5.45</td>\n",
              "      <td>0.0</td>\n",
              "      <td>0.79</td>\n",
              "      <td>0.86</td>\n",
              "      <td>3.79</td>\n",
              "      <td>0.0</td>\n",
              "      <td>11</td>\n",
              "      <td>16</td>\n",
              "      <td>206</td>\n",
              "      <td>678</td>\n",
              "      <td>1944</td>\n",
              "    </tr>\n",
              "    <tr>\n",
              "      <th>895</th>\n",
              "      <td>8792009665</td>\n",
              "      <td>4/27/2016</td>\n",
              "      <td>1758</td>\n",
              "      <td>1.13</td>\n",
              "      <td>1.13</td>\n",
              "      <td>0.0</td>\n",
              "      <td>0.00</td>\n",
              "      <td>0.00</td>\n",
              "      <td>1.13</td>\n",
              "      <td>0.0</td>\n",
              "      <td>0</td>\n",
              "      <td>0</td>\n",
              "      <td>112</td>\n",
              "      <td>900</td>\n",
              "      <td>2067</td>\n",
              "    </tr>\n",
              "    <tr>\n",
              "      <th>136</th>\n",
              "      <td>1927972279</td>\n",
              "      <td>4/25/2016</td>\n",
              "      <td>152</td>\n",
              "      <td>0.11</td>\n",
              "      <td>0.11</td>\n",
              "      <td>0.0</td>\n",
              "      <td>0.00</td>\n",
              "      <td>0.00</td>\n",
              "      <td>0.11</td>\n",
              "      <td>0.0</td>\n",
              "      <td>0</td>\n",
              "      <td>0</td>\n",
              "      <td>12</td>\n",
              "      <td>1303</td>\n",
              "      <td>2100</td>\n",
              "    </tr>\n",
              "    <tr>\n",
              "      <th>287</th>\n",
              "      <td>2873212765</td>\n",
              "      <td>5/4/2016</td>\n",
              "      <td>8278</td>\n",
              "      <td>5.56</td>\n",
              "      <td>5.56</td>\n",
              "      <td>0.0</td>\n",
              "      <td>0.00</td>\n",
              "      <td>0.00</td>\n",
              "      <td>5.56</td>\n",
              "      <td>0.0</td>\n",
              "      <td>0</td>\n",
              "      <td>0</td>\n",
              "      <td>420</td>\n",
              "      <td>1020</td>\n",
              "      <td>2015</td>\n",
              "    </tr>\n",
              "    <tr>\n",
              "      <th>10</th>\n",
              "      <td>1503960366</td>\n",
              "      <td>4/22/2016</td>\n",
              "      <td>12764</td>\n",
              "      <td>8.13</td>\n",
              "      <td>8.13</td>\n",
              "      <td>0.0</td>\n",
              "      <td>4.76</td>\n",
              "      <td>1.12</td>\n",
              "      <td>2.24</td>\n",
              "      <td>0.0</td>\n",
              "      <td>66</td>\n",
              "      <td>27</td>\n",
              "      <td>130</td>\n",
              "      <td>1217</td>\n",
              "      <td>1827</td>\n",
              "    </tr>\n",
              "  </tbody>\n",
              "</table>\n",
              "</div>\n",
              "      <button class=\"colab-df-convert\" onclick=\"convertToInteractive('df-cbce0aa6-bf87-4351-a68c-d5f28ef48856')\"\n",
              "              title=\"Convert this dataframe to an interactive table.\"\n",
              "              style=\"display:none;\">\n",
              "        \n",
              "  <svg xmlns=\"http://www.w3.org/2000/svg\" height=\"24px\"viewBox=\"0 0 24 24\"\n",
              "       width=\"24px\">\n",
              "    <path d=\"M0 0h24v24H0V0z\" fill=\"none\"/>\n",
              "    <path d=\"M18.56 5.44l.94 2.06.94-2.06 2.06-.94-2.06-.94-.94-2.06-.94 2.06-2.06.94zm-11 1L8.5 8.5l.94-2.06 2.06-.94-2.06-.94L8.5 2.5l-.94 2.06-2.06.94zm10 10l.94 2.06.94-2.06 2.06-.94-2.06-.94-.94-2.06-.94 2.06-2.06.94z\"/><path d=\"M17.41 7.96l-1.37-1.37c-.4-.4-.92-.59-1.43-.59-.52 0-1.04.2-1.43.59L10.3 9.45l-7.72 7.72c-.78.78-.78 2.05 0 2.83L4 21.41c.39.39.9.59 1.41.59.51 0 1.02-.2 1.41-.59l7.78-7.78 2.81-2.81c.8-.78.8-2.07 0-2.86zM5.41 20L4 18.59l7.72-7.72 1.47 1.35L5.41 20z\"/>\n",
              "  </svg>\n",
              "      </button>\n",
              "      \n",
              "  <style>\n",
              "    .colab-df-container {\n",
              "      display:flex;\n",
              "      flex-wrap:wrap;\n",
              "      gap: 12px;\n",
              "    }\n",
              "\n",
              "    .colab-df-convert {\n",
              "      background-color: #E8F0FE;\n",
              "      border: none;\n",
              "      border-radius: 50%;\n",
              "      cursor: pointer;\n",
              "      display: none;\n",
              "      fill: #1967D2;\n",
              "      height: 32px;\n",
              "      padding: 0 0 0 0;\n",
              "      width: 32px;\n",
              "    }\n",
              "\n",
              "    .colab-df-convert:hover {\n",
              "      background-color: #E2EBFA;\n",
              "      box-shadow: 0px 1px 2px rgba(60, 64, 67, 0.3), 0px 1px 3px 1px rgba(60, 64, 67, 0.15);\n",
              "      fill: #174EA6;\n",
              "    }\n",
              "\n",
              "    [theme=dark] .colab-df-convert {\n",
              "      background-color: #3B4455;\n",
              "      fill: #D2E3FC;\n",
              "    }\n",
              "\n",
              "    [theme=dark] .colab-df-convert:hover {\n",
              "      background-color: #434B5C;\n",
              "      box-shadow: 0px 1px 3px 1px rgba(0, 0, 0, 0.15);\n",
              "      filter: drop-shadow(0px 1px 2px rgba(0, 0, 0, 0.3));\n",
              "      fill: #FFFFFF;\n",
              "    }\n",
              "  </style>\n",
              "\n",
              "      <script>\n",
              "        const buttonEl =\n",
              "          document.querySelector('#df-cbce0aa6-bf87-4351-a68c-d5f28ef48856 button.colab-df-convert');\n",
              "        buttonEl.style.display =\n",
              "          google.colab.kernel.accessAllowed ? 'block' : 'none';\n",
              "\n",
              "        async function convertToInteractive(key) {\n",
              "          const element = document.querySelector('#df-cbce0aa6-bf87-4351-a68c-d5f28ef48856');\n",
              "          const dataTable =\n",
              "            await google.colab.kernel.invokeFunction('convertToInteractive',\n",
              "                                                     [key], {});\n",
              "          if (!dataTable) return;\n",
              "\n",
              "          const docLinkHtml = 'Like what you see? Visit the ' +\n",
              "            '<a target=\"_blank\" href=https://colab.research.google.com/notebooks/data_table.ipynb>data table notebook</a>'\n",
              "            + ' to learn more about interactive tables.';\n",
              "          element.innerHTML = '';\n",
              "          dataTable['output_type'] = 'display_data';\n",
              "          await google.colab.output.renderOutput(dataTable, element);\n",
              "          const docLink = document.createElement('div');\n",
              "          docLink.innerHTML = docLinkHtml;\n",
              "          element.appendChild(docLink);\n",
              "        }\n",
              "      </script>\n",
              "    </div>\n",
              "  </div>\n",
              "  "
            ]
          },
          "metadata": {},
          "execution_count": 13
        }
      ]
    },
    {
      "cell_type": "code",
      "source": [
        "df2 = df[(df.Calories<upper_limit) & (df.Calories>lower_limit)]\n",
        "df2.shape"
      ],
      "metadata": {
        "colab": {
          "base_uri": "https://localhost:8080/"
        },
        "id": "OtGeJeSfeNIl",
        "outputId": "af12f7fb-a7c2-4700-8f80-25ad65ca815d"
      },
      "execution_count": null,
      "outputs": [
        {
          "output_type": "execute_result",
          "data": {
            "text/plain": [
              "(5, 15)"
            ]
          },
          "metadata": {},
          "execution_count": 14
        }
      ]
    },
    {
      "cell_type": "code",
      "source": [
        "df.shape[0]-df2.shape[0]"
      ],
      "metadata": {
        "colab": {
          "base_uri": "https://localhost:8080/"
        },
        "id": "IeBE7iNueNMj",
        "outputId": "0b3fc8af-efc8-4588-9930-83b4c5389466"
      },
      "execution_count": null,
      "outputs": [
        {
          "output_type": "execute_result",
          "data": {
            "text/plain": [
              "935"
            ]
          },
          "metadata": {},
          "execution_count": 15
        }
      ]
    },
    {
      "cell_type": "markdown",
      "source": [
        "LoL removed entire data set haha\n",
        "\n",
        "\n"
      ],
      "metadata": {
        "id": "-C7fpHXrjJ1E"
      }
    },
    {
      "cell_type": "code",
      "source": [
        "sns.histplot(df2.Calories,kde=True)"
      ],
      "metadata": {
        "colab": {
          "base_uri": "https://localhost:8080/",
          "height": 296
        },
        "id": "O13UNRFXhx6d",
        "outputId": "c9ae9d38-971c-440b-99a1-66ffc84bc98d"
      },
      "execution_count": null,
      "outputs": [
        {
          "output_type": "execute_result",
          "data": {
            "text/plain": [
              "<matplotlib.axes._subplots.AxesSubplot at 0x7f488a0c01d0>"
            ]
          },
          "metadata": {},
          "execution_count": 16
        },
        {
          "output_type": "display_data",
          "data": {
            "text/plain": [
              "<Figure size 432x288 with 1 Axes>"
            ],
            "image/png": "[encoded data removed]"
          },
          "metadata": {
            "needs_background": "light"
          }
        }
      ]
    },
    {
      "cell_type": "code",
      "source": [
        "sns.histplot(df.Calories,kde=True)"
      ],
      "metadata": {
        "colab": {
          "base_uri": "https://localhost:8080/",
          "height": 296
        },
        "id": "sOsQIRiHhx-g",
        "outputId": "4563d8f9-177d-482b-be95-b7af920c1c97"
      },
      "execution_count": null,
      "outputs": [
        {
          "output_type": "execute_result",
          "data": {
            "text/plain": [
              "<matplotlib.axes._subplots.AxesSubplot at 0x7f48896f0dd0>"
            ]
          },
          "metadata": {},
          "execution_count": 17
        },
        {
          "output_type": "display_data",
          "data": {
            "text/plain": [
              "<Figure size 432x288 with 1 Axes>"
            ],
            "image/png": "[encoded data removed]"
          },
          "metadata": {
            "needs_background": "light"
          }
        }
      ]
    },
    {
      "cell_type": "markdown",
      "source": [
        "Removing outliers using 3standard deviation"
      ],
      "metadata": {
        "id": "NQpeKqW3jjWa"
      }
    },
    {
      "cell_type": "code",
      "source": [
        "max_limit = df.Calories.mean()+ 3*df.Calories.std()\n",
        "min_limit = df.Calories.mean()- 3*df.Calories.std()\n",
        "max_limit,min_limit"
      ],
      "metadata": {
        "colab": {
          "base_uri": "https://localhost:8080/"
        },
        "id": "HwtSGIl6hyHg",
        "outputId": "e0a95691-916a-47cc-eae2-fa0368808210"
      },
      "execution_count": null,
      "outputs": [
        {
          "output_type": "execute_result",
          "data": {
            "text/plain": [
              "(4458.110160870852, 149.1089880653176)"
            ]
          },
          "metadata": {},
          "execution_count": 19
        }
      ]
    },
    {
      "cell_type": "code",
      "source": [
        "outliers=df[(df.Calories>max_limit) | (df.Calories<min_limit)]\n",
        "outliers.shape"
      ],
      "metadata": {
        "colab": {
          "base_uri": "https://localhost:8080/"
        },
        "id": "CQXbJugUjSUm",
        "outputId": "e9154de9-3d83-4a54-9111-c2e33e9664df"
      },
      "execution_count": null,
      "outputs": [
        {
          "output_type": "execute_result",
          "data": {
            "text/plain": [
              "(12, 15)"
            ]
          },
          "metadata": {},
          "execution_count": 29
        }
      ]
    },
    {
      "cell_type": "code",
      "source": [
        "sns.histplot(outliers.Calories,kde=True)"
      ],
      "metadata": {
        "colab": {
          "base_uri": "https://localhost:8080/",
          "height": 296
        },
        "id": "1XnZyXeomU3j",
        "outputId": "392e0209-47c0-4cb6-c82d-267f2764d789"
      },
      "execution_count": null,
      "outputs": [
        {
          "output_type": "execute_result",
          "data": {
            "text/plain": [
              "<matplotlib.axes._subplots.AxesSubplot at 0x7f4887460a90>"
            ]
          },
          "metadata": {},
          "execution_count": 28
        },
        {
          "output_type": "display_data",
          "data": {
            "text/plain": [
              "<Figure size 432x288 with 1 Axes>"
            ],
            "image/png": "[encoded data removed]"
          },
          "metadata": {
            "needs_background": "light"
          }
        }
      ]
    },
    {
      "cell_type": "code",
      "source": [
        "#removing outlayers\n",
        "df3 = df[(df.Calories<max_limit) & (df.Calories>min_limit)]\n",
        "df3.shape"
      ],
      "metadata": {
        "colab": {
          "base_uri": "https://localhost:8080/"
        },
        "id": "4DuxK0JLjSYz",
        "outputId": "03e3755e-8b86-4ca0-ac13-8bda6f7914c9"
      },
      "execution_count": null,
      "outputs": [
        {
          "output_type": "execute_result",
          "data": {
            "text/plain": [
              "(928, 15)"
            ]
          },
          "metadata": {},
          "execution_count": 24
        }
      ]
    },
    {
      "cell_type": "code",
      "source": [
        "df.shape[0]-df3.shape[0]"
      ],
      "metadata": {
        "colab": {
          "base_uri": "https://localhost:8080/"
        },
        "id": "HIRM4Yu2jScg",
        "outputId": "73e83c43-6f4f-4326-a810-70a2c1e94e4f"
      },
      "execution_count": null,
      "outputs": [
        {
          "output_type": "execute_result",
          "data": {
            "text/plain": [
              "12"
            ]
          },
          "metadata": {},
          "execution_count": 25
        }
      ]
    },
    {
      "cell_type": "code",
      "source": [
        "sns.histplot(df3.Calories,kde=True)"
      ],
      "metadata": {
        "colab": {
          "base_uri": "https://localhost:8080/",
          "height": 296
        },
        "id": "nb5WXRsNjShx",
        "outputId": "636524df-9c14-4491-f0a1-163bddc9e27b"
      },
      "execution_count": null,
      "outputs": [
        {
          "output_type": "execute_result",
          "data": {
            "text/plain": [
              "<matplotlib.axes._subplots.AxesSubplot at 0x7f48875a7e90>"
            ]
          },
          "metadata": {},
          "execution_count": 26
        },
        {
          "output_type": "display_data",
          "data": {
            "text/plain": [
              "<Figure size 432x288 with 1 Axes>"
            ],
            "image/png": "[encoded data removed]"
          },
          "metadata": {
            "needs_background": "light"
          }
        }
      ]
    },
    {
      "cell_type": "code",
      "source": [
        "df[\"zscore\"]= (df.Calories-df.Calories.mean())/df.Calories.std()"
      ],
      "metadata": {
        "id": "DLG-d8ubmzxj"
      },
      "execution_count": null,
      "outputs": []
    },
    {
      "cell_type": "code",
      "source": [
        "df.head()"
      ],
      "metadata": {
        "colab": {
          "base_uri": "https://localhost:8080/",
          "height": 270
        },
        "id": "Js7aiNu6mz1k",
        "outputId": "48836714-e1d4-40d5-fa85-9377c60d18b5"
      },
      "execution_count": null,
      "outputs": [
        {
          "output_type": "execute_result",
          "data": {
            "text/plain": [
              "           Id ActivityDate  TotalSteps  TotalDistance  TrackerDistance  \\\n",
              "0  1503960366    4/12/2016       13162           8.50             8.50   \n",
              "1  1503960366    4/13/2016       10735           6.97             6.97   \n",
              "2  1503960366    4/14/2016       10460           6.74             6.74   \n",
              "3  1503960366    4/15/2016        9762           6.28             6.28   \n",
              "4  1503960366    4/16/2016       12669           8.16             8.16   \n",
              "\n",
              "   LoggedActivitiesDistance  VeryActiveDistance  ModeratelyActiveDistance  \\\n",
              "0                       0.0                1.88                      0.55   \n",
              "1                       0.0                1.57                      0.69   \n",
              "2                       0.0                2.44                      0.40   \n",
              "3                       0.0                2.14                      1.26   \n",
              "4                       0.0                2.71                      0.41   \n",
              "\n",
              "   LightActiveDistance  SedentaryActiveDistance  VeryActiveMinutes  \\\n",
              "0                 6.06                      0.0                 25   \n",
              "1                 4.71                      0.0                 21   \n",
              "2                 3.91                      0.0                 30   \n",
              "3                 2.83                      0.0                 29   \n",
              "4                 5.04                      0.0                 36   \n",
              "\n",
              "   FairlyActiveMinutes  LightlyActiveMinutes  SedentaryMinutes  Calories  \\\n",
              "0                   13                   328               728      1985   \n",
              "1                   19                   217               776      1797   \n",
              "2                   11                   181              1218      1776   \n",
              "3                   34                   209               726      1745   \n",
              "4                   10                   221               773      1863   \n",
              "\n",
              "     zscore  \n",
              "0 -0.443643  \n",
              "1 -0.705420  \n",
              "2 -0.734662  \n",
              "3 -0.777827  \n",
              "4 -0.613520  "
            ],
            "text/html": [
              "\n",
              "  <div id=\"df-ad31caaa-2082-4194-8164-5ff4d1910ea2\">\n",
              "    <div class=\"colab-df-container\">\n",
              "      <div>\n",
              "<style scoped>\n",
              "    .dataframe tbody tr th:only-of-type {\n",
              "        vertical-align: middle;\n",
              "    }\n",
              "\n",
              "    .dataframe tbody tr th {\n",
              "        vertical-align: top;\n",
              "    }\n",
              "\n",
              "    .dataframe thead th {\n",
              "        text-align: right;\n",
              "    }\n",
              "</style>\n",
              "<table border=\"1\" class=\"dataframe\">\n",
              "  <thead>\n",
              "    <tr style=\"text-align: right;\">\n",
              "      <th></th>\n",
              "      <th>Id</th>\n",
              "      <th>ActivityDate</th>\n",
              "      <th>TotalSteps</th>\n",
              "      <th>TotalDistance</th>\n",
              "      <th>TrackerDistance</th>\n",
              "      <th>LoggedActivitiesDistance</th>\n",
              "      <th>VeryActiveDistance</th>\n",
              "      <th>ModeratelyActiveDistance</th>\n",
              "      <th>LightActiveDistance</th>\n",
              "      <th>SedentaryActiveDistance</th>\n",
              "      <th>VeryActiveMinutes</th>\n",
              "      <th>FairlyActiveMinutes</th>\n",
              "      <th>LightlyActiveMinutes</th>\n",
              "      <th>SedentaryMinutes</th>\n",
              "      <th>Calories</th>\n",
              "      <th>zscore</th>\n",
              "    </tr>\n",
              "  </thead>\n",
              "  <tbody>\n",
              "    <tr>\n",
              "      <th>0</th>\n",
              "      <td>1503960366</td>\n",
              "      <td>4/12/2016</td>\n",
              "      <td>13162</td>\n",
              "      <td>8.50</td>\n",
              "      <td>8.50</td>\n",
              "      <td>0.0</td>\n",
              "      <td>1.88</td>\n",
              "      <td>0.55</td>\n",
              "      <td>6.06</td>\n",
              "      <td>0.0</td>\n",
              "      <td>25</td>\n",
              "      <td>13</td>\n",
              "      <td>328</td>\n",
              "      <td>728</td>\n",
              "      <td>1985</td>\n",
              "      <td>-0.443643</td>\n",
              "    </tr>\n",
              "    <tr>\n",
              "      <th>1</th>\n",
              "      <td>1503960366</td>\n",
              "      <td>4/13/2016</td>\n",
              "      <td>10735</td>\n",
              "      <td>6.97</td>\n",
              "      <td>6.97</td>\n",
              "      <td>0.0</td>\n",
              "      <td>1.57</td>\n",
              "      <td>0.69</td>\n",
              "      <td>4.71</td>\n",
              "      <td>0.0</td>\n",
              "      <td>21</td>\n",
              "      <td>19</td>\n",
              "      <td>217</td>\n",
              "      <td>776</td>\n",
              "      <td>1797</td>\n",
              "      <td>-0.705420</td>\n",
              "    </tr>\n",
              "    <tr>\n",
              "      <th>2</th>\n",
              "      <td>1503960366</td>\n",
              "      <td>4/14/2016</td>\n",
              "      <td>10460</td>\n",
              "      <td>6.74</td>\n",
              "      <td>6.74</td>\n",
              "      <td>0.0</td>\n",
              "      <td>2.44</td>\n",
              "      <td>0.40</td>\n",
              "      <td>3.91</td>\n",
              "      <td>0.0</td>\n",
              "      <td>30</td>\n",
              "      <td>11</td>\n",
              "      <td>181</td>\n",
              "      <td>1218</td>\n",
              "      <td>1776</td>\n",
              "      <td>-0.734662</td>\n",
              "    </tr>\n",
              "    <tr>\n",
              "      <th>3</th>\n",
              "      <td>1503960366</td>\n",
              "      <td>4/15/2016</td>\n",
              "      <td>9762</td>\n",
              "      <td>6.28</td>\n",
              "      <td>6.28</td>\n",
              "      <td>0.0</td>\n",
              "      <td>2.14</td>\n",
              "      <td>1.26</td>\n",
              "      <td>2.83</td>\n",
              "      <td>0.0</td>\n",
              "      <td>29</td>\n",
              "      <td>34</td>\n",
              "      <td>209</td>\n",
              "      <td>726</td>\n",
              "      <td>1745</td>\n",
              "      <td>-0.777827</td>\n",
              "    </tr>\n",
              "    <tr>\n",
              "      <th>4</th>\n",
              "      <td>1503960366</td>\n",
              "      <td>4/16/2016</td>\n",
              "      <td>12669</td>\n",
              "      <td>8.16</td>\n",
              "      <td>8.16</td>\n",
              "      <td>0.0</td>\n",
              "      <td>2.71</td>\n",
              "      <td>0.41</td>\n",
              "      <td>5.04</td>\n",
              "      <td>0.0</td>\n",
              "      <td>36</td>\n",
              "      <td>10</td>\n",
              "      <td>221</td>\n",
              "      <td>773</td>\n",
              "      <td>1863</td>\n",
              "      <td>-0.613520</td>\n",
              "    </tr>\n",
              "  </tbody>\n",
              "</table>\n",
              "</div>\n",
              "      <button class=\"colab-df-convert\" onclick=\"convertToInteractive('df-ad31caaa-2082-4194-8164-5ff4d1910ea2')\"\n",
              "              title=\"Convert this dataframe to an interactive table.\"\n",
              "              style=\"display:none;\">\n",
              "        \n",
              "  <svg xmlns=\"http://www.w3.org/2000/svg\" height=\"24px\"viewBox=\"0 0 24 24\"\n",
              "       width=\"24px\">\n",
              "    <path d=\"M0 0h24v24H0V0z\" fill=\"none\"/>\n",
              "    <path d=\"M18.56 5.44l.94 2.06.94-2.06 2.06-.94-2.06-.94-.94-2.06-.94 2.06-2.06.94zm-11 1L8.5 8.5l.94-2.06 2.06-.94-2.06-.94L8.5 2.5l-.94 2.06-2.06.94zm10 10l.94 2.06.94-2.06 2.06-.94-2.06-.94-.94-2.06-.94 2.06-2.06.94z\"/><path d=\"M17.41 7.96l-1.37-1.37c-.4-.4-.92-.59-1.43-.59-.52 0-1.04.2-1.43.59L10.3 9.45l-7.72 7.72c-.78.78-.78 2.05 0 2.83L4 21.41c.39.39.9.59 1.41.59.51 0 1.02-.2 1.41-.59l7.78-7.78 2.81-2.81c.8-.78.8-2.07 0-2.86zM5.41 20L4 18.59l7.72-7.72 1.47 1.35L5.41 20z\"/>\n",
              "  </svg>\n",
              "      </button>\n",
              "      \n",
              "  <style>\n",
              "    .colab-df-container {\n",
              "      display:flex;\n",
              "      flex-wrap:wrap;\n",
              "      gap: 12px;\n",
              "    }\n",
              "\n",
              "    .colab-df-convert {\n",
              "      background-color: #E8F0FE;\n",
              "      border: none;\n",
              "      border-radius: 50%;\n",
              "      cursor: pointer;\n",
              "      display: none;\n",
              "      fill: #1967D2;\n",
              "      height: 32px;\n",
              "      padding: 0 0 0 0;\n",
              "      width: 32px;\n",
              "    }\n",
              "\n",
              "    .colab-df-convert:hover {\n",
              "      background-color: #E2EBFA;\n",
              "      box-shadow: 0px 1px 2px rgba(60, 64, 67, 0.3), 0px 1px 3px 1px rgba(60, 64, 67, 0.15);\n",
              "      fill: #174EA6;\n",
              "    }\n",
              "\n",
              "    [theme=dark] .colab-df-convert {\n",
              "      background-color: #3B4455;\n",
              "      fill: #D2E3FC;\n",
              "    }\n",
              "\n",
              "    [theme=dark] .colab-df-convert:hover {\n",
              "      background-color: #434B5C;\n",
              "      box-shadow: 0px 1px 3px 1px rgba(0, 0, 0, 0.15);\n",
              "      filter: drop-shadow(0px 1px 2px rgba(0, 0, 0, 0.3));\n",
              "      fill: #FFFFFF;\n",
              "    }\n",
              "  </style>\n",
              "\n",
              "      <script>\n",
              "        const buttonEl =\n",
              "          document.querySelector('#df-ad31caaa-2082-4194-8164-5ff4d1910ea2 button.colab-df-convert');\n",
              "        buttonEl.style.display =\n",
              "          google.colab.kernel.accessAllowed ? 'block' : 'none';\n",
              "\n",
              "        async function convertToInteractive(key) {\n",
              "          const element = document.querySelector('#df-ad31caaa-2082-4194-8164-5ff4d1910ea2');\n",
              "          const dataTable =\n",
              "            await google.colab.kernel.invokeFunction('convertToInteractive',\n",
              "                                                     [key], {});\n",
              "          if (!dataTable) return;\n",
              "\n",
              "          const docLinkHtml = 'Like what you see? Visit the ' +\n",
              "            '<a target=\"_blank\" href=https://colab.research.google.com/notebooks/data_table.ipynb>data table notebook</a>'\n",
              "            + ' to learn more about interactive tables.';\n",
              "          element.innerHTML = '';\n",
              "          dataTable['output_type'] = 'display_data';\n",
              "          await google.colab.output.renderOutput(dataTable, element);\n",
              "          const docLink = document.createElement('div');\n",
              "          docLink.innerHTML = docLinkHtml;\n",
              "          element.appendChild(docLink);\n",
              "        }\n",
              "      </script>\n",
              "    </div>\n",
              "  </div>\n",
              "  "
            ]
          },
          "metadata": {},
          "execution_count": 31
        }
      ]
    },
    {
      "cell_type": "code",
      "source": [
        "outliers_z = df[(df.Calories<-3) | (df.Calories>3)]\n",
        "outliers_z.shape"
      ],
      "metadata": {
        "colab": {
          "base_uri": "https://localhost:8080/"
        },
        "id": "9OPBLZbDniK7",
        "outputId": "15513909-a88f-41e8-ea69-e0809cf3aaa6"
      },
      "execution_count": null,
      "outputs": [
        {
          "output_type": "execute_result",
          "data": {
            "text/plain": [
              "(936, 16)"
            ]
          },
          "metadata": {},
          "execution_count": 32
        }
      ]
    },
    {
      "cell_type": "code",
      "source": [
        "df.shape[0]-outliers_z.shape[0]"
      ],
      "metadata": {
        "colab": {
          "base_uri": "https://localhost:8080/"
        },
        "id": "7g1FEJsdniPJ",
        "outputId": "05dadf9b-f53f-4c25-d80d-782d067e428e"
      },
      "execution_count": null,
      "outputs": [
        {
          "output_type": "execute_result",
          "data": {
            "text/plain": [
              "4"
            ]
          },
          "metadata": {},
          "execution_count": 33
        }
      ]
    },
    {
      "cell_type": "code",
      "source": [
        "df4=df[(df.Calories>-3)& (df.Calories<4)]"
      ],
      "metadata": {
        "id": "_O9R_-WWnifU"
      },
      "execution_count": null,
      "outputs": []
    },
    {
      "cell_type": "code",
      "source": [
        "df.shape[0]-df4.shape[0]"
      ],
      "metadata": {
        "colab": {
          "base_uri": "https://localhost:8080/"
        },
        "id": "UZ1CkUFtnijR",
        "outputId": "2172587f-a01a-4a24-b35f-ee2b406f5033"
      },
      "execution_count": null,
      "outputs": [
        {
          "output_type": "execute_result",
          "data": {
            "text/plain": [
              "936"
            ]
          },
          "metadata": {},
          "execution_count": 38
        }
      ]
    },
    {
      "cell_type": "code",
      "source": [
        "df.describe()"
      ],
      "metadata": {
        "id": "d5WpXPw0qk1J",
        "colab": {
          "base_uri": "https://localhost:8080/",
          "height": 364
        },
        "outputId": "0fd963ed-32f9-4c5e-ecaf-51abbbd9bd09"
      },
      "execution_count": 5,
      "outputs": [
        {
          "output_type": "execute_result",
          "data": {
            "text/plain": [
              "                 Id    TotalSteps  TotalDistance  TrackerDistance  \\\n",
              "count  9.400000e+02    940.000000     940.000000       940.000000   \n",
              "mean   4.855407e+09   7637.910638       5.489702         5.475351   \n",
              "std    2.424805e+09   5087.150742       3.924606         3.907276   \n",
              "min    1.503960e+09      0.000000       0.000000         0.000000   \n",
              "25%    2.320127e+09   3789.750000       2.620000         2.620000   \n",
              "50%    4.445115e+09   7405.500000       5.245000         5.245000   \n",
              "75%    6.962181e+09  10727.000000       7.712500         7.710000   \n",
              "max    8.877689e+09  36019.000000      28.030001        28.030001   \n",
              "\n",
              "       LoggedActivitiesDistance  VeryActiveDistance  ModeratelyActiveDistance  \\\n",
              "count                940.000000          940.000000                940.000000   \n",
              "mean                   0.108171            1.502681                  0.567543   \n",
              "std                    0.619897            2.658941                  0.883580   \n",
              "min                    0.000000            0.000000                  0.000000   \n",
              "25%                    0.000000            0.000000                  0.000000   \n",
              "50%                    0.000000            0.210000                  0.240000   \n",
              "75%                    0.000000            2.052500                  0.800000   \n",
              "max                    4.942142           21.920000                  6.480000   \n",
              "\n",
              "       LightActiveDistance  SedentaryActiveDistance  VeryActiveMinutes  \\\n",
              "count           940.000000               940.000000         940.000000   \n",
              "mean              3.340819                 0.001606          21.164894   \n",
              "std               2.040655                 0.007346          32.844803   \n",
              "min               0.000000                 0.000000           0.000000   \n",
              "25%               1.945000                 0.000000           0.000000   \n",
              "50%               3.365000                 0.000000           4.000000   \n",
              "75%               4.782500                 0.000000          32.000000   \n",
              "max              10.710000                 0.110000         210.000000   \n",
              "\n",
              "       FairlyActiveMinutes  LightlyActiveMinutes  SedentaryMinutes  \\\n",
              "count           940.000000            940.000000        940.000000   \n",
              "mean             13.564894            192.812766        991.210638   \n",
              "std              19.987404            109.174700        301.267437   \n",
              "min               0.000000              0.000000          0.000000   \n",
              "25%               0.000000            127.000000        729.750000   \n",
              "50%               6.000000            199.000000       1057.500000   \n",
              "75%              19.000000            264.000000       1229.500000   \n",
              "max             143.000000            518.000000       1440.000000   \n",
              "\n",
              "          Calories  \n",
              "count   940.000000  \n",
              "mean   2303.609574  \n",
              "std     718.166862  \n",
              "min       0.000000  \n",
              "25%    1828.500000  \n",
              "50%    2134.000000  \n",
              "75%    2793.250000  \n",
              "max    4900.000000  "
            ],
            "text/html": [
              "\n",
              "  <div id=\"df-f68acd3a-d10a-4a1d-8000-ca3cd08d0f5c\">\n",
              "    <div class=\"colab-df-container\">\n",
              "      <div>\n",
              "<style scoped>\n",
              "    .dataframe tbody tr th:only-of-type {\n",
              "        vertical-align: middle;\n",
              "    }\n",
              "\n",
              "    .dataframe tbody tr th {\n",
              "        vertical-align: top;\n",
              "    }\n",
              "\n",
              "    .dataframe thead th {\n",
              "        text-align: right;\n",
              "    }\n",
              "</style>\n",
              "<table border=\"1\" class=\"dataframe\">\n",
              "  <thead>\n",
              "    <tr style=\"text-align: right;\">\n",
              "      <th></th>\n",
              "      <th>Id</th>\n",
              "      <th>TotalSteps</th>\n",
              "      <th>TotalDistance</th>\n",
              "      <th>TrackerDistance</th>\n",
              "      <th>LoggedActivitiesDistance</th>\n",
              "      <th>VeryActiveDistance</th>\n",
              "      <th>ModeratelyActiveDistance</th>\n",
              "      <th>LightActiveDistance</th>\n",
              "      <th>SedentaryActiveDistance</th>\n",
              "      <th>VeryActiveMinutes</th>\n",
              "      <th>FairlyActiveMinutes</th>\n",
              "      <th>LightlyActiveMinutes</th>\n",
              "      <th>SedentaryMinutes</th>\n",
              "      <th>Calories</th>\n",
              "    </tr>\n",
              "  </thead>\n",
              "  <tbody>\n",
              "    <tr>\n",
              "      <th>count</th>\n",
              "      <td>9.400000e+02</td>\n",
              "      <td>940.000000</td>\n",
              "      <td>940.000000</td>\n",
              "      <td>940.000000</td>\n",
              "      <td>940.000000</td>\n",
              "      <td>940.000000</td>\n",
              "      <td>940.000000</td>\n",
              "      <td>940.000000</td>\n",
              "      <td>940.000000</td>\n",
              "      <td>940.000000</td>\n",
              "      <td>940.000000</td>\n",
              "      <td>940.000000</td>\n",
              "      <td>940.000000</td>\n",
              "      <td>940.000000</td>\n",
              "    </tr>\n",
              "    <tr>\n",
              "      <th>mean</th>\n",
              "      <td>4.855407e+09</td>\n",
              "      <td>7637.910638</td>\n",
              "      <td>5.489702</td>\n",
              "      <td>5.475351</td>\n",
              "      <td>0.108171</td>\n",
              "      <td>1.502681</td>\n",
              "      <td>0.567543</td>\n",
              "      <td>3.340819</td>\n",
              "      <td>0.001606</td>\n",
              "      <td>21.164894</td>\n",
              "      <td>13.564894</td>\n",
              "      <td>192.812766</td>\n",
              "      <td>991.210638</td>\n",
              "      <td>2303.609574</td>\n",
              "    </tr>\n",
              "    <tr>\n",
              "      <th>std</th>\n",
              "      <td>2.424805e+09</td>\n",
              "      <td>5087.150742</td>\n",
              "      <td>3.924606</td>\n",
              "      <td>3.907276</td>\n",
              "      <td>0.619897</td>\n",
              "      <td>2.658941</td>\n",
              "      <td>0.883580</td>\n",
              "      <td>2.040655</td>\n",
              "      <td>0.007346</td>\n",
              "      <td>32.844803</td>\n",
              "      <td>19.987404</td>\n",
              "      <td>109.174700</td>\n",
              "      <td>301.267437</td>\n",
              "      <td>718.166862</td>\n",
              "    </tr>\n",
              "    <tr>\n",
              "      <th>min</th>\n",
              "      <td>1.503960e+09</td>\n",
              "      <td>0.000000</td>\n",
              "      <td>0.000000</td>\n",
              "      <td>0.000000</td>\n",
              "      <td>0.000000</td>\n",
              "      <td>0.000000</td>\n",
              "      <td>0.000000</td>\n",
              "      <td>0.000000</td>\n",
              "      <td>0.000000</td>\n",
              "      <td>0.000000</td>\n",
              "      <td>0.000000</td>\n",
              "      <td>0.000000</td>\n",
              "      <td>0.000000</td>\n",
              "      <td>0.000000</td>\n",
              "    </tr>\n",
              "    <tr>\n",
              "      <th>25%</th>\n",
              "      <td>2.320127e+09</td>\n",
              "      <td>3789.750000</td>\n",
              "      <td>2.620000</td>\n",
              "      <td>2.620000</td>\n",
              "      <td>0.000000</td>\n",
              "      <td>0.000000</td>\n",
              "      <td>0.000000</td>\n",
              "      <td>1.945000</td>\n",
              "      <td>0.000000</td>\n",
              "      <td>0.000000</td>\n",
              "      <td>0.000000</td>\n",
              "      <td>127.000000</td>\n",
              "      <td>729.750000</td>\n",
              "      <td>1828.500000</td>\n",
              "    </tr>\n",
              "    <tr>\n",
              "      <th>50%</th>\n",
              "      <td>4.445115e+09</td>\n",
              "      <td>7405.500000</td>\n",
              "      <td>5.245000</td>\n",
              "      <td>5.245000</td>\n",
              "      <td>0.000000</td>\n",
              "      <td>0.210000</td>\n",
              "      <td>0.240000</td>\n",
              "      <td>3.365000</td>\n",
              "      <td>0.000000</td>\n",
              "      <td>4.000000</td>\n",
              "      <td>6.000000</td>\n",
              "      <td>199.000000</td>\n",
              "      <td>1057.500000</td>\n",
              "      <td>2134.000000</td>\n",
              "    </tr>\n",
              "    <tr>\n",
              "      <th>75%</th>\n",
              "      <td>6.962181e+09</td>\n",
              "      <td>10727.000000</td>\n",
              "      <td>7.712500</td>\n",
              "      <td>7.710000</td>\n",
              "      <td>0.000000</td>\n",
              "      <td>2.052500</td>\n",
              "      <td>0.800000</td>\n",
              "      <td>4.782500</td>\n",
              "      <td>0.000000</td>\n",
              "      <td>32.000000</td>\n",
              "      <td>19.000000</td>\n",
              "      <td>264.000000</td>\n",
              "      <td>1229.500000</td>\n",
              "      <td>2793.250000</td>\n",
              "    </tr>\n",
              "    <tr>\n",
              "      <th>max</th>\n",
              "      <td>8.877689e+09</td>\n",
              "      <td>36019.000000</td>\n",
              "      <td>28.030001</td>\n",
              "      <td>28.030001</td>\n",
              "      <td>4.942142</td>\n",
              "      <td>21.920000</td>\n",
              "      <td>6.480000</td>\n",
              "      <td>10.710000</td>\n",
              "      <td>0.110000</td>\n",
              "      <td>210.000000</td>\n",
              "      <td>143.000000</td>\n",
              "      <td>518.000000</td>\n",
              "      <td>1440.000000</td>\n",
              "      <td>4900.000000</td>\n",
              "    </tr>\n",
              "  </tbody>\n",
              "</table>\n",
              "</div>\n",
              "      <button class=\"colab-df-convert\" onclick=\"convertToInteractive('df-f68acd3a-d10a-4a1d-8000-ca3cd08d0f5c')\"\n",
              "              title=\"Convert this dataframe to an interactive table.\"\n",
              "              style=\"display:none;\">\n",
              "        \n",
              "  <svg xmlns=\"http://www.w3.org/2000/svg\" height=\"24px\"viewBox=\"0 0 24 24\"\n",
              "       width=\"24px\">\n",
              "    <path d=\"M0 0h24v24H0V0z\" fill=\"none\"/>\n",
              "    <path d=\"M18.56 5.44l.94 2.06.94-2.06 2.06-.94-2.06-.94-.94-2.06-.94 2.06-2.06.94zm-11 1L8.5 8.5l.94-2.06 2.06-.94-2.06-.94L8.5 2.5l-.94 2.06-2.06.94zm10 10l.94 2.06.94-2.06 2.06-.94-2.06-.94-.94-2.06-.94 2.06-2.06.94z\"/><path d=\"M17.41 7.96l-1.37-1.37c-.4-.4-.92-.59-1.43-.59-.52 0-1.04.2-1.43.59L10.3 9.45l-7.72 7.72c-.78.78-.78 2.05 0 2.83L4 21.41c.39.39.9.59 1.41.59.51 0 1.02-.2 1.41-.59l7.78-7.78 2.81-2.81c.8-.78.8-2.07 0-2.86zM5.41 20L4 18.59l7.72-7.72 1.47 1.35L5.41 20z\"/>\n",
              "  </svg>\n",
              "      </button>\n",
              "      \n",
              "  <style>\n",
              "    .colab-df-container {\n",
              "      display:flex;\n",
              "      flex-wrap:wrap;\n",
              "      gap: 12px;\n",
              "    }\n",
              "\n",
              "    .colab-df-convert {\n",
              "      background-color: #E8F0FE;\n",
              "      border: none;\n",
              "      border-radius: 50%;\n",
              "      cursor: pointer;\n",
              "      display: none;\n",
              "      fill: #1967D2;\n",
              "      height: 32px;\n",
              "      padding: 0 0 0 0;\n",
              "      width: 32px;\n",
              "    }\n",
              "\n",
              "    .colab-df-convert:hover {\n",
              "      background-color: #E2EBFA;\n",
              "      box-shadow: 0px 1px 2px rgba(60, 64, 67, 0.3), 0px 1px 3px 1px rgba(60, 64, 67, 0.15);\n",
              "      fill: #174EA6;\n",
              "    }\n",
              "\n",
              "    [theme=dark] .colab-df-convert {\n",
              "      background-color: #3B4455;\n",
              "      fill: #D2E3FC;\n",
              "    }\n",
              "\n",
              "    [theme=dark] .colab-df-convert:hover {\n",
              "      background-color: #434B5C;\n",
              "      box-shadow: 0px 1px 3px 1px rgba(0, 0, 0, 0.15);\n",
              "      filter: drop-shadow(0px 1px 2px rgba(0, 0, 0, 0.3));\n",
              "      fill: #FFFFFF;\n",
              "    }\n",
              "  </style>\n",
              "\n",
              "      <script>\n",
              "        const buttonEl =\n",
              "          document.querySelector('#df-f68acd3a-d10a-4a1d-8000-ca3cd08d0f5c button.colab-df-convert');\n",
              "        buttonEl.style.display =\n",
              "          google.colab.kernel.accessAllowed ? 'block' : 'none';\n",
              "\n",
              "        async function convertToInteractive(key) {\n",
              "          const element = document.querySelector('#df-f68acd3a-d10a-4a1d-8000-ca3cd08d0f5c');\n",
              "          const dataTable =\n",
              "            await google.colab.kernel.invokeFunction('convertToInteractive',\n",
              "                                                     [key], {});\n",
              "          if (!dataTable) return;\n",
              "\n",
              "          const docLinkHtml = 'Like what you see? Visit the ' +\n",
              "            '<a target=\"_blank\" href=https://colab.research.google.com/notebooks/data_table.ipynb>data table notebook</a>'\n",
              "            + ' to learn more about interactive tables.';\n",
              "          element.innerHTML = '';\n",
              "          dataTable['output_type'] = 'display_data';\n",
              "          await google.colab.output.renderOutput(dataTable, element);\n",
              "          const docLink = document.createElement('div');\n",
              "          docLink.innerHTML = docLinkHtml;\n",
              "          element.appendChild(docLink);\n",
              "        }\n",
              "      </script>\n",
              "    </div>\n",
              "  </div>\n",
              "  "
            ]
          },
          "metadata": {},
          "execution_count": 5
        }
      ]
    },
    {
      "cell_type": "code",
      "source": [
        "df[\"TotalSteps\"].describe()"
      ],
      "metadata": {
        "id": "xPBaFBtIqk55",
        "colab": {
          "base_uri": "https://localhost:8080/"
        },
        "outputId": "b8aae713-ffc7-4fc5-c936-6f5de227944c"
      },
      "execution_count": 6,
      "outputs": [
        {
          "output_type": "execute_result",
          "data": {
            "text/plain": [
              "count      940.000000\n",
              "mean      7637.910638\n",
              "std       5087.150742\n",
              "min          0.000000\n",
              "25%       3789.750000\n",
              "50%       7405.500000\n",
              "75%      10727.000000\n",
              "max      36019.000000\n",
              "Name: TotalSteps, dtype: float64"
            ]
          },
          "metadata": {},
          "execution_count": 6
        }
      ]
    },
    {
      "cell_type": "code",
      "source": [
        "percentile_99 =df.TotalSteps.quantile(0.99)"
      ],
      "metadata": {
        "id": "kfTg822-ifN4"
      },
      "execution_count": 13,
      "outputs": []
    },
    {
      "cell_type": "code",
      "source": [
        "outliers = df[df.TotalSteps>percentile_99]\n",
        "outliers.shape\n"
      ],
      "metadata": {
        "colab": {
          "base_uri": "https://localhost:8080/"
        },
        "id": "JvVugbxOidog",
        "outputId": "1fae3683-66f9-4031-c917-0449a54ca762"
      },
      "execution_count": 19,
      "outputs": [
        {
          "output_type": "execute_result",
          "data": {
            "text/plain": [
              "(10, 15)"
            ]
          },
          "metadata": {},
          "execution_count": 19
        }
      ]
    },
    {
      "cell_type": "markdown",
      "source": [
        "#Remove outliers using percentile"
      ],
      "metadata": {
        "id": "L8xEQUh9lhdw"
      }
    },
    {
      "cell_type": "code",
      "source": [
        "df_no_outliers = df[df.TotalSteps<=percentile_99]\n",
        "df_no_outliers"
      ],
      "metadata": {
        "colab": {
          "base_uri": "https://localhost:8080/",
          "height": 488
        },
        "id": "9-C_bwZwkIvh",
        "outputId": "9f0a5dfa-d66a-456f-a64f-b5a0176b86f8"
      },
      "execution_count": 21,
      "outputs": [
        {
          "output_type": "execute_result",
          "data": {
            "text/plain": [
              "             Id ActivityDate  TotalSteps  TotalDistance  TrackerDistance  \\\n",
              "0    1503960366    4/12/2016       13162       8.500000         8.500000   \n",
              "1    1503960366    4/13/2016       10735       6.970000         6.970000   \n",
              "2    1503960366    4/14/2016       10460       6.740000         6.740000   \n",
              "3    1503960366    4/15/2016        9762       6.280000         6.280000   \n",
              "4    1503960366    4/16/2016       12669       8.160000         8.160000   \n",
              "..          ...          ...         ...            ...              ...   \n",
              "935  8877689391     5/8/2016       10686       8.110000         8.110000   \n",
              "936  8877689391     5/9/2016       20226      18.250000        18.250000   \n",
              "937  8877689391    5/10/2016       10733       8.150000         8.150000   \n",
              "938  8877689391    5/11/2016       21420      19.559999        19.559999   \n",
              "939  8877689391    5/12/2016        8064       6.120000         6.120000   \n",
              "\n",
              "     LoggedActivitiesDistance  VeryActiveDistance  ModeratelyActiveDistance  \\\n",
              "0                         0.0                1.88                      0.55   \n",
              "1                         0.0                1.57                      0.69   \n",
              "2                         0.0                2.44                      0.40   \n",
              "3                         0.0                2.14                      1.26   \n",
              "4                         0.0                2.71                      0.41   \n",
              "..                        ...                 ...                       ...   \n",
              "935                       0.0                1.08                      0.20   \n",
              "936                       0.0               11.10                      0.80   \n",
              "937                       0.0                1.35                      0.46   \n",
              "938                       0.0               13.22                      0.41   \n",
              "939                       0.0                1.82                      0.04   \n",
              "\n",
              "     LightActiveDistance  SedentaryActiveDistance  VeryActiveMinutes  \\\n",
              "0                   6.06                     0.00                 25   \n",
              "1                   4.71                     0.00                 21   \n",
              "2                   3.91                     0.00                 30   \n",
              "3                   2.83                     0.00                 29   \n",
              "4                   5.04                     0.00                 36   \n",
              "..                   ...                      ...                ...   \n",
              "935                 6.80                     0.00                 17   \n",
              "936                 6.24                     0.05                 73   \n",
              "937                 6.28                     0.00                 18   \n",
              "938                 5.89                     0.00                 88   \n",
              "939                 4.25                     0.00                 23   \n",
              "\n",
              "     FairlyActiveMinutes  LightlyActiveMinutes  SedentaryMinutes  Calories  \n",
              "0                     13                   328               728      1985  \n",
              "1                     19                   217               776      1797  \n",
              "2                     11                   181              1218      1776  \n",
              "3                     34                   209               726      1745  \n",
              "4                     10                   221               773      1863  \n",
              "..                   ...                   ...               ...       ...  \n",
              "935                    4                   245              1174      2847  \n",
              "936                   19                   217              1131      3710  \n",
              "937                   11                   224              1187      2832  \n",
              "938                   12                   213              1127      3832  \n",
              "939                    1                   137               770      1849  \n",
              "\n",
              "[930 rows x 15 columns]"
            ],
            "text/html": [
              "\n",
              "  <div id=\"df-f697595e-82a2-485e-9d3a-0b89863ac905\">\n",
              "    <div class=\"colab-df-container\">\n",
              "      <div>\n",
              "<style scoped>\n",
              "    .dataframe tbody tr th:only-of-type {\n",
              "        vertical-align: middle;\n",
              "    }\n",
              "\n",
              "    .dataframe tbody tr th {\n",
              "        vertical-align: top;\n",
              "    }\n",
              "\n",
              "    .dataframe thead th {\n",
              "        text-align: right;\n",
              "    }\n",
              "</style>\n",
              "<table border=\"1\" class=\"dataframe\">\n",
              "  <thead>\n",
              "    <tr style=\"text-align: right;\">\n",
              "      <th></th>\n",
              "      <th>Id</th>\n",
              "      <th>ActivityDate</th>\n",
              "      <th>TotalSteps</th>\n",
              "      <th>TotalDistance</th>\n",
              "      <th>TrackerDistance</th>\n",
              "      <th>LoggedActivitiesDistance</th>\n",
              "      <th>VeryActiveDistance</th>\n",
              "      <th>ModeratelyActiveDistance</th>\n",
              "      <th>LightActiveDistance</th>\n",
              "      <th>SedentaryActiveDistance</th>\n",
              "      <th>VeryActiveMinutes</th>\n",
              "      <th>FairlyActiveMinutes</th>\n",
              "      <th>LightlyActiveMinutes</th>\n",
              "      <th>SedentaryMinutes</th>\n",
              "      <th>Calories</th>\n",
              "    </tr>\n",
              "  </thead>\n",
              "  <tbody>\n",
              "    <tr>\n",
              "      <th>0</th>\n",
              "      <td>1503960366</td>\n",
              "      <td>4/12/2016</td>\n",
              "      <td>13162</td>\n",
              "      <td>8.500000</td>\n",
              "      <td>8.500000</td>\n",
              "      <td>0.0</td>\n",
              "      <td>1.88</td>\n",
              "      <td>0.55</td>\n",
              "      <td>6.06</td>\n",
              "      <td>0.00</td>\n",
              "      <td>25</td>\n",
              "      <td>13</td>\n",
              "      <td>328</td>\n",
              "      <td>728</td>\n",
              "      <td>1985</td>\n",
              "    </tr>\n",
              "    <tr>\n",
              "      <th>1</th>\n",
              "      <td>1503960366</td>\n",
              "      <td>4/13/2016</td>\n",
              "      <td>10735</td>\n",
              "      <td>6.970000</td>\n",
              "      <td>6.970000</td>\n",
              "      <td>0.0</td>\n",
              "      <td>1.57</td>\n",
              "      <td>0.69</td>\n",
              "      <td>4.71</td>\n",
              "      <td>0.00</td>\n",
              "      <td>21</td>\n",
              "      <td>19</td>\n",
              "      <td>217</td>\n",
              "      <td>776</td>\n",
              "      <td>1797</td>\n",
              "    </tr>\n",
              "    <tr>\n",
              "      <th>2</th>\n",
              "      <td>1503960366</td>\n",
              "      <td>4/14/2016</td>\n",
              "      <td>10460</td>\n",
              "      <td>6.740000</td>\n",
              "      <td>6.740000</td>\n",
              "      <td>0.0</td>\n",
              "      <td>2.44</td>\n",
              "      <td>0.40</td>\n",
              "      <td>3.91</td>\n",
              "      <td>0.00</td>\n",
              "      <td>30</td>\n",
              "      <td>11</td>\n",
              "      <td>181</td>\n",
              "      <td>1218</td>\n",
              "      <td>1776</td>\n",
              "    </tr>\n",
              "    <tr>\n",
              "      <th>3</th>\n",
              "      <td>1503960366</td>\n",
              "      <td>4/15/2016</td>\n",
              "      <td>9762</td>\n",
              "      <td>6.280000</td>\n",
              "      <td>6.280000</td>\n",
              "      <td>0.0</td>\n",
              "      <td>2.14</td>\n",
              "      <td>1.26</td>\n",
              "      <td>2.83</td>\n",
              "      <td>0.00</td>\n",
              "      <td>29</td>\n",
              "      <td>34</td>\n",
              "      <td>209</td>\n",
              "      <td>726</td>\n",
              "      <td>1745</td>\n",
              "    </tr>\n",
              "    <tr>\n",
              "      <th>4</th>\n",
              "      <td>1503960366</td>\n",
              "      <td>4/16/2016</td>\n",
              "      <td>12669</td>\n",
              "      <td>8.160000</td>\n",
              "      <td>8.160000</td>\n",
              "      <td>0.0</td>\n",
              "      <td>2.71</td>\n",
              "      <td>0.41</td>\n",
              "      <td>5.04</td>\n",
              "      <td>0.00</td>\n",
              "      <td>36</td>\n",
              "      <td>10</td>\n",
              "      <td>221</td>\n",
              "      <td>773</td>\n",
              "      <td>1863</td>\n",
              "    </tr>\n",
              "    <tr>\n",
              "      <th>...</th>\n",
              "      <td>...</td>\n",
              "      <td>...</td>\n",
              "      <td>...</td>\n",
              "      <td>...</td>\n",
              "      <td>...</td>\n",
              "      <td>...</td>\n",
              "      <td>...</td>\n",
              "      <td>...</td>\n",
              "      <td>...</td>\n",
              "      <td>...</td>\n",
              "      <td>...</td>\n",
              "      <td>...</td>\n",
              "      <td>...</td>\n",
              "      <td>...</td>\n",
              "      <td>...</td>\n",
              "    </tr>\n",
              "    <tr>\n",
              "      <th>935</th>\n",
              "      <td>8877689391</td>\n",
              "      <td>5/8/2016</td>\n",
              "      <td>10686</td>\n",
              "      <td>8.110000</td>\n",
              "      <td>8.110000</td>\n",
              "      <td>0.0</td>\n",
              "      <td>1.08</td>\n",
              "      <td>0.20</td>\n",
              "      <td>6.80</td>\n",
              "      <td>0.00</td>\n",
              "      <td>17</td>\n",
              "      <td>4</td>\n",
              "      <td>245</td>\n",
              "      <td>1174</td>\n",
              "      <td>2847</td>\n",
              "    </tr>\n",
              "    <tr>\n",
              "      <th>936</th>\n",
              "      <td>8877689391</td>\n",
              "      <td>5/9/2016</td>\n",
              "      <td>20226</td>\n",
              "      <td>18.250000</td>\n",
              "      <td>18.250000</td>\n",
              "      <td>0.0</td>\n",
              "      <td>11.10</td>\n",
              "      <td>0.80</td>\n",
              "      <td>6.24</td>\n",
              "      <td>0.05</td>\n",
              "      <td>73</td>\n",
              "      <td>19</td>\n",
              "      <td>217</td>\n",
              "      <td>1131</td>\n",
              "      <td>3710</td>\n",
              "    </tr>\n",
              "    <tr>\n",
              "      <th>937</th>\n",
              "      <td>8877689391</td>\n",
              "      <td>5/10/2016</td>\n",
              "      <td>10733</td>\n",
              "      <td>8.150000</td>\n",
              "      <td>8.150000</td>\n",
              "      <td>0.0</td>\n",
              "      <td>1.35</td>\n",
              "      <td>0.46</td>\n",
              "      <td>6.28</td>\n",
              "      <td>0.00</td>\n",
              "      <td>18</td>\n",
              "      <td>11</td>\n",
              "      <td>224</td>\n",
              "      <td>1187</td>\n",
              "      <td>2832</td>\n",
              "    </tr>\n",
              "    <tr>\n",
              "      <th>938</th>\n",
              "      <td>8877689391</td>\n",
              "      <td>5/11/2016</td>\n",
              "      <td>21420</td>\n",
              "      <td>19.559999</td>\n",
              "      <td>19.559999</td>\n",
              "      <td>0.0</td>\n",
              "      <td>13.22</td>\n",
              "      <td>0.41</td>\n",
              "      <td>5.89</td>\n",
              "      <td>0.00</td>\n",
              "      <td>88</td>\n",
              "      <td>12</td>\n",
              "      <td>213</td>\n",
              "      <td>1127</td>\n",
              "      <td>3832</td>\n",
              "    </tr>\n",
              "    <tr>\n",
              "      <th>939</th>\n",
              "      <td>8877689391</td>\n",
              "      <td>5/12/2016</td>\n",
              "      <td>8064</td>\n",
              "      <td>6.120000</td>\n",
              "      <td>6.120000</td>\n",
              "      <td>0.0</td>\n",
              "      <td>1.82</td>\n",
              "      <td>0.04</td>\n",
              "      <td>4.25</td>\n",
              "      <td>0.00</td>\n",
              "      <td>23</td>\n",
              "      <td>1</td>\n",
              "      <td>137</td>\n",
              "      <td>770</td>\n",
              "      <td>1849</td>\n",
              "    </tr>\n",
              "  </tbody>\n",
              "</table>\n",
              "<p>930 rows × 15 columns</p>\n",
              "</div>\n",
              "      <button class=\"colab-df-convert\" onclick=\"convertToInteractive('df-f697595e-82a2-485e-9d3a-0b89863ac905')\"\n",
              "              title=\"Convert this dataframe to an interactive table.\"\n",
              "              style=\"display:none;\">\n",
              "        \n",
              "  <svg xmlns=\"http://www.w3.org/2000/svg\" height=\"24px\"viewBox=\"0 0 24 24\"\n",
              "       width=\"24px\">\n",
              "    <path d=\"M0 0h24v24H0V0z\" fill=\"none\"/>\n",
              "    <path d=\"M18.56 5.44l.94 2.06.94-2.06 2.06-.94-2.06-.94-.94-2.06-.94 2.06-2.06.94zm-11 1L8.5 8.5l.94-2.06 2.06-.94-2.06-.94L8.5 2.5l-.94 2.06-2.06.94zm10 10l.94 2.06.94-2.06 2.06-.94-2.06-.94-.94-2.06-.94 2.06-2.06.94z\"/><path d=\"M17.41 7.96l-1.37-1.37c-.4-.4-.92-.59-1.43-.59-.52 0-1.04.2-1.43.59L10.3 9.45l-7.72 7.72c-.78.78-.78 2.05 0 2.83L4 21.41c.39.39.9.59 1.41.59.51 0 1.02-.2 1.41-.59l7.78-7.78 2.81-2.81c.8-.78.8-2.07 0-2.86zM5.41 20L4 18.59l7.72-7.72 1.47 1.35L5.41 20z\"/>\n",
              "  </svg>\n",
              "      </button>\n",
              "      \n",
              "  <style>\n",
              "    .colab-df-container {\n",
              "      display:flex;\n",
              "      flex-wrap:wrap;\n",
              "      gap: 12px;\n",
              "    }\n",
              "\n",
              "    .colab-df-convert {\n",
              "      background-color: #E8F0FE;\n",
              "      border: none;\n",
              "      border-radius: 50%;\n",
              "      cursor: pointer;\n",
              "      display: none;\n",
              "      fill: #1967D2;\n",
              "      height: 32px;\n",
              "      padding: 0 0 0 0;\n",
              "      width: 32px;\n",
              "    }\n",
              "\n",
              "    .colab-df-convert:hover {\n",
              "      background-color: #E2EBFA;\n",
              "      box-shadow: 0px 1px 2px rgba(60, 64, 67, 0.3), 0px 1px 3px 1px rgba(60, 64, 67, 0.15);\n",
              "      fill: #174EA6;\n",
              "    }\n",
              "\n",
              "    [theme=dark] .colab-df-convert {\n",
              "      background-color: #3B4455;\n",
              "      fill: #D2E3FC;\n",
              "    }\n",
              "\n",
              "    [theme=dark] .colab-df-convert:hover {\n",
              "      background-color: #434B5C;\n",
              "      box-shadow: 0px 1px 3px 1px rgba(0, 0, 0, 0.15);\n",
              "      filter: drop-shadow(0px 1px 2px rgba(0, 0, 0, 0.3));\n",
              "      fill: #FFFFFF;\n",
              "    }\n",
              "  </style>\n",
              "\n",
              "      <script>\n",
              "        const buttonEl =\n",
              "          document.querySelector('#df-f697595e-82a2-485e-9d3a-0b89863ac905 button.colab-df-convert');\n",
              "        buttonEl.style.display =\n",
              "          google.colab.kernel.accessAllowed ? 'block' : 'none';\n",
              "\n",
              "        async function convertToInteractive(key) {\n",
              "          const element = document.querySelector('#df-f697595e-82a2-485e-9d3a-0b89863ac905');\n",
              "          const dataTable =\n",
              "            await google.colab.kernel.invokeFunction('convertToInteractive',\n",
              "                                                     [key], {});\n",
              "          if (!dataTable) return;\n",
              "\n",
              "          const docLinkHtml = 'Like what you see? Visit the ' +\n",
              "            '<a target=\"_blank\" href=https://colab.research.google.com/notebooks/data_table.ipynb>data table notebook</a>'\n",
              "            + ' to learn more about interactive tables.';\n",
              "          element.innerHTML = '';\n",
              "          dataTable['output_type'] = 'display_data';\n",
              "          await google.colab.output.renderOutput(dataTable, element);\n",
              "          const docLink = document.createElement('div');\n",
              "          docLink.innerHTML = docLinkHtml;\n",
              "          element.appendChild(docLink);\n",
              "        }\n",
              "      </script>\n",
              "    </div>\n",
              "  </div>\n",
              "  "
            ]
          },
          "metadata": {},
          "execution_count": 21
        }
      ]
    },
    {
      "cell_type": "code",
      "source": [
        "df_no_outliers.shape[0]-outliers.shape[0]"
      ],
      "metadata": {
        "colab": {
          "base_uri": "https://localhost:8080/"
        },
        "id": "oPjV2OmJkIzK",
        "outputId": "41e68a2a-1ff8-42fa-c051-36d52ef222e3"
      },
      "execution_count": 22,
      "outputs": [
        {
          "output_type": "execute_result",
          "data": {
            "text/plain": [
              "920"
            ]
          },
          "metadata": {},
          "execution_count": 22
        }
      ]
    },
    {
      "cell_type": "code",
      "source": [
        "df.Calories.mean()"
      ],
      "metadata": {
        "colab": {
          "base_uri": "https://localhost:8080/"
        },
        "id": "jHbMRBazidrI",
        "outputId": "3bd5b4af-3fec-4d01-f6fb-ca52962bf333"
      },
      "execution_count": 23,
      "outputs": [
        {
          "output_type": "execute_result",
          "data": {
            "text/plain": [
              "2303.609574468085"
            ]
          },
          "metadata": {},
          "execution_count": 23
        }
      ]
    },
    {
      "cell_type": "code",
      "source": [
        "#not a good practice to fill missing values with mean\n",
        "df.fillna(df.Calories.mean())"
      ],
      "metadata": {
        "id": "u3VljZhGidt8"
      },
      "execution_count": null,
      "outputs": []
    },
    {
      "cell_type": "code",
      "source": [
        "#fill missing values with median or mode\n",
        "df.fillna(df.Calories.median())\n",
        "df.fillna(df.Calories.mode()[0])"
      ],
      "metadata": {
        "id": "TJ1MgKTcidw3"
      },
      "execution_count": null,
      "outputs": []
    },
    {
      "cell_type": "code",
      "source": [
        "x = [\"a,\",\"b\",\"c\",\"d\",\"e\",\"f\"]"
      ],
      "metadata": {
        "id": "vAP2uQX5p4Ka"
      },
      "execution_count": 31,
      "outputs": []
    },
    {
      "cell_type": "code",
      "source": [
        "x[:4:-2]"
      ],
      "metadata": {
        "colab": {
          "base_uri": "https://localhost:8080/"
        },
        "id": "iJOH_4jap5z8",
        "outputId": "048d69df-31b8-4082-a06e-724f5d3b125f"
      },
      "execution_count": 32,
      "outputs": [
        {
          "output_type": "execute_result",
          "data": {
            "text/plain": [
              "['f']"
            ]
          },
          "metadata": {},
          "execution_count": 32
        }
      ]
    }
  ]
}